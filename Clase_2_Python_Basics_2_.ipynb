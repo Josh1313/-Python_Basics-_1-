{
  "cells": [
    {
      "cell_type": "markdown",
      "metadata": {
        "id": "view-in-github",
        "colab_type": "text"
      },
      "source": [
        "<a href=\"https://colab.research.google.com/github/Josh1313/-Python_Basics-_1-/blob/main/Clase_2_Python_Basics_2_.ipynb\" target=\"_parent\"><img src=\"https://colab.research.google.com/assets/colab-badge.svg\" alt=\"Open In Colab\"/></a>"
      ]
    },
    {
      "cell_type": "markdown",
      "metadata": {
        "id": "0U0H0qL-nwBf"
      },
      "source": [
        "#  Python Basics 2!"
      ]
    },
    {
      "cell_type": "markdown",
      "metadata": {
        "id": "N9pGj6GhnwBf"
      },
      "source": [
        "## Listas"
      ]
    },
    {
      "cell_type": "markdown",
      "metadata": {
        "id": "9OMWENYVnwBg"
      },
      "source": [
        "1 - Construye una lista que contengo los siguientes elementos: manzanas, peras, plátanos, kiwis"
      ]
    },
    {
      "cell_type": "code",
      "execution_count": 1,
      "metadata": {
        "id": "G2Iyb_Mln2XK"
      },
      "outputs": [],
      "source": [
        "list1 = [\"manazanas\", \"peras\", \"platanos\", \"kiwis\"]"
      ]
    },
    {
      "cell_type": "code",
      "execution_count": 2,
      "metadata": {
        "colab": {
          "base_uri": "https://localhost:8080/"
        },
        "id": "gtfzBzUKofdj",
        "outputId": "e15448f1-8fd5-4f21-8f4a-941ea5cc465a"
      },
      "outputs": [
        {
          "output_type": "stream",
          "name": "stdout",
          "text": [
            "['manazanas', 'peras', 'platanos', 'kiwis']\n"
          ]
        }
      ],
      "source": [
        "print(list1)"
      ]
    },
    {
      "cell_type": "markdown",
      "metadata": {
        "id": "1BhuJ1E4nwBg"
      },
      "source": [
        "2 - ¿Cuál es el primer elemento de la lista? ¿Y el último? ¿Y el penúltimo?\n",
        "\n"
      ]
    },
    {
      "cell_type": "code",
      "execution_count": 3,
      "metadata": {
        "colab": {
          "base_uri": "https://localhost:8080/"
        },
        "id": "2BN2BjOIook4",
        "outputId": "b576819e-9ad3-4352-f060-30a3a70c825b"
      },
      "outputs": [
        {
          "output_type": "stream",
          "name": "stdout",
          "text": [
            "manazanas\n"
          ]
        }
      ],
      "source": [
        "print(list1[0])"
      ]
    },
    {
      "cell_type": "code",
      "execution_count": 4,
      "metadata": {
        "colab": {
          "base_uri": "https://localhost:8080/"
        },
        "id": "pzeKZj-9o8cq",
        "outputId": "8fcd8c75-3ca2-4ff7-a4d9-bc10a7d0f1ff"
      },
      "outputs": [
        {
          "output_type": "stream",
          "name": "stdout",
          "text": [
            "kiwis\n"
          ]
        }
      ],
      "source": [
        "print(list1[-1])"
      ]
    },
    {
      "cell_type": "code",
      "execution_count": 5,
      "metadata": {
        "colab": {
          "base_uri": "https://localhost:8080/"
        },
        "id": "qF7l6zyMpVYj",
        "outputId": "839e6cc4-94ae-417a-f654-9cac835436bc"
      },
      "outputs": [
        {
          "output_type": "stream",
          "name": "stdout",
          "text": [
            "platanos\n"
          ]
        }
      ],
      "source": [
        "print(list1[-2])"
      ]
    },
    {
      "cell_type": "markdown",
      "metadata": {
        "id": "XvTY8vV-nwBg"
      },
      "source": [
        "3 - Selecciona los 3 primeros elementos de la lista"
      ]
    },
    {
      "cell_type": "code",
      "execution_count": 6,
      "metadata": {
        "colab": {
          "base_uri": "https://localhost:8080/"
        },
        "id": "ADR8nNzBp3GV",
        "outputId": "7f81074f-8e67-4317-88d6-2e184c201159"
      },
      "outputs": [
        {
          "output_type": "stream",
          "name": "stdout",
          "text": [
            "['manazanas', 'peras', 'platanos']\n"
          ]
        }
      ],
      "source": [
        "print(list1[:3])"
      ]
    },
    {
      "cell_type": "markdown",
      "metadata": {
        "id": "ndAptADcnwBg"
      },
      "source": [
        "4 - Cambia las manzanas por pomelos\n",
        "\n"
      ]
    },
    {
      "cell_type": "code",
      "execution_count": 7,
      "metadata": {
        "id": "zXXNUdDfqiH5"
      },
      "outputs": [],
      "source": [
        "list1[0] = \"pomelos\""
      ]
    },
    {
      "cell_type": "code",
      "execution_count": 8,
      "metadata": {
        "colab": {
          "base_uri": "https://localhost:8080/"
        },
        "id": "Rx1Xeq_KrA8M",
        "outputId": "3f31ec90-3447-412b-c2ae-a47d125e4cad"
      },
      "outputs": [
        {
          "output_type": "execute_result",
          "data": {
            "text/plain": [
              "['pomelos', 'peras', 'platanos', 'kiwis']"
            ]
          },
          "metadata": {},
          "execution_count": 8
        }
      ],
      "source": [
        "list1"
      ]
    },
    {
      "cell_type": "markdown",
      "metadata": {
        "id": "tTDidWFfnwBg"
      },
      "source": [
        "5 - ¿Cuántos elementos tiene mi lista?"
      ]
    },
    {
      "cell_type": "code",
      "execution_count": 9,
      "metadata": {
        "colab": {
          "base_uri": "https://localhost:8080/"
        },
        "id": "jexqQdMGrOFK",
        "outputId": "005a4766-c4b2-41f8-a16b-254e8e1c353e"
      },
      "outputs": [
        {
          "output_type": "stream",
          "name": "stdout",
          "text": [
            "los elementos en la lista son 4\n"
          ]
        }
      ],
      "source": [
        "print('los elementos en la lista son',len(list1))"
      ]
    },
    {
      "cell_type": "markdown",
      "metadata": {
        "id": "S4HajsDDnwBh"
      },
      "source": [
        "6 - Añade a la lista una piña!\n",
        "\n"
      ]
    },
    {
      "cell_type": "code",
      "execution_count": 10,
      "metadata": {
        "id": "unpfuoCdr6ti"
      },
      "outputs": [],
      "source": [
        "x = list1"
      ]
    },
    {
      "cell_type": "code",
      "execution_count": 11,
      "metadata": {
        "colab": {
          "base_uri": "https://localhost:8080/"
        },
        "id": "wd1uoI-KsAda",
        "outputId": "10172fbf-c961-475f-b372-ca4af4357571"
      },
      "outputs": [
        {
          "output_type": "stream",
          "name": "stdout",
          "text": [
            "['pomelos', 'peras', 'platanos', 'kiwis', 'melon']\n"
          ]
        }
      ],
      "source": [
        "x.append(\"melon\")\n",
        "print(x)"
      ]
    },
    {
      "cell_type": "markdown",
      "metadata": {
        "id": "KB8NdbuMnwBh"
      },
      "source": [
        "7 - Añade como 2º elemento de la lista unas zanahorias\n",
        "\n"
      ]
    },
    {
      "cell_type": "code",
      "execution_count": 12,
      "metadata": {
        "colab": {
          "base_uri": "https://localhost:8080/"
        },
        "id": "IpXk5-yUsc5y",
        "outputId": "2c42497b-7901-42f6-a986-4c565c8fcb47"
      },
      "outputs": [
        {
          "output_type": "execute_result",
          "data": {
            "text/plain": [
              "['pomelos', 'peras', 'platanos', 'kiwis', 'melon']"
            ]
          },
          "metadata": {},
          "execution_count": 12
        }
      ],
      "source": [
        "x"
      ]
    },
    {
      "cell_type": "code",
      "execution_count": 13,
      "metadata": {
        "id": "g8jXRfcNsdO5"
      },
      "outputs": [],
      "source": [
        "x.insert(1,\"zanahorias\")"
      ]
    },
    {
      "cell_type": "code",
      "execution_count": 14,
      "metadata": {
        "colab": {
          "base_uri": "https://localhost:8080/"
        },
        "id": "GvUOycWNsxbg",
        "outputId": "fe5a75f9-73b7-463d-d541-45c4b613a6ed"
      },
      "outputs": [
        {
          "output_type": "execute_result",
          "data": {
            "text/plain": [
              "<function print>"
            ]
          },
          "metadata": {},
          "execution_count": 14
        }
      ],
      "source": [
        "print"
      ]
    },
    {
      "cell_type": "code",
      "source": [
        "x"
      ],
      "metadata": {
        "colab": {
          "base_uri": "https://localhost:8080/"
        },
        "id": "4YSJT5WCxz2j",
        "outputId": "744a94be-7a27-4041-dc2a-05ffcbe342a0"
      },
      "execution_count": 15,
      "outputs": [
        {
          "output_type": "execute_result",
          "data": {
            "text/plain": [
              "['pomelos', 'zanahorias', 'peras', 'platanos', 'kiwis', 'melon']"
            ]
          },
          "metadata": {},
          "execution_count": 15
        }
      ]
    },
    {
      "cell_type": "markdown",
      "metadata": {
        "id": "pykyeDRWnwBh"
      },
      "source": [
        "8 - Borra los plátanos."
      ]
    },
    {
      "cell_type": "code",
      "source": [
        "x.pop(3)"
      ],
      "metadata": {
        "colab": {
          "base_uri": "https://localhost:8080/",
          "height": 36
        },
        "id": "5HVFqAA3x3MI",
        "outputId": "64e2ea48-57a5-400c-cf27-8e5434e3b027"
      },
      "execution_count": 16,
      "outputs": [
        {
          "output_type": "execute_result",
          "data": {
            "text/plain": [
              "'platanos'"
            ],
            "application/vnd.google.colaboratory.intrinsic+json": {
              "type": "string"
            }
          },
          "metadata": {},
          "execution_count": 16
        }
      ]
    },
    {
      "cell_type": "markdown",
      "metadata": {
        "id": "leJ1EMRLnwBh"
      },
      "source": [
        "9 - No tengo tiempo de comprar tantas cosas, borra el último elemento de la lista!"
      ]
    },
    {
      "cell_type": "code",
      "source": [
        "x"
      ],
      "metadata": {
        "colab": {
          "base_uri": "https://localhost:8080/"
        },
        "id": "Fzm7nSpgypuE",
        "outputId": "bb8a2768-8962-44be-b85b-88a419cb3ce2"
      },
      "execution_count": 17,
      "outputs": [
        {
          "output_type": "execute_result",
          "data": {
            "text/plain": [
              "['pomelos', 'zanahorias', 'peras', 'kiwis', 'melon']"
            ]
          },
          "metadata": {},
          "execution_count": 17
        }
      ]
    },
    {
      "cell_type": "code",
      "source": [
        "x.pop()"
      ],
      "metadata": {
        "colab": {
          "base_uri": "https://localhost:8080/",
          "height": 36
        },
        "id": "apgs2jPtw_Ko",
        "outputId": "ba891ae3-b43b-4132-98cc-ce47008e9308"
      },
      "execution_count": 18,
      "outputs": [
        {
          "output_type": "execute_result",
          "data": {
            "text/plain": [
              "'melon'"
            ],
            "application/vnd.google.colaboratory.intrinsic+json": {
              "type": "string"
            }
          },
          "metadata": {},
          "execution_count": 18
        }
      ]
    },
    {
      "cell_type": "markdown",
      "metadata": {
        "id": "EUouQyZXnwBh"
      },
      "source": [
        "10 - Voy a cambiar mi ruta de la compra, revierte el orden de mi lista"
      ]
    },
    {
      "cell_type": "code",
      "source": [
        "x.reverse()"
      ],
      "metadata": {
        "id": "qqYAxQCpywkM"
      },
      "execution_count": 19,
      "outputs": []
    },
    {
      "cell_type": "code",
      "source": [
        "x"
      ],
      "metadata": {
        "colab": {
          "base_uri": "https://localhost:8080/"
        },
        "id": "Qd57hJoAzJ3h",
        "outputId": "30b7f63c-e59b-4b2c-89e6-bffaabfae287"
      },
      "execution_count": 20,
      "outputs": [
        {
          "output_type": "execute_result",
          "data": {
            "text/plain": [
              "['kiwis', 'peras', 'zanahorias', 'pomelos']"
            ]
          },
          "metadata": {},
          "execution_count": 20
        }
      ]
    },
    {
      "cell_type": "markdown",
      "metadata": {
        "id": "OvRnEylmnwBh"
      },
      "source": [
        "11 - Mi amigo me pide si le puedo ir a comprar unas cuantas cosas que necesita. Añadiré a mi lista su lista de la compra:\n",
        "- desodorante\n",
        "- champú\n",
        "- pan\n",
        "- gomina\n",
        "- chicles"
      ]
    },
    {
      "cell_type": "code",
      "source": [
        "x"
      ],
      "metadata": {
        "colab": {
          "base_uri": "https://localhost:8080/"
        },
        "id": "EIq_Yp9MzRTR",
        "outputId": "61314828-d76d-4153-e7fa-57089c1b4087"
      },
      "execution_count": 21,
      "outputs": [
        {
          "output_type": "execute_result",
          "data": {
            "text/plain": [
              "['kiwis', 'peras', 'zanahorias', 'pomelos']"
            ]
          },
          "metadata": {},
          "execution_count": 21
        }
      ]
    },
    {
      "cell_type": "code",
      "source": [
        "compra_amigo = ['desodorante', 'chanpu', 'pan', 'gomina', 'chicles']"
      ],
      "metadata": {
        "id": "0u7DHctHzh0s"
      },
      "execution_count": 22,
      "outputs": []
    },
    {
      "cell_type": "code",
      "source": [
        "x.extend(compra_amigo)"
      ],
      "metadata": {
        "id": "htU6aYgMz3WF"
      },
      "execution_count": 27,
      "outputs": []
    },
    {
      "cell_type": "code",
      "source": [
        "print(x)"
      ],
      "metadata": {
        "id": "AK9Dry2d0TMO",
        "colab": {
          "base_uri": "https://localhost:8080/"
        },
        "outputId": "292c3cd8-0af3-4d4f-af8a-d62c315034e0"
      },
      "execution_count": 28,
      "outputs": [
        {
          "output_type": "stream",
          "name": "stdout",
          "text": [
            "['kiwis', 'peras', 'zanahorias', 'pomelos', 'desodorante', 'chanpu', 'pan', 'gomina', 'chicles']\n"
          ]
        }
      ]
    },
    {
      "cell_type": "markdown",
      "metadata": {
        "id": "VkZYuAQ2nwBi"
      },
      "source": [
        "## Tuplas"
      ]
    },
    {
      "cell_type": "markdown",
      "metadata": {
        "id": "Bpgs6rFFnwBi"
      },
      "source": [
        "12 - ¿Cuál es la diferencia entre una tupla y una lista?"
      ]
    },
    {
      "cell_type": "code",
      "source": [
        "x"
      ],
      "metadata": {
        "colab": {
          "base_uri": "https://localhost:8080/"
        },
        "id": "5dMrcSGR3uWS",
        "outputId": "a0611071-0f55-4032-d20c-84b8c69532ed"
      },
      "execution_count": 29,
      "outputs": [
        {
          "output_type": "execute_result",
          "data": {
            "text/plain": [
              "['kiwis',\n",
              " 'peras',\n",
              " 'zanahorias',\n",
              " 'pomelos',\n",
              " 'desodorante',\n",
              " 'chanpu',\n",
              " 'pan',\n",
              " 'gomina',\n",
              " 'chicles']"
            ]
          },
          "metadata": {},
          "execution_count": 29
        }
      ]
    },
    {
      "cell_type": "code",
      "source": [
        "x.append('caramelos')"
      ],
      "metadata": {
        "id": "dGHNC0oE4laL"
      },
      "execution_count": 30,
      "outputs": []
    },
    {
      "cell_type": "code",
      "source": [
        "x"
      ],
      "metadata": {
        "colab": {
          "base_uri": "https://localhost:8080/"
        },
        "id": "yRPlPxJI4ln-",
        "outputId": "36cad3b3-a3a3-4281-a86f-330b7d8d9194"
      },
      "execution_count": 31,
      "outputs": [
        {
          "output_type": "execute_result",
          "data": {
            "text/plain": [
              "['kiwis',\n",
              " 'peras',\n",
              " 'zanahorias',\n",
              " 'pomelos',\n",
              " 'desodorante',\n",
              " 'chanpu',\n",
              " 'pan',\n",
              " 'gomina',\n",
              " 'chicles',\n",
              " 'caramelos']"
            ]
          },
          "metadata": {},
          "execution_count": 31
        }
      ]
    },
    {
      "cell_type": "code",
      "source": [
        "y = ('caramelos', 'chicles', 'cigarros')"
      ],
      "metadata": {
        "id": "NpmrEw_p4wxf"
      },
      "execution_count": 32,
      "outputs": []
    },
    {
      "cell_type": "code",
      "source": [
        "y.append('mechero')"
      ],
      "metadata": {
        "colab": {
          "base_uri": "https://localhost:8080/",
          "height": 165
        },
        "id": "krvLEODI4xVp",
        "outputId": "66c17257-afc6-40da-d866-09fb47fa4fb4"
      },
      "execution_count": 33,
      "outputs": [
        {
          "output_type": "error",
          "ename": "AttributeError",
          "evalue": "ignored",
          "traceback": [
            "\u001b[0;31m---------------------------------------------------------------------------\u001b[0m",
            "\u001b[0;31mAttributeError\u001b[0m                            Traceback (most recent call last)",
            "\u001b[0;32m<ipython-input-33-a385548086ab>\u001b[0m in \u001b[0;36m<cell line: 1>\u001b[0;34m()\u001b[0m\n\u001b[0;32m----> 1\u001b[0;31m \u001b[0my\u001b[0m\u001b[0;34m.\u001b[0m\u001b[0mappend\u001b[0m\u001b[0;34m(\u001b[0m\u001b[0;34m'mechero'\u001b[0m\u001b[0;34m)\u001b[0m\u001b[0;34m\u001b[0m\u001b[0;34m\u001b[0m\u001b[0m\n\u001b[0m",
            "\u001b[0;31mAttributeError\u001b[0m: 'tuple' object has no attribute 'append'"
          ]
        }
      ]
    },
    {
      "cell_type": "code",
      "source": [
        "# la diferencia es que las lista ses  pueden mofifcar una vez creadas y en tuplas despues de su creacion no se pueden modificar"
      ],
      "metadata": {
        "id": "-owGaNn04ly6"
      },
      "execution_count": 34,
      "outputs": []
    },
    {
      "cell_type": "markdown",
      "metadata": {
        "id": "ax96wn7BnwBi"
      },
      "source": [
        "13 - Crea una tupla con el elemento a, b, c"
      ]
    },
    {
      "cell_type": "code",
      "source": [
        "abc = ('a', 'b', 'c')"
      ],
      "metadata": {
        "id": "38aAPwDJ5aDd"
      },
      "execution_count": 35,
      "outputs": []
    },
    {
      "cell_type": "markdown",
      "metadata": {
        "id": "1NVrb6CinwBi"
      },
      "source": [
        "14 - Convierte tu lista de la compra a una tupla"
      ]
    },
    {
      "cell_type": "code",
      "source": [
        "x"
      ],
      "metadata": {
        "colab": {
          "base_uri": "https://localhost:8080/"
        },
        "id": "oa6M_M8Y5hpI",
        "outputId": "73bb7502-f2c2-4c5b-b3bf-92542fe6f544"
      },
      "execution_count": 36,
      "outputs": [
        {
          "output_type": "execute_result",
          "data": {
            "text/plain": [
              "['kiwis',\n",
              " 'peras',\n",
              " 'zanahorias',\n",
              " 'pomelos',\n",
              " 'desodorante',\n",
              " 'chanpu',\n",
              " 'pan',\n",
              " 'gomina',\n",
              " 'chicles',\n",
              " 'caramelos']"
            ]
          },
          "metadata": {},
          "execution_count": 36
        }
      ]
    },
    {
      "cell_type": "code",
      "source": [
        "tupla = tuple(x)"
      ],
      "metadata": {
        "id": "y0uZFxMN5huX"
      },
      "execution_count": 37,
      "outputs": []
    },
    {
      "cell_type": "code",
      "source": [
        "tupla"
      ],
      "metadata": {
        "colab": {
          "base_uri": "https://localhost:8080/"
        },
        "id": "RmSLQeaP5hwI",
        "outputId": "d9a0c86d-bc27-47f0-cf62-d36c2a29db1e"
      },
      "execution_count": 38,
      "outputs": [
        {
          "output_type": "execute_result",
          "data": {
            "text/plain": [
              "('kiwis',\n",
              " 'peras',\n",
              " 'zanahorias',\n",
              " 'pomelos',\n",
              " 'desodorante',\n",
              " 'chanpu',\n",
              " 'pan',\n",
              " 'gomina',\n",
              " 'chicles',\n",
              " 'caramelos')"
            ]
          },
          "metadata": {},
          "execution_count": 38
        }
      ]
    },
    {
      "cell_type": "markdown",
      "metadata": {
        "id": "gb0Wozd5nwBi"
      },
      "source": [
        "15 - ¿Cuántos elementos tiene mi tupla?"
      ]
    },
    {
      "cell_type": "code",
      "source": [
        "tupla"
      ],
      "metadata": {
        "colab": {
          "base_uri": "https://localhost:8080/"
        },
        "id": "G1h-5A9P6kon",
        "outputId": "6047c1f9-0c6d-4f5b-f29f-4f8a04878fc0"
      },
      "execution_count": 39,
      "outputs": [
        {
          "output_type": "execute_result",
          "data": {
            "text/plain": [
              "('kiwis',\n",
              " 'peras',\n",
              " 'zanahorias',\n",
              " 'pomelos',\n",
              " 'desodorante',\n",
              " 'chanpu',\n",
              " 'pan',\n",
              " 'gomina',\n",
              " 'chicles',\n",
              " 'caramelos')"
            ]
          },
          "metadata": {},
          "execution_count": 39
        }
      ]
    },
    {
      "cell_type": "code",
      "source": [
        "tiene = len(tupla)"
      ],
      "metadata": {
        "id": "-Aciy57x6m9g"
      },
      "execution_count": 40,
      "outputs": []
    },
    {
      "cell_type": "code",
      "source": [
        "tiene"
      ],
      "metadata": {
        "colab": {
          "base_uri": "https://localhost:8080/"
        },
        "id": "jvud6cpg6nF9",
        "outputId": "45fb34be-0833-4010-bdef-75603cf4e4c6"
      },
      "execution_count": 41,
      "outputs": [
        {
          "output_type": "execute_result",
          "data": {
            "text/plain": [
              "10"
            ]
          },
          "metadata": {},
          "execution_count": 41
        }
      ]
    },
    {
      "cell_type": "markdown",
      "metadata": {
        "id": "FpJmzopmnwBi"
      },
      "source": [
        "16 - ¿Si estoy comprando las zanahorias, cuantos elementos compraré antes de comprar la gomina?"
      ]
    },
    {
      "cell_type": "code",
      "source": [
        "index_of_zanahoria = tupla.index('zanahorias')"
      ],
      "metadata": {
        "id": "X_zOMljnEPr9"
      },
      "execution_count": 50,
      "outputs": []
    },
    {
      "cell_type": "code",
      "source": [
        "index_of_gomina = tupla.index('gomina')"
      ],
      "metadata": {
        "id": "3QApt-JEE9UF"
      },
      "execution_count": 51,
      "outputs": []
    },
    {
      "cell_type": "code",
      "source": [
        "elements_between_zanahorias_and_gomina = index_of_gomina - index_of_zanahoria - 1\n"
      ],
      "metadata": {
        "id": "fQ41036qFjmT"
      },
      "execution_count": 52,
      "outputs": []
    },
    {
      "cell_type": "code",
      "source": [
        "print(\"Comprarás\", elements_between_zanahorias_and_gomina, \"elementos antes de comprar la gomina.\")\n"
      ],
      "metadata": {
        "colab": {
          "base_uri": "https://localhost:8080/"
        },
        "id": "7Utvl2puFCaj",
        "outputId": "f48d8c4b-ae36-421e-af95-d9dfb6a24fb0"
      },
      "execution_count": 53,
      "outputs": [
        {
          "output_type": "stream",
          "name": "stdout",
          "text": [
            "Comprarás 4 elementos antes de comprar la gomina.\n"
          ]
        }
      ]
    },
    {
      "cell_type": "markdown",
      "metadata": {
        "id": "gvm_TSnAnwBi"
      },
      "source": [
        "17 - Quiero añadir ahora jabón a mi tupla de la compra, puedo ?"
      ]
    },
    {
      "cell_type": "code",
      "source": [
        "#no\n"
      ],
      "metadata": {
        "id": "WVvLlhtEc1b8"
      },
      "execution_count": 54,
      "outputs": []
    },
    {
      "cell_type": "markdown",
      "metadata": {
        "id": "Qavv6vrpnwBj"
      },
      "source": [
        "18 - Una tupla es ordenada? Y una lista?"
      ]
    },
    {
      "cell_type": "markdown",
      "metadata": {
        "id": "3R3Gu-5qnwBj"
      },
      "source": [
        "## Sets"
      ]
    },
    {
      "cell_type": "markdown",
      "metadata": {
        "id": "kFM-cRbWnwBj"
      },
      "source": [
        "19 - ¿Cuál es la diferencia entre un set y una lista?"
      ]
    },
    {
      "cell_type": "markdown",
      "source": [
        "Un set solo puede contener elementos únicos, mientras que una lista puede contener elementos duplicados.\n",
        "\n",
        "Los elementos en un set no tienen un orden específico, mientras que los elementos en una lista se ordenan de manera secuencial.\n",
        "\n",
        "Los sets son más eficientes en términos de tiempo de búsqueda de elementos en comparación con las listas, especialmente para conjuntos de datos grandes.\n",
        "\n",
        "Las listas son más eficientes en términos de agregar y eliminar elementos en comparación con los sets.\n",
        "\n",
        "Los sets utilizan llaves para almacenar sus elementos, mientras que las listas utilizan índices."
      ],
      "metadata": {
        "id": "_OVtUm4qdNSk"
      }
    },
    {
      "cell_type": "markdown",
      "metadata": {
        "id": "4EnoR5a1nwBj"
      },
      "source": [
        "20 - ¿Cuál es la diferencia entre un set y una tupla?\n",
        "\n",
        "> Indented block\n",
        "\n"
      ]
    },
    {
      "cell_type": "code",
      "source": [],
      "metadata": {
        "id": "k29dwtw8dYMl"
      },
      "execution_count": 54,
      "outputs": []
    },
    {
      "cell_type": "markdown",
      "source": [
        "Un set solo puede contener elementos únicos, mientras que una tupla puede contener elementos duplicados.\n",
        "\n",
        "Los elementos en un set no tienen un orden específico, mientras que los elementos en una tupla se ordenan de manera secuencial.\n",
        "\n",
        "Los sets son mutables, es decir, se pueden agregar y eliminar elementos de un set, mientras que las tuplas son inmutables, es decir, una vez que se crean, no se pueden modificar.\n",
        "\n",
        "Los sets utilizan llaves para almacenar sus elementos, mientras que las tuplas utilizan índices.\n",
        "\n",
        "Las operaciones en sets, como unión, intersección, diferencia, etc., son muy eficientes en Python, mientras que las operaciones en tuplas son menos eficientes."
      ],
      "metadata": {
        "id": "4ZEx1KDKdxvi"
      }
    },
    {
      "cell_type": "code",
      "source": [],
      "metadata": {
        "id": "YnPEQgE5dYZE"
      },
      "execution_count": 54,
      "outputs": []
    },
    {
      "cell_type": "markdown",
      "metadata": {
        "id": "L-dm6mZvnwBj"
      },
      "source": [
        "21 - Define un set de colores: azul, blanco, negro, rosa, rojo, amarillo, lila"
      ]
    },
    {
      "cell_type": "code",
      "source": [
        "colores = {'azul', 'blanco', 'negro', 'rosa', 'amarillo', 'lila'}"
      ],
      "metadata": {
        "id": "RmI-tWlCeIoy"
      },
      "execution_count": 55,
      "outputs": []
    },
    {
      "cell_type": "code",
      "source": [
        "colores"
      ],
      "metadata": {
        "colab": {
          "base_uri": "https://localhost:8080/"
        },
        "id": "rZucy1Oteda9",
        "outputId": "496ae893-9ec8-4124-f53a-9ef78ac4fe9b"
      },
      "execution_count": 56,
      "outputs": [
        {
          "output_type": "execute_result",
          "data": {
            "text/plain": [
              "{'amarillo', 'azul', 'blanco', 'lila', 'negro', 'rosa'}"
            ]
          },
          "metadata": {},
          "execution_count": 56
        }
      ]
    },
    {
      "cell_type": "markdown",
      "metadata": {
        "id": "evs4W3pJnwBj"
      },
      "source": [
        "22 - ¿Que posición ocupa el color azul en el set?"
      ]
    },
    {
      "cell_type": "code",
      "source": [
        "'''no se puede en un set porque en un set no llevan un orden tendriamos que transformarlo a tupla una vez y utilizar el metodod= index para sacar la ubicacion'''"
      ],
      "metadata": {
        "colab": {
          "base_uri": "https://localhost:8080/",
          "height": 36
        },
        "id": "np1uFYqTIIV5",
        "outputId": "e3456292-815c-4602-824d-48151d219763"
      },
      "execution_count": 98,
      "outputs": [
        {
          "output_type": "execute_result",
          "data": {
            "text/plain": [
              "'no se puede en un set porque en un set no llevan un orden tendriamos que transformarlo a tupla una vez y utilizar el metodod= index para sacar la ubicacion'"
            ],
            "application/vnd.google.colaboratory.intrinsic+json": {
              "type": "string"
            }
          },
          "metadata": {},
          "execution_count": 98
        }
      ]
    },
    {
      "cell_type": "markdown",
      "metadata": {
        "id": "NU-ujARvnwBj"
      },
      "source": [
        "23 - Añade el color gris al set"
      ]
    },
    {
      "cell_type": "code",
      "source": [
        "colores.add('gris')\n"
      ],
      "metadata": {
        "id": "4GmXhPOmfCco"
      },
      "execution_count": 99,
      "outputs": []
    },
    {
      "cell_type": "code",
      "source": [
        "colores"
      ],
      "metadata": {
        "colab": {
          "base_uri": "https://localhost:8080/"
        },
        "id": "-UrxNQrFfFWa",
        "outputId": "65a3b231-b618-4b23-d205-b02280e9fd7d"
      },
      "execution_count": 100,
      "outputs": [
        {
          "output_type": "execute_result",
          "data": {
            "text/plain": [
              "{'amarillo',\n",
              " 'azul',\n",
              " 'azul oscuri',\n",
              " 'blanco',\n",
              " 'gris',\n",
              " 'lila',\n",
              " 'marron',\n",
              " 'naranja',\n",
              " 'negro',\n",
              " 'rosa'}"
            ]
          },
          "metadata": {},
          "execution_count": 100
        }
      ]
    },
    {
      "cell_type": "markdown",
      "metadata": {
        "id": "EeWPSx1ZnwBj"
      },
      "source": [
        "24 - Añade ahora varios colores: marrón, azul oscuro, naranja"
      ]
    },
    {
      "cell_type": "code",
      "source": [
        "colores.update(['red', 'asent', 'carpa'])"
      ],
      "metadata": {
        "id": "vfRxHZ0QfKwl"
      },
      "execution_count": 105,
      "outputs": []
    },
    {
      "cell_type": "code",
      "source": [
        "colores"
      ],
      "metadata": {
        "colab": {
          "base_uri": "https://localhost:8080/"
        },
        "id": "It-l6uIefo07",
        "outputId": "1429d007-e8f9-43fe-f40f-a94fb243a5f7"
      },
      "execution_count": 106,
      "outputs": [
        {
          "output_type": "execute_result",
          "data": {
            "text/plain": [
              "{'amarillo',\n",
              " 'asent',\n",
              " 'azul',\n",
              " 'azul oscuri',\n",
              " 'blanco',\n",
              " 'carpa',\n",
              " 'gris',\n",
              " 'lila',\n",
              " 'marron',\n",
              " 'naranja',\n",
              " 'negro',\n",
              " 'red',\n",
              " 'rosa'}"
            ]
          },
          "metadata": {},
          "execution_count": 106
        }
      ]
    },
    {
      "cell_type": "markdown",
      "metadata": {
        "id": "JV34SZi4nwBj"
      },
      "source": [
        "25 - ¿Cuántos elementos tiene mi set?"
      ]
    },
    {
      "cell_type": "code",
      "source": [
        "colores"
      ],
      "metadata": {
        "colab": {
          "base_uri": "https://localhost:8080/"
        },
        "id": "sPLi-zwpf-DP",
        "outputId": "8b9c9ab5-32af-4aa0-f1e5-4916268e38bf"
      },
      "execution_count": 107,
      "outputs": [
        {
          "output_type": "execute_result",
          "data": {
            "text/plain": [
              "{'amarillo',\n",
              " 'asent',\n",
              " 'azul',\n",
              " 'azul oscuri',\n",
              " 'blanco',\n",
              " 'carpa',\n",
              " 'gris',\n",
              " 'lila',\n",
              " 'marron',\n",
              " 'naranja',\n",
              " 'negro',\n",
              " 'red',\n",
              " 'rosa'}"
            ]
          },
          "metadata": {},
          "execution_count": 107
        }
      ]
    },
    {
      "cell_type": "code",
      "source": [
        "print(len(colores))"
      ],
      "metadata": {
        "colab": {
          "base_uri": "https://localhost:8080/"
        },
        "id": "ybXp8kZff0c_",
        "outputId": "4ca8fe54-d977-4eb8-878b-9580ce368a17"
      },
      "execution_count": 108,
      "outputs": [
        {
          "output_type": "stream",
          "name": "stdout",
          "text": [
            "13\n"
          ]
        }
      ]
    },
    {
      "cell_type": "markdown",
      "metadata": {
        "id": "52aZP-ZFnwBk"
      },
      "source": [
        "26 - Genera un nuevo set con los elementos 1,2,3,4,5"
      ]
    },
    {
      "cell_type": "code",
      "source": [
        "elementos = {1,2,3,4,5}"
      ],
      "metadata": {
        "id": "r_x-xLFlgDIz"
      },
      "execution_count": 109,
      "outputs": []
    },
    {
      "cell_type": "markdown",
      "metadata": {
        "id": "sldAMxRHnwBk"
      },
      "source": [
        "27 - Une un set con el otro"
      ]
    },
    {
      "cell_type": "code",
      "source": [
        "colores"
      ],
      "metadata": {
        "colab": {
          "base_uri": "https://localhost:8080/"
        },
        "id": "L90zpfiLgZNN",
        "outputId": "945b27f3-0454-4280-c975-fb94adbed824"
      },
      "execution_count": 110,
      "outputs": [
        {
          "output_type": "execute_result",
          "data": {
            "text/plain": [
              "{'amarillo',\n",
              " 'asent',\n",
              " 'azul',\n",
              " 'azul oscuri',\n",
              " 'blanco',\n",
              " 'carpa',\n",
              " 'gris',\n",
              " 'lila',\n",
              " 'marron',\n",
              " 'naranja',\n",
              " 'negro',\n",
              " 'red',\n",
              " 'rosa'}"
            ]
          },
          "metadata": {},
          "execution_count": 110
        }
      ]
    },
    {
      "cell_type": "code",
      "source": [
        "elementos"
      ],
      "metadata": {
        "colab": {
          "base_uri": "https://localhost:8080/"
        },
        "id": "1iWIY8kxgZ82",
        "outputId": "db54f31e-00da-4aa2-98cf-49a1ce6a36df"
      },
      "execution_count": 111,
      "outputs": [
        {
          "output_type": "execute_result",
          "data": {
            "text/plain": [
              "{1, 2, 3, 4, 5}"
            ]
          },
          "metadata": {},
          "execution_count": 111
        }
      ]
    },
    {
      "cell_type": "code",
      "source": [
        "union = colores.union(elementos)"
      ],
      "metadata": {
        "id": "YhXHtOawgaDJ"
      },
      "execution_count": 112,
      "outputs": []
    },
    {
      "cell_type": "code",
      "source": [
        "union"
      ],
      "metadata": {
        "colab": {
          "base_uri": "https://localhost:8080/"
        },
        "id": "BeskXkn2gaFV",
        "outputId": "b699b882-8cc3-4859-e67c-596de23e3b37"
      },
      "execution_count": 113,
      "outputs": [
        {
          "output_type": "execute_result",
          "data": {
            "text/plain": [
              "{1,\n",
              " 2,\n",
              " 3,\n",
              " 4,\n",
              " 5,\n",
              " 'amarillo',\n",
              " 'asent',\n",
              " 'azul',\n",
              " 'azul oscuri',\n",
              " 'blanco',\n",
              " 'carpa',\n",
              " 'gris',\n",
              " 'lila',\n",
              " 'marron',\n",
              " 'naranja',\n",
              " 'negro',\n",
              " 'red',\n",
              " 'rosa'}"
            ]
          },
          "metadata": {},
          "execution_count": 113
        }
      ]
    },
    {
      "cell_type": "markdown",
      "metadata": {
        "id": "Xz7UrrgbnwBk"
      },
      "source": [
        "28 - Borra todos los elementos del set"
      ]
    },
    {
      "cell_type": "code",
      "source": [
        "elementos"
      ],
      "metadata": {
        "colab": {
          "base_uri": "https://localhost:8080/"
        },
        "id": "iNJjfOibg5zt",
        "outputId": "b90d7e31-2a8d-4535-f63f-9dcf40d666b3"
      },
      "execution_count": 114,
      "outputs": [
        {
          "output_type": "execute_result",
          "data": {
            "text/plain": [
              "{1, 2, 3, 4, 5}"
            ]
          },
          "metadata": {},
          "execution_count": 114
        }
      ]
    },
    {
      "cell_type": "code",
      "source": [
        "elementos.clear()"
      ],
      "metadata": {
        "id": "tRB_cjY6g9PW"
      },
      "execution_count": 115,
      "outputs": []
    },
    {
      "cell_type": "code",
      "source": [
        "elementos"
      ],
      "metadata": {
        "colab": {
          "base_uri": "https://localhost:8080/"
        },
        "id": "_uQO_iBBg54u",
        "outputId": "7ee1c17b-0aa3-4fa9-dcb9-f9fe7cfdf862"
      },
      "execution_count": 116,
      "outputs": [
        {
          "output_type": "execute_result",
          "data": {
            "text/plain": [
              "set()"
            ]
          },
          "metadata": {},
          "execution_count": 116
        }
      ]
    },
    {
      "cell_type": "markdown",
      "metadata": {
        "id": "wdfwBdQOnwBk"
      },
      "source": [
        "## Diccionarios"
      ]
    },
    {
      "cell_type": "markdown",
      "metadata": {
        "id": "YNy1vXi2nwBk"
      },
      "source": [
        "29 - Dado el siguiente diccionario:\n",
        "\n",
        "inventory = {\n",
        "    'gold' : 500,\n",
        "    'pouch' : ['flint', 'twine', 'gemstone'],\n",
        "    'backpack' : ['xylophone','dagger', 'bedroll','bread loaf']\n",
        "}\n",
        "\n",
        "\n",
        "Haz lo siguiente:\n",
        "- Añade una nueva categoría dentro del diccionario llamada 'pocket'\n",
        "- Define el valor de 'pocket' como una lista que contiene los siguientes elementos: 'seashell', 'strange', 'berry' y 'lint'\n",
        "- Ordena los elementos de la lista dentro de la categoría 'backpack'\n",
        "- Elimina el elemento 'dagger' de dentro de la categoría 'backpack'\n",
        "- Añade 50 como un nuevo elemento dentro de la categoría 'gold'"
      ]
    },
    {
      "cell_type": "code",
      "source": [
        "inventory = { 'gold' : 500, 'pouch' : ['flint', 'twine', 'gemstone'], 'backpack' : ['xylophone','dagger', 'bedroll','bread loaf'] }"
      ],
      "metadata": {
        "id": "4Bv6po-bh4jc"
      },
      "execution_count": 71,
      "outputs": []
    },
    {
      "cell_type": "code",
      "source": [
        "inventory"
      ],
      "metadata": {
        "colab": {
          "base_uri": "https://localhost:8080/"
        },
        "id": "Q_NoiRXokCKD",
        "outputId": "0ef242cd-64f9-4c28-8dcc-4bd2d52b5ffb"
      },
      "execution_count": 72,
      "outputs": [
        {
          "output_type": "execute_result",
          "data": {
            "text/plain": [
              "{'gold': 500,\n",
              " 'pouch': ['flint', 'twine', 'gemstone'],\n",
              " 'backpack': ['xylophone', 'dagger', 'bedroll', 'bread loaf']}"
            ]
          },
          "metadata": {},
          "execution_count": 72
        }
      ]
    },
    {
      "cell_type": "code",
      "source": [
        "inventory['pockets'] = {'sheell', 'strange', 'berry', 'lient'}"
      ],
      "metadata": {
        "id": "8zWVPawgh3mj"
      },
      "execution_count": 73,
      "outputs": []
    },
    {
      "cell_type": "code",
      "source": [
        "inventory"
      ],
      "metadata": {
        "colab": {
          "base_uri": "https://localhost:8080/"
        },
        "id": "P9hVf3cPkGZZ",
        "outputId": "84ce004f-46a8-41db-fd4b-3085dc371bed"
      },
      "execution_count": 74,
      "outputs": [
        {
          "output_type": "execute_result",
          "data": {
            "text/plain": [
              "{'gold': 500,\n",
              " 'pouch': ['flint', 'twine', 'gemstone'],\n",
              " 'backpack': ['xylophone', 'dagger', 'bedroll', 'bread loaf'],\n",
              " 'pockets': {'berry', 'lient', 'sheell', 'strange'}}"
            ]
          },
          "metadata": {},
          "execution_count": 74
        }
      ]
    },
    {
      "cell_type": "code",
      "source": [
        "inventory['backpack'].sort()"
      ],
      "metadata": {
        "id": "OUH0sC0wjTRT"
      },
      "execution_count": 75,
      "outputs": []
    },
    {
      "cell_type": "code",
      "source": [
        "inventory"
      ],
      "metadata": {
        "colab": {
          "base_uri": "https://localhost:8080/"
        },
        "id": "RPA8bbrljTpv",
        "outputId": "1aa989ee-def7-4079-c36d-a3c46966cedd"
      },
      "execution_count": 76,
      "outputs": [
        {
          "output_type": "execute_result",
          "data": {
            "text/plain": [
              "{'gold': 500,\n",
              " 'pouch': ['flint', 'twine', 'gemstone'],\n",
              " 'backpack': ['bedroll', 'bread loaf', 'dagger', 'xylophone'],\n",
              " 'pockets': {'berry', 'lient', 'sheell', 'strange'}}"
            ]
          },
          "metadata": {},
          "execution_count": 76
        }
      ]
    },
    {
      "cell_type": "markdown",
      "metadata": {
        "id": "31mwoiyLnwBk"
      },
      "source": [
        "30 - Crea un diccionario llamado 'precios'.\n",
        "\n",
        "- Añade los siguientes elementos al diccionario:\n",
        "\"plátano\": 4,\n",
        "\"manzana\": 2,\n",
        "\"naranja\": 1.5,\n",
        "\"pera\": 3\n",
        "\n",
        "Crea un diccionario llamado stock con la siguiente información:\n",
        "\"plátano\": 6,\n",
        "\"manzana\": 0,\n",
        "\"naranja\": 32,\n",
        "\"pera\": 12\n",
        "\n",
        "- Itera dentro de cada categoría de cada diccionario, de manera que para cada producto imprimas su precio y su stock\n",
        "- Calcula el dinero que ganarías si vendieses todo tu stock al precio marcado"
      ]
    },
    {
      "cell_type": "code",
      "source": [
        "precios = {'platano':4, 'manzana':2, 'naranja':1.5, 'pera':3}"
      ],
      "metadata": {
        "id": "izBQmjTUkc03"
      },
      "execution_count": 77,
      "outputs": []
    },
    {
      "cell_type": "code",
      "source": [
        "stock = {'platano':6, 'manzana':0, 'naranja':32, 'pera':12}"
      ],
      "metadata": {
        "id": "PBNxB4rFkc2f"
      },
      "execution_count": 78,
      "outputs": []
    },
    {
      "cell_type": "code",
      "source": [
        "for producto in precios:\n",
        "    print(f\"El precio del {producto} es de {precios[producto]} euros y hay {stock[producto]} unidades en stock.\")\n"
      ],
      "metadata": {
        "colab": {
          "base_uri": "https://localhost:8080/"
        },
        "id": "47jJemQmkc6a",
        "outputId": "280c7f23-1a12-4149-d30a-575d385ead89"
      },
      "execution_count": 79,
      "outputs": [
        {
          "output_type": "stream",
          "name": "stdout",
          "text": [
            "El precio del platano es de 4 euros y hay 6 unidades en stock.\n",
            "El precio del manzana es de 2 euros y hay 0 unidades en stock.\n",
            "El precio del naranja es de 1.5 euros y hay 32 unidades en stock.\n",
            "El precio del pera es de 3 euros y hay 12 unidades en stock.\n"
          ]
        }
      ]
    },
    {
      "cell_type": "code",
      "source": [
        "total_ganado = 0\n",
        "for producto in precios:\n",
        "    total_ganado += precios[producto] * stock[producto]"
      ],
      "metadata": {
        "id": "sVxwNqkxkc8N"
      },
      "execution_count": 117,
      "outputs": []
    },
    {
      "cell_type": "code",
      "source": [
        "print(f\"El dinero ganado al vender todo el stock es de {total_ganado} euros.\")"
      ],
      "metadata": {
        "colab": {
          "base_uri": "https://localhost:8080/"
        },
        "id": "oRHkUwIrkdAe",
        "outputId": "9bf474a3-ea8a-426d-e922-6fb56439e3b4"
      },
      "execution_count": 118,
      "outputs": [
        {
          "output_type": "stream",
          "name": "stdout",
          "text": [
            "El dinero ganado al vender todo el stock es de 39.0 euros.\n"
          ]
        }
      ]
    },
    {
      "cell_type": "markdown",
      "metadata": {
        "id": "ZIAw488znwBl"
      },
      "source": [
        "31 - Del ejercicio anterior, calcula la ganancia añadiendo la consideración que se vende sólo si el producto está en stock y para cada venta restas la unidad al stock del producto"
      ]
    },
    {
      "cell_type": "code",
      "source": [
        "precios = {\"plátano\": 4, \"manzana\": 2, \"naranja\": 1.5, \"pera\": 3}\n"
      ],
      "metadata": {
        "id": "krllRPI2myXN"
      },
      "execution_count": 119,
      "outputs": []
    },
    {
      "cell_type": "code",
      "source": [
        "stock = {\"plátano\": 6, \"manzana\": 0, \"naranja\": 32, \"pera\": 12}"
      ],
      "metadata": {
        "id": "i9KdnNvTmyY8"
      },
      "execution_count": 120,
      "outputs": []
    },
    {
      "cell_type": "code",
      "source": [
        "ganancia_total = 0"
      ],
      "metadata": {
        "id": "4l5sxefOmycn"
      },
      "execution_count": 121,
      "outputs": []
    },
    {
      "cell_type": "code",
      "source": [
        "for producto, precio in precios.items():\n",
        "    if stock[producto] > 0:\n",
        "        cantidad_vendida = min(stock[producto], 10)  # Vendemos máximo 10 unidades de cada producto\n",
        "        ganancia = cantidad_vendida * precio\n",
        "        ganancia_total += ganancia\n",
        "        stock[producto] -= cantidad_vendida"
      ],
      "metadata": {
        "id": "lKNzJ8xlmyeX"
      },
      "execution_count": 122,
      "outputs": []
    },
    {
      "cell_type": "code",
      "source": [
        "print(f\"Se vendieron {cantidad_vendida} unidades de {producto} por un total de ${ganancia}\")"
      ],
      "metadata": {
        "colab": {
          "base_uri": "https://localhost:8080/"
        },
        "id": "0APCoCkZmyjk",
        "outputId": "3df20d14-fb29-4646-fc56-4f21a4cb3b33"
      },
      "execution_count": 123,
      "outputs": [
        {
          "output_type": "stream",
          "name": "stdout",
          "text": [
            "Se vendieron 10 unidades de pera por un total de $30\n"
          ]
        }
      ]
    },
    {
      "cell_type": "code",
      "source": [
        "#desde aca aabajo pedi asistencia"
      ],
      "metadata": {
        "id": "-ncruZ10nztA"
      },
      "execution_count": 124,
      "outputs": []
    },
    {
      "cell_type": "code",
      "source": [
        "precios = {\"plátano\": 4, \"manzana\": 2, \"naranja\": 1.5, \"pera\": 3}\n",
        "stock = {\"plátano\": 6, \"manzana\": 0, \"naranja\": 32, \"pera\": 12}\n",
        "\n",
        "ganancia_total = 0\n",
        "\n",
        "for producto, precio in precios.items():\n",
        "    if stock[producto] > 0:\n",
        "        cantidad_vendida = min(stock[producto], 10)  # Vendemos máximo 10 unidades de cada producto\n",
        "        ganancia = cantidad_vendida * precio\n",
        "        ganancia_total += ganancia\n",
        "        stock[producto] -= cantidad_vendida\n",
        "        print(f\"Se vendieron {cantidad_vendida} unidades de {producto} por un total de ${ganancia}\")\n",
        "    else:\n",
        "        print(f\"No hay stock de {producto}\")\n",
        "\n",
        "print(f\"Ganancia total: ${ganancia_total}\")\n"
      ],
      "metadata": {
        "colab": {
          "base_uri": "https://localhost:8080/"
        },
        "id": "on-UyW5Gmyo_",
        "outputId": "7273f969-f15d-4343-a0e3-fbbecf1bb93d"
      },
      "execution_count": 125,
      "outputs": [
        {
          "output_type": "stream",
          "name": "stdout",
          "text": [
            "Se vendieron 6 unidades de plátano por un total de $24\n",
            "No hay stock de manzana\n",
            "Se vendieron 10 unidades de naranja por un total de $15.0\n",
            "Se vendieron 10 unidades de pera por un total de $30\n",
            "Ganancia total: $69.0\n"
          ]
        }
      ]
    },
    {
      "cell_type": "markdown",
      "metadata": {
        "id": "p50V8Qb5nwBl"
      },
      "source": [
        "## Bucles"
      ]
    },
    {
      "cell_type": "markdown",
      "metadata": {
        "id": "sFVIB0e4nwBl"
      },
      "source": [
        "32 - Escribe un código que imprima el cuadrado de los números del 0 al 10"
      ]
    },
    {
      "cell_type": "code",
      "source": [
        "for i in range(11):\n",
        "    print(i)\n"
      ],
      "metadata": {
        "colab": {
          "base_uri": "https://localhost:8080/"
        },
        "id": "5U-xUEH8qwAR",
        "outputId": "649e6a84-36bf-491a-ac0b-c47c156bbee5"
      },
      "execution_count": 126,
      "outputs": [
        {
          "output_type": "stream",
          "name": "stdout",
          "text": [
            "0\n",
            "1\n",
            "2\n",
            "3\n",
            "4\n",
            "5\n",
            "6\n",
            "7\n",
            "8\n",
            "9\n",
            "10\n"
          ]
        }
      ]
    },
    {
      "cell_type": "markdown",
      "metadata": {
        "id": "SApzsnIFnwBl"
      },
      "source": [
        "33 - Escribe un código que calcule la suma de todos los números pares del 0 al 10"
      ]
    },
    {
      "cell_type": "code",
      "source": [
        "# Inicializar la variable para mantener la suma de los números pares\n",
        "suma_pares = 0\n",
        "\n",
        "# Recorrer los números del 0 al 10 (ambos inclusive)\n",
        "for numero in range(0, 11):\n",
        "    # Verificar si el número es par\n",
        "    if numero % 2 == 0:\n",
        "        # Sumar el número par a la suma total\n",
        "        suma_pares += numero\n",
        "\n",
        "# Imprimir el resultado\n",
        "print(\"La suma de los números pares del 0 al 10 es:\", suma_pares)\n"
      ],
      "metadata": {
        "colab": {
          "base_uri": "https://localhost:8080/"
        },
        "id": "_rVIqJhAJ6Do",
        "outputId": "505dce0b-d58f-4d8a-823d-1c91df0cb501"
      },
      "execution_count": 131,
      "outputs": [
        {
          "output_type": "stream",
          "name": "stdout",
          "text": [
            "La suma de los números pares del 0 al 10 es: 30\n"
          ]
        }
      ]
    },
    {
      "cell_type": "markdown",
      "metadata": {
        "id": "25tdV13inwBl"
      },
      "source": [
        "34 - Escribe un código que te devuelva:\n",
        "\n",
        "1 --- 99\n",
        "2 --- 98\n",
        "\n",
        "..\n",
        "..\n",
        "\n",
        "98 -- 2\n",
        "99 -- 1\n"
      ]
    },
    {
      "cell_type": "code",
      "source": [
        "for num in range(1, 100):\n",
        "    pareja = 100 - num\n",
        "    print(f\"{num} --- {pareja}\")\n"
      ],
      "metadata": {
        "colab": {
          "base_uri": "https://localhost:8080/"
        },
        "id": "bqxsVcPzKWvw",
        "outputId": "590dcd93-c3b5-419a-c2d8-3377d63ec2a6"
      },
      "execution_count": 133,
      "outputs": [
        {
          "output_type": "stream",
          "name": "stdout",
          "text": [
            "1 --- 99\n",
            "2 --- 98\n",
            "3 --- 97\n",
            "4 --- 96\n",
            "5 --- 95\n",
            "6 --- 94\n",
            "7 --- 93\n",
            "8 --- 92\n",
            "9 --- 91\n",
            "10 --- 90\n",
            "11 --- 89\n",
            "12 --- 88\n",
            "13 --- 87\n",
            "14 --- 86\n",
            "15 --- 85\n",
            "16 --- 84\n",
            "17 --- 83\n",
            "18 --- 82\n",
            "19 --- 81\n",
            "20 --- 80\n",
            "21 --- 79\n",
            "22 --- 78\n",
            "23 --- 77\n",
            "24 --- 76\n",
            "25 --- 75\n",
            "26 --- 74\n",
            "27 --- 73\n",
            "28 --- 72\n",
            "29 --- 71\n",
            "30 --- 70\n",
            "31 --- 69\n",
            "32 --- 68\n",
            "33 --- 67\n",
            "34 --- 66\n",
            "35 --- 65\n",
            "36 --- 64\n",
            "37 --- 63\n",
            "38 --- 62\n",
            "39 --- 61\n",
            "40 --- 60\n",
            "41 --- 59\n",
            "42 --- 58\n",
            "43 --- 57\n",
            "44 --- 56\n",
            "45 --- 55\n",
            "46 --- 54\n",
            "47 --- 53\n",
            "48 --- 52\n",
            "49 --- 51\n",
            "50 --- 50\n",
            "51 --- 49\n",
            "52 --- 48\n",
            "53 --- 47\n",
            "54 --- 46\n",
            "55 --- 45\n",
            "56 --- 44\n",
            "57 --- 43\n",
            "58 --- 42\n",
            "59 --- 41\n",
            "60 --- 40\n",
            "61 --- 39\n",
            "62 --- 38\n",
            "63 --- 37\n",
            "64 --- 36\n",
            "65 --- 35\n",
            "66 --- 34\n",
            "67 --- 33\n",
            "68 --- 32\n",
            "69 --- 31\n",
            "70 --- 30\n",
            "71 --- 29\n",
            "72 --- 28\n",
            "73 --- 27\n",
            "74 --- 26\n",
            "75 --- 25\n",
            "76 --- 24\n",
            "77 --- 23\n",
            "78 --- 22\n",
            "79 --- 21\n",
            "80 --- 20\n",
            "81 --- 19\n",
            "82 --- 18\n",
            "83 --- 17\n",
            "84 --- 16\n",
            "85 --- 15\n",
            "86 --- 14\n",
            "87 --- 13\n",
            "88 --- 12\n",
            "89 --- 11\n",
            "90 --- 10\n",
            "91 --- 9\n",
            "92 --- 8\n",
            "93 --- 7\n",
            "94 --- 6\n",
            "95 --- 5\n",
            "96 --- 4\n",
            "97 --- 3\n",
            "98 --- 2\n",
            "99 --- 1\n"
          ]
        }
      ]
    },
    {
      "cell_type": "markdown",
      "metadata": {
        "id": "eH8Bhik_nwBm"
      },
      "source": [
        "\n",
        "\n",
        "```\n",
        "# This is formatted as code\n",
        "```\n",
        "\n",
        "35 - Escribe una función que te devuelva el cuadrado de un nº"
      ]
    },
    {
      "cell_type": "code",
      "source": [
        "def calcular_cuadrado(num):\n",
        "    return num ** 2\n"
      ],
      "metadata": {
        "id": "f9Ln8X3gtea4"
      },
      "execution_count": 134,
      "outputs": []
    },
    {
      "cell_type": "code",
      "source": [
        "calcular_cuadrado"
      ],
      "metadata": {
        "colab": {
          "base_uri": "https://localhost:8080/"
        },
        "id": "7xVmwAtRtecj",
        "outputId": "9f4f45b5-e152-47d6-964d-4a6539165f76"
      },
      "execution_count": 135,
      "outputs": [
        {
          "output_type": "execute_result",
          "data": {
            "text/plain": [
              "<function __main__.calcular_cuadrado(num)>"
            ]
          },
          "metadata": {},
          "execution_count": 135
        }
      ]
    }
  ],
  "metadata": {
    "colab": {
      "provenance": [],
      "include_colab_link": true
    },
    "kernelspec": {
      "display_name": "Python 3",
      "language": "python",
      "name": "python3"
    },
    "language_info": {
      "codemirror_mode": {
        "name": "ipython",
        "version": 3
      },
      "file_extension": ".py",
      "mimetype": "text/x-python",
      "name": "python",
      "nbconvert_exporter": "python",
      "pygments_lexer": "ipython3",
      "version": "3.8.3"
    },
    "latex_envs": {
      "LaTeX_envs_menu_present": true,
      "autoclose": false,
      "autocomplete": true,
      "bibliofile": "biblio.bib",
      "cite_by": "apalike",
      "current_citInitial": 1,
      "eqLabelWithNumbers": true,
      "eqNumInitial": 1,
      "hotkeys": {
        "equation": "Ctrl-E",
        "itemize": "Ctrl-I"
      },
      "labels_anchors": false,
      "latex_user_defs": false,
      "report_style_numbering": false,
      "user_envs_cfg": false
    },
    "toc": {
      "base_numbering": 1,
      "nav_menu": {},
      "number_sections": true,
      "sideBar": true,
      "skip_h1_title": false,
      "title_cell": "Table of Contents",
      "title_sidebar": "Contents",
      "toc_cell": false,
      "toc_position": {
        "height": "calc(100% - 180px)",
        "left": "10px",
        "top": "150px",
        "width": "418.3831481933594px"
      },
      "toc_section_display": true,
      "toc_window_display": false
    },
    "varInspector": {
      "cols": {
        "lenName": 16,
        "lenType": 16,
        "lenVar": 40
      },
      "kernels_config": {
        "python": {
          "delete_cmd_postfix": "",
          "delete_cmd_prefix": "del ",
          "library": "var_list.py",
          "varRefreshCmd": "print(var_dic_list())"
        },
        "r": {
          "delete_cmd_postfix": ") ",
          "delete_cmd_prefix": "rm(",
          "library": "var_list.r",
          "varRefreshCmd": "cat(var_dic_list()) "
        }
      },
      "types_to_exclude": [
        "module",
        "function",
        "builtin_function_or_method",
        "instance",
        "_Feature"
      ],
      "window_display": false
    }
  },
  "nbformat": 4,
  "nbformat_minor": 0
}