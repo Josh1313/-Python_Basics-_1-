{
  "cells": [
    {
      "cell_type": "markdown",
      "metadata": {
        "id": "view-in-github",
        "colab_type": "text"
      },
      "source": [
        "<a href=\"https://colab.research.google.com/github/Josh1313/-Python_Basics-_1-/blob/main/Clase_4_NumPy_Arrays.ipynb\" target=\"_parent\"><img src=\"https://colab.research.google.com/assets/colab-badge.svg\" alt=\"Open In Colab\"/></a>"
      ]
    },
    {
      "cell_type": "markdown",
      "metadata": {
        "id": "rWDuDRxBwSXR"
      },
      "source": [
        "# Módulos en Python"
      ]
    },
    {
      "cell_type": "code",
      "execution_count": 1,
      "metadata": {
        "id": "0aPuLBM1DKr1"
      },
      "outputs": [],
      "source": [
        "import math"
      ]
    },
    {
      "cell_type": "code",
      "execution_count": 2,
      "metadata": {
        "id": "TLtR0NWvDKr2",
        "colab": {
          "base_uri": "https://localhost:8080/"
        },
        "outputId": "893bdd15-aa1c-437c-ab53-118dd2e346b4"
      },
      "outputs": [
        {
          "output_type": "stream",
          "name": "stdout",
          "text": [
            "Help on built-in module math:\n",
            "\n",
            "NAME\n",
            "    math\n",
            "\n",
            "DESCRIPTION\n",
            "    This module provides access to the mathematical functions\n",
            "    defined by the C standard.\n",
            "\n",
            "FUNCTIONS\n",
            "    acos(x, /)\n",
            "        Return the arc cosine (measured in radians) of x.\n",
            "        \n",
            "        The result is between 0 and pi.\n",
            "    \n",
            "    acosh(x, /)\n",
            "        Return the inverse hyperbolic cosine of x.\n",
            "    \n",
            "    asin(x, /)\n",
            "        Return the arc sine (measured in radians) of x.\n",
            "        \n",
            "        The result is between -pi/2 and pi/2.\n",
            "    \n",
            "    asinh(x, /)\n",
            "        Return the inverse hyperbolic sine of x.\n",
            "    \n",
            "    atan(x, /)\n",
            "        Return the arc tangent (measured in radians) of x.\n",
            "        \n",
            "        The result is between -pi/2 and pi/2.\n",
            "    \n",
            "    atan2(y, x, /)\n",
            "        Return the arc tangent (measured in radians) of y/x.\n",
            "        \n",
            "        Unlike atan(y/x), the signs of both x and y are considered.\n",
            "    \n",
            "    atanh(x, /)\n",
            "        Return the inverse hyperbolic tangent of x.\n",
            "    \n",
            "    ceil(x, /)\n",
            "        Return the ceiling of x as an Integral.\n",
            "        \n",
            "        This is the smallest integer >= x.\n",
            "    \n",
            "    comb(n, k, /)\n",
            "        Number of ways to choose k items from n items without repetition and without order.\n",
            "        \n",
            "        Evaluates to n! / (k! * (n - k)!) when k <= n and evaluates\n",
            "        to zero when k > n.\n",
            "        \n",
            "        Also called the binomial coefficient because it is equivalent\n",
            "        to the coefficient of k-th term in polynomial expansion of the\n",
            "        expression (1 + x)**n.\n",
            "        \n",
            "        Raises TypeError if either of the arguments are not integers.\n",
            "        Raises ValueError if either of the arguments are negative.\n",
            "    \n",
            "    copysign(x, y, /)\n",
            "        Return a float with the magnitude (absolute value) of x but the sign of y.\n",
            "        \n",
            "        On platforms that support signed zeros, copysign(1.0, -0.0)\n",
            "        returns -1.0.\n",
            "    \n",
            "    cos(x, /)\n",
            "        Return the cosine of x (measured in radians).\n",
            "    \n",
            "    cosh(x, /)\n",
            "        Return the hyperbolic cosine of x.\n",
            "    \n",
            "    degrees(x, /)\n",
            "        Convert angle x from radians to degrees.\n",
            "    \n",
            "    dist(p, q, /)\n",
            "        Return the Euclidean distance between two points p and q.\n",
            "        \n",
            "        The points should be specified as sequences (or iterables) of\n",
            "        coordinates.  Both inputs must have the same dimension.\n",
            "        \n",
            "        Roughly equivalent to:\n",
            "            sqrt(sum((px - qx) ** 2.0 for px, qx in zip(p, q)))\n",
            "    \n",
            "    erf(x, /)\n",
            "        Error function at x.\n",
            "    \n",
            "    erfc(x, /)\n",
            "        Complementary error function at x.\n",
            "    \n",
            "    exp(x, /)\n",
            "        Return e raised to the power of x.\n",
            "    \n",
            "    expm1(x, /)\n",
            "        Return exp(x)-1.\n",
            "        \n",
            "        This function avoids the loss of precision involved in the direct evaluation of exp(x)-1 for small x.\n",
            "    \n",
            "    fabs(x, /)\n",
            "        Return the absolute value of the float x.\n",
            "    \n",
            "    factorial(x, /)\n",
            "        Find x!.\n",
            "        \n",
            "        Raise a ValueError if x is negative or non-integral.\n",
            "    \n",
            "    floor(x, /)\n",
            "        Return the floor of x as an Integral.\n",
            "        \n",
            "        This is the largest integer <= x.\n",
            "    \n",
            "    fmod(x, y, /)\n",
            "        Return fmod(x, y), according to platform C.\n",
            "        \n",
            "        x % y may differ.\n",
            "    \n",
            "    frexp(x, /)\n",
            "        Return the mantissa and exponent of x, as pair (m, e).\n",
            "        \n",
            "        m is a float and e is an int, such that x = m * 2.**e.\n",
            "        If x is 0, m and e are both 0.  Else 0.5 <= abs(m) < 1.0.\n",
            "    \n",
            "    fsum(seq, /)\n",
            "        Return an accurate floating point sum of values in the iterable seq.\n",
            "        \n",
            "        Assumes IEEE-754 floating point arithmetic.\n",
            "    \n",
            "    gamma(x, /)\n",
            "        Gamma function at x.\n",
            "    \n",
            "    gcd(*integers)\n",
            "        Greatest Common Divisor.\n",
            "    \n",
            "    hypot(...)\n",
            "        hypot(*coordinates) -> value\n",
            "        \n",
            "        Multidimensional Euclidean distance from the origin to a point.\n",
            "        \n",
            "        Roughly equivalent to:\n",
            "            sqrt(sum(x**2 for x in coordinates))\n",
            "        \n",
            "        For a two dimensional point (x, y), gives the hypotenuse\n",
            "        using the Pythagorean theorem:  sqrt(x*x + y*y).\n",
            "        \n",
            "        For example, the hypotenuse of a 3/4/5 right triangle is:\n",
            "        \n",
            "            >>> hypot(3.0, 4.0)\n",
            "            5.0\n",
            "    \n",
            "    isclose(a, b, *, rel_tol=1e-09, abs_tol=0.0)\n",
            "        Determine whether two floating point numbers are close in value.\n",
            "        \n",
            "          rel_tol\n",
            "            maximum difference for being considered \"close\", relative to the\n",
            "            magnitude of the input values\n",
            "          abs_tol\n",
            "            maximum difference for being considered \"close\", regardless of the\n",
            "            magnitude of the input values\n",
            "        \n",
            "        Return True if a is close in value to b, and False otherwise.\n",
            "        \n",
            "        For the values to be considered close, the difference between them\n",
            "        must be smaller than at least one of the tolerances.\n",
            "        \n",
            "        -inf, inf and NaN behave similarly to the IEEE 754 Standard.  That\n",
            "        is, NaN is not close to anything, even itself.  inf and -inf are\n",
            "        only close to themselves.\n",
            "    \n",
            "    isfinite(x, /)\n",
            "        Return True if x is neither an infinity nor a NaN, and False otherwise.\n",
            "    \n",
            "    isinf(x, /)\n",
            "        Return True if x is a positive or negative infinity, and False otherwise.\n",
            "    \n",
            "    isnan(x, /)\n",
            "        Return True if x is a NaN (not a number), and False otherwise.\n",
            "    \n",
            "    isqrt(n, /)\n",
            "        Return the integer part of the square root of the input.\n",
            "    \n",
            "    lcm(*integers)\n",
            "        Least Common Multiple.\n",
            "    \n",
            "    ldexp(x, i, /)\n",
            "        Return x * (2**i).\n",
            "        \n",
            "        This is essentially the inverse of frexp().\n",
            "    \n",
            "    lgamma(x, /)\n",
            "        Natural logarithm of absolute value of Gamma function at x.\n",
            "    \n",
            "    log(...)\n",
            "        log(x, [base=math.e])\n",
            "        Return the logarithm of x to the given base.\n",
            "        \n",
            "        If the base not specified, returns the natural logarithm (base e) of x.\n",
            "    \n",
            "    log10(x, /)\n",
            "        Return the base 10 logarithm of x.\n",
            "    \n",
            "    log1p(x, /)\n",
            "        Return the natural logarithm of 1+x (base e).\n",
            "        \n",
            "        The result is computed in a way which is accurate for x near zero.\n",
            "    \n",
            "    log2(x, /)\n",
            "        Return the base 2 logarithm of x.\n",
            "    \n",
            "    modf(x, /)\n",
            "        Return the fractional and integer parts of x.\n",
            "        \n",
            "        Both results carry the sign of x and are floats.\n",
            "    \n",
            "    nextafter(x, y, /)\n",
            "        Return the next floating-point value after x towards y.\n",
            "    \n",
            "    perm(n, k=None, /)\n",
            "        Number of ways to choose k items from n items without repetition and with order.\n",
            "        \n",
            "        Evaluates to n! / (n - k)! when k <= n and evaluates\n",
            "        to zero when k > n.\n",
            "        \n",
            "        If k is not specified or is None, then k defaults to n\n",
            "        and the function returns n!.\n",
            "        \n",
            "        Raises TypeError if either of the arguments are not integers.\n",
            "        Raises ValueError if either of the arguments are negative.\n",
            "    \n",
            "    pow(x, y, /)\n",
            "        Return x**y (x to the power of y).\n",
            "    \n",
            "    prod(iterable, /, *, start=1)\n",
            "        Calculate the product of all the elements in the input iterable.\n",
            "        \n",
            "        The default start value for the product is 1.\n",
            "        \n",
            "        When the iterable is empty, return the start value.  This function is\n",
            "        intended specifically for use with numeric values and may reject\n",
            "        non-numeric types.\n",
            "    \n",
            "    radians(x, /)\n",
            "        Convert angle x from degrees to radians.\n",
            "    \n",
            "    remainder(x, y, /)\n",
            "        Difference between x and the closest integer multiple of y.\n",
            "        \n",
            "        Return x - n*y where n*y is the closest integer multiple of y.\n",
            "        In the case where x is exactly halfway between two multiples of\n",
            "        y, the nearest even value of n is used. The result is always exact.\n",
            "    \n",
            "    sin(x, /)\n",
            "        Return the sine of x (measured in radians).\n",
            "    \n",
            "    sinh(x, /)\n",
            "        Return the hyperbolic sine of x.\n",
            "    \n",
            "    sqrt(x, /)\n",
            "        Return the square root of x.\n",
            "    \n",
            "    tan(x, /)\n",
            "        Return the tangent of x (measured in radians).\n",
            "    \n",
            "    tanh(x, /)\n",
            "        Return the hyperbolic tangent of x.\n",
            "    \n",
            "    trunc(x, /)\n",
            "        Truncates the Real x to the nearest Integral toward 0.\n",
            "        \n",
            "        Uses the __trunc__ magic method.\n",
            "    \n",
            "    ulp(x, /)\n",
            "        Return the value of the least significant bit of the float x.\n",
            "\n",
            "DATA\n",
            "    e = 2.718281828459045\n",
            "    inf = inf\n",
            "    nan = nan\n",
            "    pi = 3.141592653589793\n",
            "    tau = 6.283185307179586\n",
            "\n",
            "FILE\n",
            "    (built-in)\n",
            "\n",
            "\n"
          ]
        }
      ],
      "source": [
        "help(math)"
      ]
    },
    {
      "cell_type": "code",
      "execution_count": 3,
      "metadata": {
        "id": "RkcGe_hBDKr2",
        "colab": {
          "base_uri": "https://localhost:8080/"
        },
        "outputId": "e5817fe6-4574-481c-9879-4a1ad44ef5d7"
      },
      "outputs": [
        {
          "output_type": "execute_result",
          "data": {
            "text/plain": [
              "2.718281828459045"
            ]
          },
          "metadata": {},
          "execution_count": 3
        }
      ],
      "source": [
        "math.e"
      ]
    },
    {
      "cell_type": "code",
      "source": [
        "#podemos asiganar la funcion a una letra"
      ],
      "metadata": {
        "id": "TJK7EUqwV4dZ"
      },
      "execution_count": 4,
      "outputs": []
    },
    {
      "cell_type": "code",
      "source": [
        "import math as m"
      ],
      "metadata": {
        "id": "CFbQ7yiSV5Zx"
      },
      "execution_count": 5,
      "outputs": []
    },
    {
      "cell_type": "code",
      "source": [
        "m.log(1)"
      ],
      "metadata": {
        "colab": {
          "base_uri": "https://localhost:8080/"
        },
        "id": "oW4Itwn_WDoi",
        "outputId": "49a854a8-17bd-477d-fa3f-e2593dd59483"
      },
      "execution_count": 6,
      "outputs": [
        {
          "output_type": "execute_result",
          "data": {
            "text/plain": [
              "0.0"
            ]
          },
          "metadata": {},
          "execution_count": 6
        }
      ]
    },
    {
      "cell_type": "code",
      "source": [
        "from math import e"
      ],
      "metadata": {
        "id": "wlDHWsTcWDzp"
      },
      "execution_count": 7,
      "outputs": []
    },
    {
      "cell_type": "code",
      "source": [
        "e"
      ],
      "metadata": {
        "colab": {
          "base_uri": "https://localhost:8080/"
        },
        "id": "UIREnugxWKr2",
        "outputId": "08dc1ef6-e67b-4b47-91f0-7364793c20d1"
      },
      "execution_count": 8,
      "outputs": [
        {
          "output_type": "execute_result",
          "data": {
            "text/plain": [
              "2.718281828459045"
            ]
          },
          "metadata": {},
          "execution_count": 8
        }
      ]
    },
    {
      "cell_type": "code",
      "source": [
        "from math import *"
      ],
      "metadata": {
        "id": "y6R4VQnEWK4Q"
      },
      "execution_count": 9,
      "outputs": []
    },
    {
      "cell_type": "code",
      "source": [
        "log(1)"
      ],
      "metadata": {
        "colab": {
          "base_uri": "https://localhost:8080/"
        },
        "id": "J6iF8nCGWRcF",
        "outputId": "eea3f6bc-053c-4b44-bbad-6f0c05bd2c67"
      },
      "execution_count": 10,
      "outputs": [
        {
          "output_type": "execute_result",
          "data": {
            "text/plain": [
              "0.0"
            ]
          },
          "metadata": {},
          "execution_count": 10
        }
      ]
    },
    {
      "cell_type": "code",
      "source": [
        "#para conectar con otras meotodos no instalados\" pip install pandas\""
      ],
      "metadata": {
        "id": "7PEnfmjUWYHu"
      },
      "execution_count": 11,
      "outputs": []
    },
    {
      "cell_type": "code",
      "source": [
        "pip install pandas"
      ],
      "metadata": {
        "colab": {
          "base_uri": "https://localhost:8080/"
        },
        "id": "qhjtDlaFWoPJ",
        "outputId": "190c3134-7de8-451d-e29e-be42ee0d62fd"
      },
      "execution_count": 12,
      "outputs": [
        {
          "output_type": "stream",
          "name": "stdout",
          "text": [
            "Requirement already satisfied: pandas in /usr/local/lib/python3.10/dist-packages (1.5.3)\n",
            "Requirement already satisfied: python-dateutil>=2.8.1 in /usr/local/lib/python3.10/dist-packages (from pandas) (2.8.2)\n",
            "Requirement already satisfied: pytz>=2020.1 in /usr/local/lib/python3.10/dist-packages (from pandas) (2022.7.1)\n",
            "Requirement already satisfied: numpy>=1.21.0 in /usr/local/lib/python3.10/dist-packages (from pandas) (1.22.4)\n",
            "Requirement already satisfied: six>=1.5 in /usr/local/lib/python3.10/dist-packages (from python-dateutil>=2.8.1->pandas) (1.16.0)\n"
          ]
        }
      ]
    },
    {
      "cell_type": "code",
      "source": [
        "#beautifulsoap para scrappe web sites"
      ],
      "metadata": {
        "id": "9AVNFpOPW1sC"
      },
      "execution_count": 13,
      "outputs": []
    },
    {
      "cell_type": "markdown",
      "metadata": {
        "id": "7cNTBjpjwSXb"
      },
      "source": [
        "## Módulos Built-in"
      ]
    },
    {
      "cell_type": "markdown",
      "metadata": {
        "id": "DAQTtECKwSXf"
      },
      "source": [
        "![title](https://static.bookstack.cn/projects/Python3_Module_Examples/module_mindmap.png)"
      ]
    },
    {
      "cell_type": "markdown",
      "metadata": {
        "id": "EsG_pFVWwSXf"
      },
      "source": [
        "### Math Module"
      ]
    },
    {
      "cell_type": "code",
      "source": [],
      "metadata": {
        "id": "wnzWTNVqV3F7"
      },
      "execution_count": 13,
      "outputs": []
    },
    {
      "cell_type": "code",
      "execution_count": 14,
      "metadata": {
        "id": "mQz4gBerDKr3",
        "colab": {
          "base_uri": "https://localhost:8080/"
        },
        "outputId": "d4d85654-cfdb-462e-e007-26049a3029fd"
      },
      "outputs": [
        {
          "output_type": "execute_result",
          "data": {
            "text/plain": [
              "0.5235987755982988"
            ]
          },
          "metadata": {},
          "execution_count": 14
        }
      ],
      "source": [
        "math.radians(30)"
      ]
    },
    {
      "cell_type": "code",
      "execution_count": 15,
      "metadata": {
        "id": "8Yn0kTOADKr3",
        "colab": {
          "base_uri": "https://localhost:8080/"
        },
        "outputId": "e472675f-9eec-4ca4-fe37-0008bce3ae57"
      },
      "outputs": [
        {
          "output_type": "execute_result",
          "data": {
            "text/plain": [
              "0.479425538604203"
            ]
          },
          "metadata": {},
          "execution_count": 15
        }
      ],
      "source": [
        "math.sin(0.5)"
      ]
    },
    {
      "cell_type": "code",
      "execution_count": 16,
      "metadata": {
        "id": "6y-Uw_teDKr3",
        "colab": {
          "base_uri": "https://localhost:8080/"
        },
        "outputId": "c8e84dec-3e75-42fd-f10d-939b64a36165"
      },
      "outputs": [
        {
          "output_type": "execute_result",
          "data": {
            "text/plain": [
              "5"
            ]
          },
          "metadata": {},
          "execution_count": 16
        }
      ],
      "source": [
        "math.ceil(4.558)"
      ]
    },
    {
      "cell_type": "code",
      "execution_count": 17,
      "metadata": {
        "id": "MsXJjFUTDKr3",
        "colab": {
          "base_uri": "https://localhost:8080/"
        },
        "outputId": "b0aa8f64-e89e-4d73-b837-e8ff8a77cc63"
      },
      "outputs": [
        {
          "output_type": "execute_result",
          "data": {
            "text/plain": [
              "3"
            ]
          },
          "metadata": {},
          "execution_count": 17
        }
      ],
      "source": [
        "math.floor(3.32)"
      ]
    },
    {
      "cell_type": "code",
      "source": [
        "math.floor?"
      ],
      "metadata": {
        "id": "ePuEZvpLX3xI"
      },
      "execution_count": 18,
      "outputs": []
    },
    {
      "cell_type": "code",
      "source": [],
      "metadata": {
        "id": "KVPwSLWwYT-o"
      },
      "execution_count": 18,
      "outputs": []
    },
    {
      "cell_type": "code",
      "source": [],
      "metadata": {
        "id": "Nspd__HHX7VF"
      },
      "execution_count": 18,
      "outputs": []
    },
    {
      "cell_type": "markdown",
      "metadata": {
        "id": "GVRGnZE6wSXl"
      },
      "source": [
        "###  Statistics Module"
      ]
    },
    {
      "cell_type": "code",
      "execution_count": 19,
      "metadata": {
        "id": "9T5wEpbVDKr4"
      },
      "outputs": [],
      "source": [
        "import statistics as st"
      ]
    },
    {
      "cell_type": "code",
      "execution_count": 20,
      "metadata": {
        "id": "zp-yLjsgDKr4",
        "colab": {
          "base_uri": "https://localhost:8080/"
        },
        "outputId": "8682950c-944b-4082-9413-625b6e956296"
      },
      "outputs": [
        {
          "output_type": "execute_result",
          "data": {
            "text/plain": [
              "2.5"
            ]
          },
          "metadata": {},
          "execution_count": 20
        }
      ],
      "source": [
        "st.mean([1,2,3,4])"
      ]
    },
    {
      "cell_type": "code",
      "execution_count": 21,
      "metadata": {
        "id": "6YxWfhEhDKr4",
        "colab": {
          "base_uri": "https://localhost:8080/"
        },
        "outputId": "8bd72c50-7400-44b9-ca70-e35bbe482ce5"
      },
      "outputs": [
        {
          "output_type": "execute_result",
          "data": {
            "text/plain": [
              "2.5"
            ]
          },
          "metadata": {},
          "execution_count": 21
        }
      ],
      "source": [
        "st.median([1,2,3,4])"
      ]
    },
    {
      "cell_type": "code",
      "execution_count": 22,
      "metadata": {
        "id": "GHjn6nKsDKr4",
        "colab": {
          "base_uri": "https://localhost:8080/"
        },
        "outputId": "5f1df2f8-2a42-45ea-9ee3-0c365ec34686"
      },
      "outputs": [
        {
          "output_type": "execute_result",
          "data": {
            "text/plain": [
              "1"
            ]
          },
          "metadata": {},
          "execution_count": 22
        }
      ],
      "source": [
        "st.mode([1,2,3,4])"
      ]
    },
    {
      "cell_type": "code",
      "source": [
        "st.stdev([1,2,3,4])"
      ],
      "metadata": {
        "colab": {
          "base_uri": "https://localhost:8080/"
        },
        "id": "rHSYeMqeYa-i",
        "outputId": "af3a2d8f-4044-49c8-eca8-642aebe6db59"
      },
      "execution_count": 23,
      "outputs": [
        {
          "output_type": "execute_result",
          "data": {
            "text/plain": [
              "1.2909944487358056"
            ]
          },
          "metadata": {},
          "execution_count": 23
        }
      ]
    },
    {
      "cell_type": "markdown",
      "metadata": {
        "id": "2p9eCpvIwSXm"
      },
      "source": [
        "### Random module"
      ]
    },
    {
      "cell_type": "code",
      "execution_count": 24,
      "metadata": {
        "id": "8LU0CRkbDKr4"
      },
      "outputs": [],
      "source": [
        "import random"
      ]
    },
    {
      "cell_type": "code",
      "execution_count": 25,
      "metadata": {
        "id": "eIi_GeWeDKr4",
        "colab": {
          "base_uri": "https://localhost:8080/"
        },
        "outputId": "d1f1a84c-f552-4313-da73-df872cfe2c58"
      },
      "outputs": [
        {
          "output_type": "execute_result",
          "data": {
            "text/plain": [
              "0.08119430289704455"
            ]
          },
          "metadata": {},
          "execution_count": 25
        }
      ],
      "source": [
        "random.random()"
      ]
    },
    {
      "cell_type": "code",
      "execution_count": 26,
      "metadata": {
        "id": "8DX579E1DKr5",
        "colab": {
          "base_uri": "https://localhost:8080/"
        },
        "outputId": "808d1e3f-0839-4ee3-e867-a55076ae6b69"
      },
      "outputs": [
        {
          "output_type": "execute_result",
          "data": {
            "text/plain": [
              "99"
            ]
          },
          "metadata": {},
          "execution_count": 26
        }
      ],
      "source": [
        "random.randint(1,100)"
      ]
    },
    {
      "cell_type": "code",
      "execution_count": 27,
      "metadata": {
        "id": "1Zf6M_ZKDKr5",
        "colab": {
          "base_uri": "https://localhost:8080/"
        },
        "outputId": "d053b103-d873-427f-d57f-24761021b2e6"
      },
      "outputs": [
        {
          "output_type": "execute_result",
          "data": {
            "text/plain": [
              "1"
            ]
          },
          "metadata": {},
          "execution_count": 27
        }
      ],
      "source": [
        "random.choice([1,2,3,4])"
      ]
    },
    {
      "cell_type": "code",
      "source": [],
      "metadata": {
        "id": "Py8DaFKRZHhY"
      },
      "execution_count": 27,
      "outputs": []
    },
    {
      "cell_type": "markdown",
      "metadata": {
        "id": "AhX1NWDvwSXo"
      },
      "source": [
        "# Paquetes en Python"
      ]
    },
    {
      "cell_type": "markdown",
      "metadata": {
        "id": "mPlrDDJBwSXp"
      },
      "source": [
        "Python tiene más de 137.000 librerías disponibles, nosotros veremos algunas de las más útiles para Data Science, de las cuáles destacan las siguientes:"
      ]
    },
    {
      "cell_type": "markdown",
      "metadata": {
        "id": "9gE-6KndwSXp"
      },
      "source": [
        "![title](https://cdn-images-1.medium.com/max/800/1*BeWMs7DfFaZKnNRaos72JA.png)"
      ]
    },
    {
      "cell_type": "markdown",
      "metadata": {
        "id": "dotWYg1lwSXp"
      },
      "source": [
        "Librerías para tratamiento de datos:\n",
        "- NumPy\n",
        "- SciPy\n",
        "_ Pandas\n",
        "- SciKit-Learn\n",
        "\n",
        "Mientras librerías para visualización:\n",
        "- matplotlib\n",
        "- Seaborn"
      ]
    },
    {
      "cell_type": "markdown",
      "metadata": {
        "id": "370Qok3UwSXp"
      },
      "source": [
        "# NumPy"
      ]
    },
    {
      "cell_type": "markdown",
      "metadata": {
        "id": "-WqlV2MbwSXq"
      },
      "source": [
        "![tite](https://d1jnx9ba8s6j9r.cloudfront.net/blog/wp-content/uploads/2018/11/1200px-NumPy_logo.svg_.png)"
      ]
    },
    {
      "cell_type": "markdown",
      "metadata": {
        "id": "u0g4qN3NwSXq"
      },
      "source": [
        "## Qué es NumPy?"
      ]
    },
    {
      "cell_type": "markdown",
      "metadata": {
        "id": "AhrNPWeywSXq"
      },
      "source": [
        "NumPy (**Num**erical **Py**thon) está considerada como una de las librerías más populares de machine learning en Python, y se usa en casi todos los procesos de computación numérica de Python y librerías como Pandas, SciPy, Matplotlib, scikit-learn etc."
      ]
    },
    {
      "cell_type": "markdown",
      "metadata": {
        "id": "BOG0MXpowSXq"
      },
      "source": [
        "Algunas características de NumPy:\n",
        "- Se usa para computaciones de alto rendimiento con **vectores** y **matrices**, o lo que llamamos **arrays n-dimensionales**: *ndarray()*\n",
        "- Ofrece **computación vectorizada** de arrays y matrices\n",
        "- Ofrece funciones y rutinas numéricas de rápida precompilación\n",
        "- Está escrita en *C* y *Fortran*"
      ]
    },
    {
      "cell_type": "markdown",
      "metadata": {
        "id": "JXhj_pcUwSXq"
      },
      "source": [
        "## NumPy Arrays"
      ]
    },
    {
      "cell_type": "markdown",
      "metadata": {
        "id": "d4WdXoFqwSXs"
      },
      "source": [
        "**El array es la estructura de datos central de la librería NumPy**. Es una parrilla de valores, y contiene información de datos raw, de cómo alocar un elemento y cómo interpretarlo.\n",
        "\n",
        "Características:\n",
        "\n",
        "- Los elementos de la parrilla pueden ser indexados de diferentes formas.\n",
        "- Los elementos tienen que ser todos de mismo tipo, que es el tipo: *array dtype*\n"
      ]
    },
    {
      "cell_type": "markdown",
      "metadata": {
        "id": "35pgQbfhwSXs"
      },
      "source": [
        "![title](https://www.tutorialspoint.com/numpy/images/ndarray.jpg)"
      ]
    },
    {
      "cell_type": "markdown",
      "metadata": {
        "id": "bJBDrYdjwSXv"
      },
      "source": [
        "### Array 1d (a partir de una lista)"
      ]
    },
    {
      "cell_type": "code",
      "source": [
        "import numpy as np"
      ],
      "metadata": {
        "id": "WP_Im7-pad-v"
      },
      "execution_count": 28,
      "outputs": []
    },
    {
      "cell_type": "code",
      "execution_count": 29,
      "metadata": {
        "ExecuteTime": {
          "end_time": "2021-02-01T19:28:31.056813Z",
          "start_time": "2021-02-01T19:28:31.053818Z"
        },
        "id": "HRxnxwkwwSXv"
      },
      "outputs": [],
      "source": [
        "lista = [1,2,3]"
      ]
    },
    {
      "cell_type": "code",
      "execution_count": 30,
      "metadata": {
        "ExecuteTime": {
          "end_time": "2021-02-01T19:28:35.858844Z",
          "start_time": "2021-02-01T19:28:35.850846Z"
        },
        "id": "KLeldUCZwSXw"
      },
      "outputs": [],
      "source": [
        "arr = np.array(lista)"
      ]
    },
    {
      "cell_type": "code",
      "execution_count": 31,
      "metadata": {
        "ExecuteTime": {
          "end_time": "2020-02-09T12:25:18.490170Z",
          "start_time": "2020-02-09T12:25:18.482015Z"
        },
        "id": "7UMS9i24wSXw",
        "colab": {
          "base_uri": "https://localhost:8080/"
        },
        "outputId": "49533786-ed3d-408f-fe0d-1550994b73b0"
      },
      "outputs": [
        {
          "output_type": "execute_result",
          "data": {
            "text/plain": [
              "array([1, 2, 3])"
            ]
          },
          "metadata": {},
          "execution_count": 31
        }
      ],
      "source": [
        "arr"
      ]
    },
    {
      "cell_type": "code",
      "source": [
        "arr + 1"
      ],
      "metadata": {
        "colab": {
          "base_uri": "https://localhost:8080/"
        },
        "id": "mB4LMe84anx7",
        "outputId": "d235a0b3-bdeb-484b-8ac5-74988c2a01b3"
      },
      "execution_count": 32,
      "outputs": [
        {
          "output_type": "execute_result",
          "data": {
            "text/plain": [
              "array([2, 3, 4])"
            ]
          },
          "metadata": {},
          "execution_count": 32
        }
      ]
    },
    {
      "cell_type": "code",
      "source": [],
      "metadata": {
        "id": "mz9tAOeHaoAQ"
      },
      "execution_count": 32,
      "outputs": []
    },
    {
      "cell_type": "markdown",
      "metadata": {
        "id": "TO0kdVhAwSXs"
      },
      "source": [
        "|Comando |función|\n",
        "|:---|:---|\n",
        "|**ndim()**|dimensión del array. 1d - creado con una lista, 2d - creado con una lista de listas|\n",
        "|**shape()**|nº elementos en cada dimensión: **notación: (i,j) donde i es el nº filas y j el nº columnas**|\n",
        "|**dtype()**|tipo de datos del array|\n",
        "|**size()**|nº total de elementos del array|"
      ]
    },
    {
      "cell_type": "code",
      "execution_count": 33,
      "metadata": {
        "id": "XfHyfL-4DKr8",
        "colab": {
          "base_uri": "https://localhost:8080/"
        },
        "outputId": "70c3951e-57b5-43c0-92bb-e61a28690ab3"
      },
      "outputs": [
        {
          "output_type": "execute_result",
          "data": {
            "text/plain": [
              "1"
            ]
          },
          "metadata": {},
          "execution_count": 33
        }
      ],
      "source": [
        "arr.ndim"
      ]
    },
    {
      "cell_type": "code",
      "execution_count": 34,
      "metadata": {
        "id": "sGpoAiTKXt4r",
        "colab": {
          "base_uri": "https://localhost:8080/"
        },
        "outputId": "f40c7e6e-46a8-4aa0-ec32-f9542c3c8f50"
      },
      "outputs": [
        {
          "output_type": "execute_result",
          "data": {
            "text/plain": [
              "(3,)"
            ]
          },
          "metadata": {},
          "execution_count": 34
        }
      ],
      "source": [
        "arr.shape"
      ]
    },
    {
      "cell_type": "code",
      "source": [
        "arr.dtype"
      ],
      "metadata": {
        "colab": {
          "base_uri": "https://localhost:8080/"
        },
        "id": "A6wbrWDnbLzA",
        "outputId": "19aad5f8-5641-474f-ac14-57c155dfa554"
      },
      "execution_count": 35,
      "outputs": [
        {
          "output_type": "execute_result",
          "data": {
            "text/plain": [
              "dtype('int64')"
            ]
          },
          "metadata": {},
          "execution_count": 35
        }
      ]
    },
    {
      "cell_type": "code",
      "source": [
        "arr.size"
      ],
      "metadata": {
        "colab": {
          "base_uri": "https://localhost:8080/"
        },
        "id": "ZJ9p-dP4bL0o",
        "outputId": "7eff885e-d86b-4778-d7ff-495301631ced"
      },
      "execution_count": 36,
      "outputs": [
        {
          "output_type": "execute_result",
          "data": {
            "text/plain": [
              "3"
            ]
          },
          "metadata": {},
          "execution_count": 36
        }
      ]
    },
    {
      "cell_type": "code",
      "execution_count": 36,
      "metadata": {
        "id": "k-CQYMCtXuu0"
      },
      "outputs": [],
      "source": []
    },
    {
      "cell_type": "markdown",
      "metadata": {
        "id": "Hy3hZnPrwSXw"
      },
      "source": [
        "![title](https://miro.medium.com/max/2600/0*Q_wCrQ29wTBHb_7Q.png)"
      ]
    },
    {
      "cell_type": "markdown",
      "metadata": {
        "id": "0COunK9AwSXw"
      },
      "source": [
        "**Las funciones aplican a nivel elemento y no a nivel objeto**"
      ]
    },
    {
      "cell_type": "code",
      "execution_count": 37,
      "metadata": {
        "id": "BTIwhUUgDKr8",
        "colab": {
          "base_uri": "https://localhost:8080/"
        },
        "outputId": "0c90680b-6cbb-4ac9-9e0b-f75beff5b8a8"
      },
      "outputs": [
        {
          "output_type": "execute_result",
          "data": {
            "text/plain": [
              "array([3, 6, 9])"
            ]
          },
          "metadata": {},
          "execution_count": 37
        }
      ],
      "source": [
        "arr * 3"
      ]
    },
    {
      "cell_type": "code",
      "source": [
        "arr / 4"
      ],
      "metadata": {
        "colab": {
          "base_uri": "https://localhost:8080/"
        },
        "id": "b-h5l8I2cC1t",
        "outputId": "bc6ebf20-f272-461a-8303-35c8847a7706"
      },
      "execution_count": 38,
      "outputs": [
        {
          "output_type": "execute_result",
          "data": {
            "text/plain": [
              "array([0.25, 0.5 , 0.75])"
            ]
          },
          "metadata": {},
          "execution_count": 38
        }
      ]
    },
    {
      "cell_type": "markdown",
      "metadata": {
        "id": "5VLK0mD8wSXx"
      },
      "source": [
        "### Array 2d (a partir de una lista de listas)"
      ]
    },
    {
      "cell_type": "code",
      "execution_count": 39,
      "metadata": {
        "ExecuteTime": {
          "end_time": "2020-02-09T12:23:29.272518Z",
          "start_time": "2020-02-09T12:23:29.254252Z"
        },
        "id": "kBzFVPPSwSXx"
      },
      "outputs": [],
      "source": [
        "lista_2d = [[0,1,2], [3,4,5], [6,7,8]]"
      ]
    },
    {
      "cell_type": "code",
      "execution_count": 40,
      "metadata": {
        "id": "SrjM_NbbDKr9"
      },
      "outputs": [],
      "source": [
        "arr_2d = np.array(lista_2d)"
      ]
    },
    {
      "cell_type": "code",
      "execution_count": 41,
      "metadata": {
        "id": "RQVc2ugGDKr9",
        "colab": {
          "base_uri": "https://localhost:8080/"
        },
        "outputId": "aba3dd15-1028-4bd0-a5a4-934c7f83a322"
      },
      "outputs": [
        {
          "output_type": "execute_result",
          "data": {
            "text/plain": [
              "array([[0, 1, 2],\n",
              "       [3, 4, 5],\n",
              "       [6, 7, 8]])"
            ]
          },
          "metadata": {},
          "execution_count": 41
        }
      ],
      "source": [
        "arr_2d"
      ]
    },
    {
      "cell_type": "markdown",
      "metadata": {
        "id": "yHi8QeiqwSXy"
      },
      "source": [
        "### Array 3d (lista de listas de listas)"
      ]
    },
    {
      "cell_type": "code",
      "execution_count": 42,
      "metadata": {
        "ExecuteTime": {
          "end_time": "2021-01-16T19:08:38.780649Z",
          "start_time": "2021-01-16T19:08:38.763647Z"
        },
        "id": "4bkSgh7dwSXy"
      },
      "outputs": [],
      "source": [
        "lista_3d = [[[1,3], [2,4], [4,3]], [[3,2], [4,1], [0,3]]]"
      ]
    },
    {
      "cell_type": "code",
      "execution_count": 43,
      "metadata": {
        "id": "L7IhbQggDKr-"
      },
      "outputs": [],
      "source": [
        "arr_3d = np.array(lista_3d)"
      ]
    },
    {
      "cell_type": "code",
      "execution_count": 44,
      "metadata": {
        "id": "d_jduwiuDKr-",
        "colab": {
          "base_uri": "https://localhost:8080/"
        },
        "outputId": "dd34b7e1-9360-4a1a-bd6f-9214aeab786b"
      },
      "outputs": [
        {
          "output_type": "execute_result",
          "data": {
            "text/plain": [
              "array([[[1, 3],\n",
              "        [2, 4],\n",
              "        [4, 3]],\n",
              "\n",
              "       [[3, 2],\n",
              "        [4, 1],\n",
              "        [0, 3]]])"
            ]
          },
          "metadata": {},
          "execution_count": 44
        }
      ],
      "source": [
        "arr_3d"
      ]
    },
    {
      "cell_type": "markdown",
      "metadata": {
        "id": "PkWVeLmRwSXu"
      },
      "source": [
        "##### Ejercicio\n",
        "Genera un array que contenga las siguientes 3 listas de números.\n",
        "\n",
        "- 1a fila: 1,2,3,4  \n",
        "- 2a fila: 5,1,1,1\n",
        "- 3a fila: 0,1,2,7\n",
        "\n",
        "Determina la dimensión, el número de elementos, el tipo de datos, y el número total de elementos."
      ]
    },
    {
      "cell_type": "code",
      "execution_count": 45,
      "metadata": {
        "id": "ZSeHOxjHDKr-"
      },
      "outputs": [],
      "source": [
        "import numpy as np"
      ]
    },
    {
      "cell_type": "code",
      "execution_count": 46,
      "metadata": {
        "id": "RCb3xi_5DKr-",
        "colab": {
          "base_uri": "https://localhost:8080/"
        },
        "outputId": "232d0c6c-20e7-4640-ea48-599003f7b377"
      },
      "outputs": [
        {
          "output_type": "stream",
          "name": "stdout",
          "text": [
            "[[1 2 3 4]\n",
            " [5 1 1 1]\n",
            " [0 1 2 7]]\n"
          ]
        }
      ],
      "source": [
        "import numpy as np\n",
        "\n",
        "lista1 = [1,2,3,4]\n",
        "lista2 = [5,1,1,1]\n",
        "lista3 = [0,1,2,7]\n",
        "\n",
        "array = np.array([lista1, lista2, lista3])\n",
        "\n",
        "print(array)\n"
      ]
    },
    {
      "cell_type": "markdown",
      "metadata": {
        "id": "XeGV1z2NwSXy"
      },
      "source": [
        "#### np.arange(): Arrays separados de forma igual"
      ]
    },
    {
      "cell_type": "code",
      "execution_count": 47,
      "metadata": {
        "id": "aCoFrc6HDKr-"
      },
      "outputs": [],
      "source": [
        "import numpy as np"
      ]
    },
    {
      "cell_type": "code",
      "execution_count": 48,
      "metadata": {
        "id": "u1tUizNYDKr-",
        "colab": {
          "base_uri": "https://localhost:8080/"
        },
        "outputId": "e14fa19d-5db3-42a5-e66b-19cc83790cd2"
      },
      "outputs": [
        {
          "output_type": "execute_result",
          "data": {
            "text/plain": [
              "array([ 0,  1,  2,  3,  4,  5,  6,  7,  8,  9, 10, 11, 12, 13, 14, 15, 16,\n",
              "       17, 18, 19])"
            ]
          },
          "metadata": {},
          "execution_count": 48
        }
      ],
      "source": [
        "np.arange(20)"
      ]
    },
    {
      "cell_type": "code",
      "execution_count": 49,
      "metadata": {
        "id": "9MrZC8bEDKr-",
        "colab": {
          "base_uri": "https://localhost:8080/"
        },
        "outputId": "c5a4ed2d-d91c-4820-aa30-25d3fe7c17e3"
      },
      "outputs": [
        {
          "output_type": "execute_result",
          "data": {
            "text/plain": [
              "array([45, 46, 47, 48, 49, 50, 51, 52, 53, 54, 55, 56, 57, 58, 59, 60, 61,\n",
              "       62, 63, 64])"
            ]
          },
          "metadata": {},
          "execution_count": 49
        }
      ],
      "source": [
        "np.arange(45,65)"
      ]
    },
    {
      "cell_type": "code",
      "source": [
        "np.arange(30, 10, -5)"
      ],
      "metadata": {
        "colab": {
          "base_uri": "https://localhost:8080/"
        },
        "id": "p6-ZBudIfunn",
        "outputId": "95cc6e7c-de30-47b3-8f3c-0d0a7a84f057"
      },
      "execution_count": 50,
      "outputs": [
        {
          "output_type": "execute_result",
          "data": {
            "text/plain": [
              "array([30, 25, 20, 15])"
            ]
          },
          "metadata": {},
          "execution_count": 50
        }
      ]
    },
    {
      "cell_type": "markdown",
      "metadata": {
        "id": "IAyNOOv6wSXz"
      },
      "source": [
        "#### np.linspace(): separados por nº puntos"
      ]
    },
    {
      "cell_type": "code",
      "execution_count": 51,
      "metadata": {
        "id": "L1kmwNu5DKr-",
        "colab": {
          "base_uri": "https://localhost:8080/"
        },
        "outputId": "642eb117-e895-471d-89fb-174d01f92be4"
      },
      "outputs": [
        {
          "output_type": "execute_result",
          "data": {
            "text/plain": [
              "array([ 1.  ,  3.25,  5.5 ,  7.75, 10.  ])"
            ]
          },
          "metadata": {},
          "execution_count": 51
        }
      ],
      "source": [
        "np.linspace(1, 10, 5)"
      ]
    },
    {
      "cell_type": "markdown",
      "metadata": {
        "id": "20rE_LCNwSX0"
      },
      "source": [
        "#### np.random(): Array Aleatorio"
      ]
    },
    {
      "cell_type": "code",
      "execution_count": 52,
      "metadata": {
        "id": "LH1X4MkuDKr_",
        "colab": {
          "base_uri": "https://localhost:8080/"
        },
        "outputId": "d0e06090-fb9d-46fe-9c06-34dcac3bd5c6"
      },
      "outputs": [
        {
          "output_type": "execute_result",
          "data": {
            "text/plain": [
              "array([0.76993516, 0.19107717, 0.59113467, 0.19343678])"
            ]
          },
          "metadata": {},
          "execution_count": 52
        }
      ],
      "source": [
        "np.random.rand(4)"
      ]
    },
    {
      "cell_type": "code",
      "execution_count": 53,
      "metadata": {
        "id": "C03j_gO6DKr_",
        "colab": {
          "base_uri": "https://localhost:8080/"
        },
        "outputId": "d50b6bc2-03c3-4de3-f35e-cff7856dd8db"
      },
      "outputs": [
        {
          "output_type": "execute_result",
          "data": {
            "text/plain": [
              "2"
            ]
          },
          "metadata": {},
          "execution_count": 53
        }
      ],
      "source": [
        "np.random.randint(1, 10)"
      ]
    },
    {
      "cell_type": "markdown",
      "metadata": {
        "id": "QpmL2LT2wSX4"
      },
      "source": [
        "### Cambiar tipo de datos de array: astype()"
      ]
    },
    {
      "cell_type": "code",
      "execution_count": 54,
      "metadata": {
        "ExecuteTime": {
          "end_time": "2020-02-09T12:52:19.332041Z",
          "start_time": "2020-02-09T12:52:19.325621Z"
        },
        "id": "a_9jIRfRwSX4",
        "colab": {
          "base_uri": "https://localhost:8080/"
        },
        "outputId": "3e6fb3b8-280c-4a6c-a058-c7390f9fd370"
      },
      "outputs": [
        {
          "output_type": "execute_result",
          "data": {
            "text/plain": [
              "array([[0., 1., 2.],\n",
              "       [3., 4., 5.],\n",
              "       [6., 7., 8.]])"
            ]
          },
          "metadata": {},
          "execution_count": 54
        }
      ],
      "source": [
        "lista_de_listas = [[0,1,2], [3,4,5], [6,7,8]]\n",
        "array_2d = np.array(lista_de_listas,dtype='float')\n",
        "array_2d"
      ]
    },
    {
      "cell_type": "markdown",
      "metadata": {
        "id": "yicqWMJZwSX4"
      },
      "source": [
        "## Indexado y particionado de arrays"
      ]
    },
    {
      "cell_type": "markdown",
      "metadata": {
        "id": "ouztmbOwwSX5"
      },
      "source": [
        "### Indexado de un array"
      ]
    },
    {
      "cell_type": "code",
      "execution_count": 55,
      "metadata": {
        "id": "IM3-DT5uDKr_"
      },
      "outputs": [],
      "source": [
        "a = np.arange(10)"
      ]
    },
    {
      "cell_type": "code",
      "execution_count": 56,
      "metadata": {
        "id": "N2Q7N-t0DKsA",
        "colab": {
          "base_uri": "https://localhost:8080/"
        },
        "outputId": "0247aed5-fd8c-4ba3-a9bf-6f1dd164a259"
      },
      "outputs": [
        {
          "output_type": "execute_result",
          "data": {
            "text/plain": [
              "array([0, 1, 2, 3, 4, 5, 6, 7, 8, 9])"
            ]
          },
          "metadata": {},
          "execution_count": 56
        }
      ],
      "source": [
        "a"
      ]
    },
    {
      "cell_type": "code",
      "execution_count": 57,
      "metadata": {
        "id": "xlt9AgULDKsA",
        "colab": {
          "base_uri": "https://localhost:8080/"
        },
        "outputId": "672375ab-6e59-4735-c34f-e7dd8f2ca2cd"
      },
      "outputs": [
        {
          "output_type": "execute_result",
          "data": {
            "text/plain": [
              "0"
            ]
          },
          "metadata": {},
          "execution_count": 57
        }
      ],
      "source": [
        "a[0]"
      ]
    },
    {
      "cell_type": "code",
      "source": [
        "a[-1]"
      ],
      "metadata": {
        "colab": {
          "base_uri": "https://localhost:8080/"
        },
        "id": "GDyHXW8Tg5OD",
        "outputId": "d1f8495b-859b-4b3c-f728-96b5363dc092"
      },
      "execution_count": 58,
      "outputs": [
        {
          "output_type": "execute_result",
          "data": {
            "text/plain": [
              "9"
            ]
          },
          "metadata": {},
          "execution_count": 58
        }
      ]
    },
    {
      "cell_type": "code",
      "source": [
        "a[3:7]"
      ],
      "metadata": {
        "colab": {
          "base_uri": "https://localhost:8080/"
        },
        "id": "GTb9k7xUg5Pp",
        "outputId": "c2bc95e4-15e2-433e-a6fa-f551f61a3a70"
      },
      "execution_count": 59,
      "outputs": [
        {
          "output_type": "execute_result",
          "data": {
            "text/plain": [
              "array([3, 4, 5, 6])"
            ]
          },
          "metadata": {},
          "execution_count": 59
        }
      ]
    },
    {
      "cell_type": "code",
      "source": [
        "a[:7]"
      ],
      "metadata": {
        "colab": {
          "base_uri": "https://localhost:8080/"
        },
        "id": "EqdwnldvhECj",
        "outputId": "4ba64585-357f-4f51-ec47-9a5157470060"
      },
      "execution_count": 60,
      "outputs": [
        {
          "output_type": "execute_result",
          "data": {
            "text/plain": [
              "array([0, 1, 2, 3, 4, 5, 6])"
            ]
          },
          "metadata": {},
          "execution_count": 60
        }
      ]
    },
    {
      "cell_type": "code",
      "source": [],
      "metadata": {
        "id": "3NMYZ4oDhESo"
      },
      "execution_count": 60,
      "outputs": []
    },
    {
      "cell_type": "markdown",
      "metadata": {
        "id": "GKkX7mhfwSX6"
      },
      "source": [
        "#### Indexado para multi-array"
      ]
    },
    {
      "cell_type": "code",
      "execution_count": 61,
      "metadata": {
        "id": "ctUQV_8MDKsA"
      },
      "outputs": [],
      "source": [
        "a = np.diag(np.arange(3))"
      ]
    },
    {
      "cell_type": "code",
      "execution_count": 62,
      "metadata": {
        "id": "B05bI0cQDKsA",
        "colab": {
          "base_uri": "https://localhost:8080/"
        },
        "outputId": "600856bf-220b-408b-b1e4-caefe9a03485"
      },
      "outputs": [
        {
          "output_type": "execute_result",
          "data": {
            "text/plain": [
              "array([[0, 0, 0],\n",
              "       [0, 1, 0],\n",
              "       [0, 0, 2]])"
            ]
          },
          "metadata": {},
          "execution_count": 62
        }
      ],
      "source": [
        "a"
      ]
    },
    {
      "cell_type": "code",
      "execution_count": 63,
      "metadata": {
        "id": "rKW_uRInDKsA",
        "colab": {
          "base_uri": "https://localhost:8080/"
        },
        "outputId": "fa3638c3-7a72-4fe8-bda7-8826b5b2bfd2"
      },
      "outputs": [
        {
          "output_type": "execute_result",
          "data": {
            "text/plain": [
              "2"
            ]
          },
          "metadata": {},
          "execution_count": 63
        }
      ],
      "source": [
        "a[2,2]"
      ]
    },
    {
      "cell_type": "code",
      "source": [
        "a[:,0]"
      ],
      "metadata": {
        "colab": {
          "base_uri": "https://localhost:8080/"
        },
        "id": "N3_0BJjPhMO_",
        "outputId": "ea92ec04-1542-46e3-d18d-0b41ac13fe41"
      },
      "execution_count": 64,
      "outputs": [
        {
          "output_type": "execute_result",
          "data": {
            "text/plain": [
              "array([0, 0, 0])"
            ]
          },
          "metadata": {},
          "execution_count": 64
        }
      ]
    },
    {
      "cell_type": "code",
      "source": [
        "a[:2,:2]"
      ],
      "metadata": {
        "colab": {
          "base_uri": "https://localhost:8080/"
        },
        "id": "Nc6GKy24iwaX",
        "outputId": "51859aa7-3aa0-42fa-b0b9-e85d1b77450b"
      },
      "execution_count": 65,
      "outputs": [
        {
          "output_type": "execute_result",
          "data": {
            "text/plain": [
              "array([[0, 0],\n",
              "       [0, 1]])"
            ]
          },
          "metadata": {},
          "execution_count": 65
        }
      ]
    },
    {
      "cell_type": "code",
      "source": [
        "a[a[1]]"
      ],
      "metadata": {
        "colab": {
          "base_uri": "https://localhost:8080/"
        },
        "id": "PNI6hcbjhMVm",
        "outputId": "2b272237-f540-4871-8e97-f8c020361973"
      },
      "execution_count": 66,
      "outputs": [
        {
          "output_type": "execute_result",
          "data": {
            "text/plain": [
              "array([[0, 0, 0],\n",
              "       [0, 1, 0],\n",
              "       [0, 0, 0]])"
            ]
          },
          "metadata": {},
          "execution_count": 66
        }
      ]
    },
    {
      "cell_type": "code",
      "source": [],
      "metadata": {
        "id": "s3xgNta8itLS"
      },
      "execution_count": 66,
      "outputs": []
    },
    {
      "cell_type": "markdown",
      "metadata": {
        "id": "3K4x8-V5wSX8"
      },
      "source": [
        "### Slicing de un array"
      ]
    },
    {
      "cell_type": "code",
      "execution_count": 67,
      "metadata": {
        "id": "UYqBQoGHDKsA"
      },
      "outputs": [],
      "source": [
        "arr = np.arange (15)"
      ]
    },
    {
      "cell_type": "code",
      "execution_count": 68,
      "metadata": {
        "id": "ZmyeHF8iDKsA",
        "colab": {
          "base_uri": "https://localhost:8080/"
        },
        "outputId": "01de9fb4-12a1-4419-b1da-9564ad888f52"
      },
      "outputs": [
        {
          "output_type": "execute_result",
          "data": {
            "text/plain": [
              "array([ 0,  1,  2,  3,  4,  5,  6,  7,  8,  9, 10, 11, 12, 13, 14])"
            ]
          },
          "metadata": {},
          "execution_count": 68
        }
      ],
      "source": [
        "arr"
      ]
    },
    {
      "cell_type": "code",
      "execution_count": 69,
      "metadata": {
        "id": "RKZYFoZZDKsA",
        "colab": {
          "base_uri": "https://localhost:8080/"
        },
        "outputId": "61e9a6b6-b299-436a-d199-e26043f20791"
      },
      "outputs": [
        {
          "output_type": "execute_result",
          "data": {
            "text/plain": [
              "array([2, 4, 6])"
            ]
          },
          "metadata": {},
          "execution_count": 69
        }
      ],
      "source": [
        "arr[2:7:2]"
      ]
    },
    {
      "cell_type": "code",
      "source": [],
      "metadata": {
        "id": "GWHtC3rUjeEW"
      },
      "execution_count": 69,
      "outputs": []
    },
    {
      "cell_type": "markdown",
      "metadata": {
        "id": "41LDYzW_wSX-"
      },
      "source": [
        "##### Ejercicios:\n",
        "1. Generar un array que contenga las siguientes filas\n",
        "\n",
        "1f: 1, 3, -1, 4, 5\n",
        "\n",
        "2f: 1, 1, 2, 4, 6\n",
        "\n",
        "3f: 6, 4, 3, 8, 2\n",
        "\n",
        "2. Imprime la primera columna\n",
        "3. Imprime la segunda fila\n",
        "4. Cambia el valor del subset de las últimas 2 filas y 2 columnas a 4\n"
      ]
    },
    {
      "cell_type": "code",
      "execution_count": 70,
      "metadata": {
        "id": "0PPFYA2DDKsB"
      },
      "outputs": [],
      "source": [
        "import numpy as np"
      ]
    },
    {
      "cell_type": "code",
      "source": [
        "list_1 = [1, 3, -1, 4, 5]\n",
        "\n",
        "list_2 = [1, 1, 2, 4, 6]\n",
        "\n",
        "list_3 = [6, 4, 3, 8, 2]"
      ],
      "metadata": {
        "id": "Irh_UBKmkFH9"
      },
      "execution_count": 71,
      "outputs": []
    },
    {
      "cell_type": "code",
      "source": [
        "list_11 = [list_1, list_2, list_3]"
      ],
      "metadata": {
        "id": "bJhVZmNjlQ8g"
      },
      "execution_count": 72,
      "outputs": []
    },
    {
      "cell_type": "code",
      "source": [
        "list_11"
      ],
      "metadata": {
        "colab": {
          "base_uri": "https://localhost:8080/"
        },
        "id": "ScPuTMyllRAL",
        "outputId": "48aa31d2-358c-422a-cddc-7866261792a8"
      },
      "execution_count": 73,
      "outputs": [
        {
          "output_type": "execute_result",
          "data": {
            "text/plain": [
              "[[1, 3, -1, 4, 5], [1, 1, 2, 4, 6], [6, 4, 3, 8, 2]]"
            ]
          },
          "metadata": {},
          "execution_count": 73
        }
      ]
    },
    {
      "cell_type": "markdown",
      "metadata": {
        "id": "21ZLb9pnwSX-"
      },
      "source": [
        "2. Escribe un programa con Numpy para crear array tipo random de 10X4 y extraer las primeras 5 filas para guardarlas en una variable."
      ]
    },
    {
      "cell_type": "code",
      "execution_count": 74,
      "metadata": {
        "id": "krW79-A2DKsB",
        "colab": {
          "base_uri": "https://localhost:8080/"
        },
        "outputId": "d995fd2b-820e-472c-9327-1be0bef92161"
      },
      "outputs": [
        {
          "output_type": "execute_result",
          "data": {
            "text/plain": [
              "0.21028318407539104"
            ]
          },
          "metadata": {},
          "execution_count": 74
        }
      ],
      "source": [
        "np.random.rand()"
      ]
    },
    {
      "cell_type": "code",
      "execution_count": 75,
      "metadata": {
        "id": "P2TfNYEUDKsB",
        "colab": {
          "base_uri": "https://localhost:8080/"
        },
        "outputId": "75ae8f83-953a-4326-83ff-695029b906d9"
      },
      "outputs": [
        {
          "output_type": "execute_result",
          "data": {
            "text/plain": [
              "array([[ 6, 25, 21, 42],\n",
              "       [ 7, 74, 77, 94],\n",
              "       [71, 58, 31, 63],\n",
              "       [86, 20, 55, 82],\n",
              "       [17, 64, 78, 22],\n",
              "       [22, 69,  8, 72],\n",
              "       [69, 77,  7, 29],\n",
              "       [67, 63, 35, 26],\n",
              "       [80, 37, 98, 91],\n",
              "       [ 8, 24, 13, 35]])"
            ]
          },
          "metadata": {},
          "execution_count": 75
        }
      ],
      "source": [
        "np.random.randint(1,100,40).reshape((10,4))"
      ]
    },
    {
      "cell_type": "code",
      "execution_count": 76,
      "metadata": {
        "id": "4Gv007VSDKsB",
        "colab": {
          "base_uri": "https://localhost:8080/"
        },
        "outputId": "45ec391a-a7d5-4297-ef1b-9db2a7e639ba"
      },
      "outputs": [
        {
          "output_type": "execute_result",
          "data": {
            "text/plain": [
              "array([[93, 76, 54, 93],\n",
              "       [29, 52, 77, 75],\n",
              "       [18, 70, 74, 71],\n",
              "       [13, 39, 52, 63],\n",
              "       [ 8, 94, 58, 95]])"
            ]
          },
          "metadata": {},
          "execution_count": 76
        }
      ],
      "source": [
        "np.random.randint(1,100,40).reshape((10,4))[:5,:]"
      ]
    },
    {
      "cell_type": "markdown",
      "metadata": {
        "id": "eCV3-fLJwSX_"
      },
      "source": [
        "3. Crear una matriz de 10x10 con 1's en los bordes y 0's en el interior (con rangos de indices)"
      ]
    },
    {
      "cell_type": "code",
      "source": [
        "import numpy as np\n",
        "\n",
        "# Crear una matriz de 10x10 con todos los elementos iguales a cero\n",
        "matriz = np.zeros((10, 10), dtype=int)\n",
        "\n",
        "# Asignar 1's en los bordes\n",
        "matriz[0, :] = 1   # primera fila\n",
        "matriz[-1, :] = 1  # última fila\n",
        "matriz[:, 0] = 1   # primera columna\n",
        "matriz[:, -1] = 1  # última columna\n",
        "\n",
        "# Imprimir la matriz resultante\n",
        "print(matriz)\n"
      ],
      "metadata": {
        "id": "YPxIPhKJnbbn",
        "outputId": "b54a3423-ee67-4955-d8bc-55fa171b7976",
        "colab": {
          "base_uri": "https://localhost:8080/"
        }
      },
      "execution_count": 77,
      "outputs": [
        {
          "output_type": "stream",
          "name": "stdout",
          "text": [
            "[[1 1 1 1 1 1 1 1 1 1]\n",
            " [1 0 0 0 0 0 0 0 0 1]\n",
            " [1 0 0 0 0 0 0 0 0 1]\n",
            " [1 0 0 0 0 0 0 0 0 1]\n",
            " [1 0 0 0 0 0 0 0 0 1]\n",
            " [1 0 0 0 0 0 0 0 0 1]\n",
            " [1 0 0 0 0 0 0 0 0 1]\n",
            " [1 0 0 0 0 0 0 0 0 1]\n",
            " [1 0 0 0 0 0 0 0 0 1]\n",
            " [1 1 1 1 1 1 1 1 1 1]]\n"
          ]
        }
      ]
    },
    {
      "cell_type": "code",
      "execution_count": 78,
      "metadata": {
        "id": "rpEmekX6wSX_",
        "colab": {
          "base_uri": "https://localhost:8080/"
        },
        "outputId": "737177e0-3771-4685-a8b9-f644da60f9dc"
      },
      "outputs": [
        {
          "output_type": "execute_result",
          "data": {
            "text/plain": [
              "array([[1, 1, 1, 1, 1, 1, 1, 1, 1, 1],\n",
              "       [1, 1, 1, 1, 1, 1, 1, 1, 1, 1],\n",
              "       [1, 1, 1, 1, 1, 1, 1, 1, 1, 1],\n",
              "       [1, 1, 1, 1, 1, 1, 1, 1, 1, 1],\n",
              "       [1, 1, 1, 1, 1, 1, 1, 1, 1, 1],\n",
              "       [1, 1, 1, 1, 1, 1, 1, 1, 1, 1],\n",
              "       [1, 1, 1, 1, 1, 1, 1, 1, 1, 1],\n",
              "       [1, 1, 1, 1, 1, 1, 1, 1, 1, 1],\n",
              "       [1, 1, 1, 1, 1, 1, 1, 1, 1, 1],\n",
              "       [1, 1, 1, 1, 1, 1, 1, 1, 1, 1]])"
            ]
          },
          "metadata": {},
          "execution_count": 78
        }
      ],
      "source": [
        "np.ones((10,10,), dtype=\"int\")"
      ]
    },
    {
      "cell_type": "code",
      "execution_count": 79,
      "metadata": {
        "id": "3urncK8CDKsB",
        "colab": {
          "base_uri": "https://localhost:8080/"
        },
        "outputId": "c9ea6457-b718-4b83-92c6-8c5c4247a433"
      },
      "outputs": [
        {
          "output_type": "execute_result",
          "data": {
            "text/plain": [
              "array([[0, 0, 0, 0, 0, 0, 0, 0, 0, 0],\n",
              "       [0, 0, 0, 0, 0, 0, 0, 0, 0, 0],\n",
              "       [0, 0, 0, 0, 0, 0, 0, 0, 0, 0],\n",
              "       [0, 0, 0, 0, 0, 0, 0, 0, 0, 0],\n",
              "       [0, 0, 0, 0, 0, 0, 0, 0, 0, 0],\n",
              "       [0, 0, 0, 0, 0, 0, 0, 0, 0, 0],\n",
              "       [0, 0, 0, 0, 0, 0, 0, 0, 0, 0],\n",
              "       [0, 0, 0, 0, 0, 0, 0, 0, 0, 0],\n",
              "       [0, 0, 0, 0, 0, 0, 0, 0, 0, 0],\n",
              "       [0, 0, 0, 0, 0, 0, 0, 0, 0, 0]])"
            ]
          },
          "metadata": {},
          "execution_count": 79
        }
      ],
      "source": [
        "np.zeros((10,10), dtype=\"int\")"
      ]
    },
    {
      "cell_type": "code",
      "source": [],
      "metadata": {
        "id": "zVE3p1Vzn_9G"
      },
      "execution_count": 79,
      "outputs": []
    },
    {
      "cell_type": "markdown",
      "metadata": {
        "id": "MHJoQDJ1wSYA"
      },
      "source": [
        "## Operadores sobre Arrays"
      ]
    },
    {
      "cell_type": "markdown",
      "metadata": {
        "id": "dvNihp4nwSYC"
      },
      "source": [
        "#### Operadores sum(), min(), max()"
      ]
    },
    {
      "cell_type": "code",
      "execution_count": 80,
      "metadata": {
        "id": "vOwy7QirDKsC"
      },
      "outputs": [],
      "source": [
        "arr = np.array(    [\n",
        "                [1, 5, 6],\n",
        "                [4, 7, 2],\n",
        "                [3, 1, 9]\n",
        "               ]   )"
      ]
    },
    {
      "cell_type": "code",
      "execution_count": 81,
      "metadata": {
        "id": "MoTeEL5aDKsC",
        "colab": {
          "base_uri": "https://localhost:8080/"
        },
        "outputId": "056e7d38-0151-4aaf-98d6-00c20f5f44b5"
      },
      "outputs": [
        {
          "output_type": "execute_result",
          "data": {
            "text/plain": [
              "array([ 8, 13, 17])"
            ]
          },
          "metadata": {},
          "execution_count": 81
        }
      ],
      "source": [
        "arr.sum(axis = 0)"
      ]
    },
    {
      "cell_type": "code",
      "execution_count": 82,
      "metadata": {
        "id": "e9_FdcndDKsC",
        "colab": {
          "base_uri": "https://localhost:8080/"
        },
        "outputId": "150abc3a-401b-49a8-ecd3-2f73fee28e28"
      },
      "outputs": [
        {
          "output_type": "execute_result",
          "data": {
            "text/plain": [
              "array([1, 2, 1])"
            ]
          },
          "metadata": {},
          "execution_count": 82
        }
      ],
      "source": [
        "arr.min(axis = -1)"
      ]
    },
    {
      "cell_type": "code",
      "source": [
        "arr.max()"
      ],
      "metadata": {
        "colab": {
          "base_uri": "https://localhost:8080/"
        },
        "id": "7Dk7PPeVuJlg",
        "outputId": "2a5ee5f3-8cc5-435d-9e35-498c75834477"
      },
      "execution_count": 83,
      "outputs": [
        {
          "output_type": "execute_result",
          "data": {
            "text/plain": [
              "9"
            ]
          },
          "metadata": {},
          "execution_count": 83
        }
      ]
    },
    {
      "cell_type": "code",
      "source": [
        "arr.max(0)"
      ],
      "metadata": {
        "colab": {
          "base_uri": "https://localhost:8080/"
        },
        "id": "w1V-fcqAuQ0f",
        "outputId": "839ff561-b0d2-41d3-ecb3-70c0d5e6633a"
      },
      "execution_count": 84,
      "outputs": [
        {
          "output_type": "execute_result",
          "data": {
            "text/plain": [
              "array([4, 7, 9])"
            ]
          },
          "metadata": {},
          "execution_count": 84
        }
      ]
    },
    {
      "cell_type": "code",
      "source": [
        "arr.max(axis = 0)"
      ],
      "metadata": {
        "colab": {
          "base_uri": "https://localhost:8080/"
        },
        "id": "EjEfnFbYuXvo",
        "outputId": "3ccc6b07-d33e-444d-ff3d-a0a9bb22c6dd"
      },
      "execution_count": 85,
      "outputs": [
        {
          "output_type": "execute_result",
          "data": {
            "text/plain": [
              "array([4, 7, 9])"
            ]
          },
          "metadata": {},
          "execution_count": 85
        }
      ]
    },
    {
      "cell_type": "markdown",
      "metadata": {
        "id": "njPn2iGBwSYG"
      },
      "source": [
        "#### Ejercicio\n",
        "- Calcula la forma y dimensiones del array\n",
        "- Calcula la suma de todos los elementos\n",
        "- Remplaza el 7 por -1\n",
        "- Saca el máximo a nivel de columnas y filas\n",
        "- Calcula la suma de cada fila"
      ]
    },
    {
      "cell_type": "code",
      "execution_count": 86,
      "metadata": {
        "id": "Av8kt6XFDKsC"
      },
      "outputs": [],
      "source": [
        "arr = np.array([\n",
        "    [1,5,6],\n",
        "    [4,7,9],\n",
        "    [3,1,9]])"
      ]
    },
    {
      "cell_type": "code",
      "execution_count": 87,
      "metadata": {
        "id": "JEOf6zh9DKsC",
        "colab": {
          "base_uri": "https://localhost:8080/"
        },
        "outputId": "f59d58a4-a801-4664-ec86-d90646ad51e2"
      },
      "outputs": [
        {
          "output_type": "execute_result",
          "data": {
            "text/plain": [
              "array([[1, 5, 6],\n",
              "       [4, 7, 9],\n",
              "       [3, 1, 9]])"
            ]
          },
          "metadata": {},
          "execution_count": 87
        }
      ],
      "source": [
        "arr"
      ]
    },
    {
      "cell_type": "code",
      "execution_count": 88,
      "metadata": {
        "id": "RZ_SLCxLwSYJ",
        "colab": {
          "base_uri": "https://localhost:8080/"
        },
        "outputId": "4b9da1e4-fe74-4356-89fe-9cb034711a7f"
      },
      "outputs": [
        {
          "output_type": "stream",
          "name": "stdout",
          "text": [
            "Forma y dimensiones del array: (3, 3)\n",
            "Suma de todos los elementos: 45\n",
            "Nuevo array con 7 reemplazado por -1:\n",
            " [[ 1  5  6]\n",
            " [ 4 -1  9]\n",
            " [ 3  1  9]]\n",
            "Máximo a nivel de columnas: [4 5 9]\n",
            "Máximo a nivel de filas: [6 9 9]\n",
            "Suma de cada fila: [12 12 13]\n"
          ]
        }
      ],
      "source": [
        "import numpy as np\n",
        "\n",
        "# Definimos el array\n",
        "arr = np.array([[1, 5, 6], [4, 7, 9], [3, 1, 9]])\n",
        "\n",
        "# Forma y dimensiones del array\n",
        "print(\"Forma y dimensiones del array:\", arr.shape)\n",
        "\n",
        "# Suma de todos los elementos\n",
        "print(\"Suma de todos los elementos:\", np.sum(arr))\n",
        "\n",
        "# Reemplazo del 7 por -1\n",
        "arr[arr == 7] = -1\n",
        "print(\"Nuevo array con 7 reemplazado por -1:\\n\", arr)\n",
        "\n",
        "# Máximo a nivel de columnas y filas\n",
        "print(\"Máximo a nivel de columnas:\", np.max(arr, axis=0))\n",
        "print(\"Máximo a nivel de filas:\", np.max(arr, axis=1))\n",
        "\n",
        "# Suma de cada fila\n",
        "print(\"Suma de cada fila:\", np.sum(arr, axis=1))\n"
      ]
    },
    {
      "cell_type": "code",
      "source": [
        "arr.max(axis = 0)"
      ],
      "metadata": {
        "colab": {
          "base_uri": "https://localhost:8080/"
        },
        "id": "EM2XraLQvtaX",
        "outputId": "c12a6d7f-7bf0-40d4-fdd7-e39dc86f4292"
      },
      "execution_count": 89,
      "outputs": [
        {
          "output_type": "execute_result",
          "data": {
            "text/plain": [
              "array([4, 5, 9])"
            ]
          },
          "metadata": {},
          "execution_count": 89
        }
      ]
    },
    {
      "cell_type": "code",
      "source": [
        "arr.max(1)"
      ],
      "metadata": {
        "colab": {
          "base_uri": "https://localhost:8080/"
        },
        "id": "Um0dqYrCwW5f",
        "outputId": "aa7ad247-1607-43ff-835f-974c694f9e10"
      },
      "execution_count": 90,
      "outputs": [
        {
          "output_type": "execute_result",
          "data": {
            "text/plain": [
              "array([6, 9, 9])"
            ]
          },
          "metadata": {},
          "execution_count": 90
        }
      ]
    },
    {
      "cell_type": "code",
      "source": [
        "arr.max(axis = 1)"
      ],
      "metadata": {
        "colab": {
          "base_uri": "https://localhost:8080/"
        },
        "id": "BQV9gQGywW7L",
        "outputId": "7e0aed27-d79f-4920-8d97-494c9b93ceec"
      },
      "execution_count": 91,
      "outputs": [
        {
          "output_type": "execute_result",
          "data": {
            "text/plain": [
              "array([6, 9, 9])"
            ]
          },
          "metadata": {},
          "execution_count": 91
        }
      ]
    },
    {
      "cell_type": "code",
      "source": [
        "arr.sum()"
      ],
      "metadata": {
        "colab": {
          "base_uri": "https://localhost:8080/"
        },
        "id": "ffM0Qv2Jwihm",
        "outputId": "c5c7af63-897c-4570-c2c1-634308a434de"
      },
      "execution_count": 92,
      "outputs": [
        {
          "output_type": "execute_result",
          "data": {
            "text/plain": [
              "37"
            ]
          },
          "metadata": {},
          "execution_count": 92
        }
      ]
    },
    {
      "cell_type": "markdown",
      "metadata": {
        "id": "mghm1RtkwSYP"
      },
      "source": [
        "## Métodos sobre arrays"
      ]
    },
    {
      "cell_type": "markdown",
      "metadata": {
        "ExecuteTime": {
          "end_time": "2020-02-09T17:59:52.593641Z",
          "start_time": "2020-02-09T17:59:52.589626Z"
        },
        "id": "NM9MZ8UzwSYP"
      },
      "source": [
        "### reshape(): Para cambiar forma de un array"
      ]
    },
    {
      "cell_type": "code",
      "execution_count": 93,
      "metadata": {
        "id": "qxAHIMBLDKsD"
      },
      "outputs": [],
      "source": [
        "array_1 = np.array([[1, 2, 3, 4],\n",
        "                [5, 2, 4, 2],\n",
        "                [1, 2, 0, 1]])"
      ]
    },
    {
      "cell_type": "code",
      "execution_count": 94,
      "metadata": {
        "id": "5yoGEtoADKsD",
        "colab": {
          "base_uri": "https://localhost:8080/"
        },
        "outputId": "620eeba1-1e58-4c0c-f2b3-94f82c78673d"
      },
      "outputs": [
        {
          "output_type": "execute_result",
          "data": {
            "text/plain": [
              "array([[1, 2, 3, 4],\n",
              "       [5, 2, 4, 2],\n",
              "       [1, 2, 0, 1]])"
            ]
          },
          "metadata": {},
          "execution_count": 94
        }
      ],
      "source": [
        "array_1"
      ]
    },
    {
      "cell_type": "code",
      "source": [
        "array_1.reshape((4,3))"
      ],
      "metadata": {
        "colab": {
          "base_uri": "https://localhost:8080/"
        },
        "id": "khcaYgesw6Vd",
        "outputId": "17586b73-7ef1-4582-85d5-5539073c2a3f"
      },
      "execution_count": 95,
      "outputs": [
        {
          "output_type": "execute_result",
          "data": {
            "text/plain": [
              "array([[1, 2, 3],\n",
              "       [4, 5, 2],\n",
              "       [4, 2, 1],\n",
              "       [2, 0, 1]])"
            ]
          },
          "metadata": {},
          "execution_count": 95
        }
      ]
    },
    {
      "cell_type": "code",
      "source": [
        "array_1.reshape((2,6))"
      ],
      "metadata": {
        "colab": {
          "base_uri": "https://localhost:8080/"
        },
        "id": "z2YtFCjMw6XL",
        "outputId": "93c09759-7791-47be-f860-f4e8efe961ef"
      },
      "execution_count": 96,
      "outputs": [
        {
          "output_type": "execute_result",
          "data": {
            "text/plain": [
              "array([[1, 2, 3, 4, 5, 2],\n",
              "       [4, 2, 1, 2, 0, 1]])"
            ]
          },
          "metadata": {},
          "execution_count": 96
        }
      ]
    },
    {
      "cell_type": "code",
      "execution_count": 97,
      "metadata": {
        "id": "ylo1hZwzDKsD",
        "colab": {
          "base_uri": "https://localhost:8080/"
        },
        "outputId": "f8101600-b244-46ec-da9e-380d4ff41faf"
      },
      "outputs": [
        {
          "output_type": "execute_result",
          "data": {
            "text/plain": [
              "array([[[1, 2],\n",
              "        [3, 4],\n",
              "        [5, 2]],\n",
              "\n",
              "       [[4, 2],\n",
              "        [1, 2],\n",
              "        [0, 1]]])"
            ]
          },
          "metadata": {},
          "execution_count": 97
        }
      ],
      "source": [
        "array_1.reshape((2,3,2))"
      ]
    },
    {
      "cell_type": "markdown",
      "metadata": {
        "id": "QWq5L6jfwSYQ"
      },
      "source": [
        "### flatten(): Colapsar array en 1d"
      ]
    },
    {
      "cell_type": "code",
      "execution_count": 98,
      "metadata": {
        "id": "Cyl43gsFDKsD"
      },
      "outputs": [],
      "source": [
        "arr = np.array([[1, 2, 3], [4, 5, 6]])"
      ]
    },
    {
      "cell_type": "code",
      "source": [
        "arr"
      ],
      "metadata": {
        "colab": {
          "base_uri": "https://localhost:8080/"
        },
        "id": "gSskUUT_xrZ1",
        "outputId": "70ae52be-b536-491d-f04b-2f9c9e49c1b1"
      },
      "execution_count": 99,
      "outputs": [
        {
          "output_type": "execute_result",
          "data": {
            "text/plain": [
              "array([[1, 2, 3],\n",
              "       [4, 5, 6]])"
            ]
          },
          "metadata": {},
          "execution_count": 99
        }
      ]
    },
    {
      "cell_type": "code",
      "source": [
        "arr.flatten()"
      ],
      "metadata": {
        "colab": {
          "base_uri": "https://localhost:8080/"
        },
        "id": "UiD9NPlvxtRY",
        "outputId": "7fbb4f7d-e4b8-4481-8917-ac8d9b11fc54"
      },
      "execution_count": 100,
      "outputs": [
        {
          "output_type": "execute_result",
          "data": {
            "text/plain": [
              "array([1, 2, 3, 4, 5, 6])"
            ]
          },
          "metadata": {},
          "execution_count": 100
        }
      ]
    },
    {
      "cell_type": "markdown",
      "metadata": {
        "id": "yFhyHtBYwSYR"
      },
      "source": [
        "### T(), transpose(): Transponer un array"
      ]
    },
    {
      "cell_type": "code",
      "execution_count": 101,
      "metadata": {
        "ExecuteTime": {
          "end_time": "2021-01-17T16:54:03.911625Z",
          "start_time": "2021-01-17T16:54:03.892614Z"
        },
        "id": "2lDKFzP0wSYU",
        "outputId": "9ea87165-d507-4d6e-a3c9-ae584cbee501",
        "colab": {
          "base_uri": "https://localhost:8080/"
        }
      },
      "outputs": [
        {
          "output_type": "stream",
          "name": "stdout",
          "text": [
            "[[1 2]\n",
            " [3 4]\n",
            " [5 6]]\n"
          ]
        }
      ],
      "source": [
        "data = np.array([[1,2],[3,4],[5,6]])\n",
        "print(data)"
      ]
    },
    {
      "cell_type": "code",
      "execution_count": 102,
      "metadata": {
        "id": "ojEgJS1SDKsE",
        "colab": {
          "base_uri": "https://localhost:8080/"
        },
        "outputId": "19125f28-d4b3-489b-8f6f-8e3c88725e10"
      },
      "outputs": [
        {
          "output_type": "execute_result",
          "data": {
            "text/plain": [
              "array([[1, 3, 5],\n",
              "       [2, 4, 6]])"
            ]
          },
          "metadata": {},
          "execution_count": 102
        }
      ],
      "source": [
        "data.T"
      ]
    },
    {
      "cell_type": "code",
      "execution_count": 102,
      "metadata": {
        "id": "57nNmzLODKsE"
      },
      "outputs": [],
      "source": []
    },
    {
      "cell_type": "markdown",
      "metadata": {
        "id": "IRUearalwSYV"
      },
      "source": [
        "### flip(): revertir un array a lo largo del eje"
      ]
    },
    {
      "cell_type": "code",
      "execution_count": 103,
      "metadata": {
        "id": "0T0MKwajDKsE"
      },
      "outputs": [],
      "source": [
        "a = np.array([1, 2, 3, 14, 5, 6, 7, 8])"
      ]
    },
    {
      "cell_type": "code",
      "execution_count": 104,
      "metadata": {
        "id": "jV3w6AezDKsE",
        "colab": {
          "base_uri": "https://localhost:8080/"
        },
        "outputId": "58155b92-6e13-4216-8967-bef6b34e84d9"
      },
      "outputs": [
        {
          "output_type": "execute_result",
          "data": {
            "text/plain": [
              "array([ 1,  2,  3, 14,  5,  6,  7,  8])"
            ]
          },
          "metadata": {},
          "execution_count": 104
        }
      ],
      "source": [
        "a"
      ]
    },
    {
      "cell_type": "code",
      "execution_count": 105,
      "metadata": {
        "id": "kCJbCo9fDKsE",
        "colab": {
          "base_uri": "https://localhost:8080/"
        },
        "outputId": "b456d983-d4f5-4144-dbe2-de1a0fecbf9d"
      },
      "outputs": [
        {
          "output_type": "execute_result",
          "data": {
            "text/plain": [
              "array([ 8,  7,  6,  5, 14,  3,  2,  1])"
            ]
          },
          "metadata": {},
          "execution_count": 105
        }
      ],
      "source": [
        "np.flip(a)"
      ]
    },
    {
      "cell_type": "markdown",
      "metadata": {
        "id": "2T50-oCZwSYW"
      },
      "source": [
        "### unique(): para sacar elementos únicos del array\n"
      ]
    },
    {
      "cell_type": "code",
      "execution_count": 106,
      "metadata": {
        "ExecuteTime": {
          "end_time": "2021-02-03T23:03:33.672720Z",
          "start_time": "2021-02-03T23:03:33.656833Z"
        },
        "id": "5U7V0Q3bwSYW"
      },
      "outputs": [],
      "source": [
        "a = np.array([11, 11, 12, 13, 14])"
      ]
    },
    {
      "cell_type": "code",
      "execution_count": 107,
      "metadata": {
        "id": "qhb7lZz0DKsE",
        "colab": {
          "base_uri": "https://localhost:8080/"
        },
        "outputId": "8291c8c0-7ee3-4bd6-ced4-0630d670f4d1"
      },
      "outputs": [
        {
          "output_type": "execute_result",
          "data": {
            "text/plain": [
              "array([11, 12, 13, 14])"
            ]
          },
          "metadata": {},
          "execution_count": 107
        }
      ],
      "source": [
        "np.unique(a)"
      ]
    },
    {
      "cell_type": "code",
      "execution_count": 107,
      "metadata": {
        "id": "YmZApuZCDKsE"
      },
      "outputs": [],
      "source": []
    },
    {
      "cell_type": "markdown",
      "metadata": {
        "id": "1DNONPFBwSYY"
      },
      "source": [
        "### sort(): ordenar un array"
      ]
    },
    {
      "cell_type": "code",
      "execution_count": 108,
      "metadata": {
        "ExecuteTime": {
          "end_time": "2020-03-02T18:33:00.579404Z",
          "start_time": "2020-03-02T18:33:00.575557Z"
        },
        "id": "PBM6GgjgwSYY"
      },
      "outputs": [],
      "source": [
        "a= np.array([[1, 4, 2],\n",
        "                 [3, 4, 6],\n",
        "              [0, -1, 5]])"
      ]
    },
    {
      "cell_type": "code",
      "execution_count": 109,
      "metadata": {
        "id": "wl6s_A7sDKsF",
        "colab": {
          "base_uri": "https://localhost:8080/"
        },
        "outputId": "f13d6ed1-04f0-4fe6-9e1e-060eee54a82c"
      },
      "outputs": [
        {
          "output_type": "execute_result",
          "data": {
            "text/plain": [
              "array([[ 1,  2,  4],\n",
              "       [ 3,  4,  6],\n",
              "       [-1,  0,  5]])"
            ]
          },
          "metadata": {},
          "execution_count": 109
        }
      ],
      "source": [
        "np.sort(a)"
      ]
    },
    {
      "cell_type": "code",
      "execution_count": 110,
      "metadata": {
        "id": "u2kDknHBDKsF",
        "colab": {
          "base_uri": "https://localhost:8080/"
        },
        "outputId": "43b83de5-e158-4bd0-df7d-39446dbf8798"
      },
      "outputs": [
        {
          "output_type": "execute_result",
          "data": {
            "text/plain": [
              "array([[ 0, -1,  2],\n",
              "       [ 1,  4,  5],\n",
              "       [ 3,  4,  6]])"
            ]
          },
          "metadata": {},
          "execution_count": 110
        }
      ],
      "source": [
        "np.sort(a, axis = 0)"
      ]
    },
    {
      "cell_type": "markdown",
      "metadata": {
        "id": "OiBUMts4wSYc"
      },
      "source": [
        "##### Ejercicio:\n",
        "- Generar un array con dimensión=1  y valores del 10 al 32 con sequencia de dos en dos.\n",
        "- Tranformar el array anterior a una matriz de 4 filas x 3 columnas y guardalo como arr1.\n",
        "- Mostrar solo los valores de Array que sean mayores de 20\n",
        "- Verificar si la media y la mediana del mismo array son iguales.\n",
        "- Suma las filas y obtén el maximo valor entre las columnas.\n",
        "- Genera un nuevo array arr2 con los valores mayores a 20 y que sea de 3 filas x 2 columnas.\n",
        "- Genera la Transpuesta del resultado."
      ]
    },
    {
      "cell_type": "code",
      "execution_count": 111,
      "metadata": {
        "id": "-f-wdiOfwSYc",
        "colab": {
          "base_uri": "https://localhost:8080/"
        },
        "outputId": "a67b70dc-26b4-4fb8-df10-8d9a12eb2a06"
      },
      "outputs": [
        {
          "output_type": "stream",
          "name": "stdout",
          "text": [
            "Array original:\n",
            " [10 12 14 16 18 20 22 24 26 28 30 32]\n",
            "Array como matriz de 4 filas x 3 columnas:\n",
            " [[10 12 14]\n",
            " [16 18 20]\n",
            " [22 24 26]\n",
            " [28 30 32]]\n",
            "Valores mayores de 20 en arr1: [22 24 26 28 30 32]\n",
            "La media y la mediana son iguales.\n",
            "Suma de las filas de arr1: [36 54 72 90]\n",
            "Máximo de las columnas de arr1: [28 30 32]\n",
            "Nuevo array arr2:\n",
            " [[22 24]\n",
            " [26 28]\n",
            " [30 32]]\n",
            "Transpuesta de arr2:\n",
            " [[22 26 30]\n",
            " [24 28 32]]\n"
          ]
        }
      ],
      "source": [
        "import numpy as np\n",
        "\n",
        "# Generar un array con dimensión=1 y valores del 10 al 32 con secuencia de dos en dos.\n",
        "arr = np.arange(10, 33, 2)\n",
        "\n",
        "# Tranformar el array anterior a una matriz de 4 filas x 3 columnas y guardarlo como arr1.\n",
        "arr1 = arr.reshape((4, 3))\n",
        "print(\"Array original:\\n\", arr)\n",
        "print(\"Array como matriz de 4 filas x 3 columnas:\\n\", arr1)\n",
        "\n",
        "# Mostrar solo los valores de Array que sean mayores de 20.\n",
        "print(\"Valores mayores de 20 en arr1:\", arr1[arr1 > 20])\n",
        "\n",
        "# Verificar si la media y la mediana del mismo array son iguales.\n",
        "if np.mean(arr1) == np.median(arr1):\n",
        "    print(\"La media y la mediana son iguales.\")\n",
        "else:\n",
        "    print(\"La media y la mediana son diferentes.\")\n",
        "\n",
        "# Suma las filas y obtén el máximo valor entre las columnas.\n",
        "suma_filas = np.sum(arr1, axis=1)\n",
        "maximo_columnas = np.max(arr1, axis=0)\n",
        "print(\"Suma de las filas de arr1:\", suma_filas)\n",
        "print(\"Máximo de las columnas de arr1:\", maximo_columnas)\n",
        "\n",
        "# Generar un nuevo array arr2 con los valores mayores a 20 y que sea de 3 filas x 2 columnas.\n",
        "arr2 = arr1[arr1 > 20].reshape((3, 2))\n",
        "print(\"Nuevo array arr2:\\n\", arr2)\n",
        "\n",
        "# Generar la Transpuesta del resultado.\n",
        "arr2_t = arr2.T\n",
        "print(\"Transpuesta de arr2:\\n\", arr2_t)\n"
      ]
    }
  ],
  "metadata": {
    "colab": {
      "provenance": [],
      "include_colab_link": true
    },
    "kernelspec": {
      "display_name": "Python 3",
      "language": "python",
      "name": "python3"
    },
    "language_info": {
      "codemirror_mode": {
        "name": "ipython",
        "version": 3
      },
      "file_extension": ".py",
      "mimetype": "text/x-python",
      "name": "python",
      "nbconvert_exporter": "python",
      "pygments_lexer": "ipython3",
      "version": "3.8.5"
    },
    "latex_envs": {
      "LaTeX_envs_menu_present": true,
      "autoclose": false,
      "autocomplete": true,
      "bibliofile": "biblio.bib",
      "cite_by": "apalike",
      "current_citInitial": 1,
      "eqLabelWithNumbers": true,
      "eqNumInitial": 1,
      "hotkeys": {
        "equation": "Ctrl-E",
        "itemize": "Ctrl-I"
      },
      "labels_anchors": false,
      "latex_user_defs": false,
      "report_style_numbering": false,
      "user_envs_cfg": false
    },
    "toc": {
      "base_numbering": 1,
      "nav_menu": {},
      "number_sections": true,
      "sideBar": true,
      "skip_h1_title": false,
      "title_cell": "Table of Contents",
      "title_sidebar": "Contents",
      "toc_cell": false,
      "toc_position": {},
      "toc_section_display": true,
      "toc_window_display": false
    },
    "varInspector": {
      "cols": {
        "lenName": 16,
        "lenType": 16,
        "lenVar": 40
      },
      "kernels_config": {
        "python": {
          "delete_cmd_postfix": "",
          "delete_cmd_prefix": "del ",
          "library": "var_list.py",
          "varRefreshCmd": "print(var_dic_list())"
        },
        "r": {
          "delete_cmd_postfix": ") ",
          "delete_cmd_prefix": "rm(",
          "library": "var_list.r",
          "varRefreshCmd": "cat(var_dic_list()) "
        }
      },
      "types_to_exclude": [
        "module",
        "function",
        "builtin_function_or_method",
        "instance",
        "_Feature"
      ],
      "window_display": false
    }
  },
  "nbformat": 4,
  "nbformat_minor": 0
}