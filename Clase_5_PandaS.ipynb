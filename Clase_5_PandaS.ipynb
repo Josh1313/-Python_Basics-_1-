{
  "cells": [
    {
      "cell_type": "markdown",
      "metadata": {
        "id": "view-in-github",
        "colab_type": "text"
      },
      "source": [
        "<a href=\"https://colab.research.google.com/github/Josh1313/-Python_Basics-_1-/blob/main/Clase_5_PandaS.ipynb\" target=\"_parent\"><img src=\"https://colab.research.google.com/assets/colab-badge.svg\" alt=\"Open In Colab\"/></a>"
      ]
    },
    {
      "cell_type": "markdown",
      "source": [
        "# Python Basic 5"
      ],
      "metadata": {
        "id": "jPlx1b6h7d3h"
      }
    },
    {
      "cell_type": "markdown",
      "metadata": {
        "id": "A1b_JPBAMhIM"
      },
      "source": [
        "# Pandas"
      ]
    },
    {
      "cell_type": "markdown",
      "metadata": {
        "id": "7B8bqrhTMhIM"
      },
      "source": [
        "Pandas es una librería open source Python para realizar análisis de datos.\n",
        "Aunque que Python es ya de por si un buen lenguaje para la preparación de datos, nunca ha sido excelente para realizar análisis (tendencia de usar R, SQL o incluso Excel para realizar este tipo de tareas), hasta la llegada de Pandas!"
      ]
    },
    {
      "cell_type": "markdown",
      "metadata": {
        "id": "EjkUKDRGMhIM"
      },
      "source": [
        "Pandas ofrece:\n",
        "- Alta performance,\n",
        "- Estructura de datos fácil de usar, en formato tablas (parecido a Series y Data Frames en R)\n",
        "- Excelentes herramientas para realizar análisis de datos: reformatear, concatenar, agregar, ordenar, segmentar etc.\n",
        "- Tratamiento para missing data (o valores nulos)"
      ]
    },
    {
      "cell_type": "markdown",
      "metadata": {
        "id": "E_KGwrBGMhIN"
      },
      "source": [
        "## Estructuras de datos en Pandas"
      ]
    },
    {
      "cell_type": "markdown",
      "metadata": {
        "id": "MPgGabsgMhIO"
      },
      "source": [
        "Pandas introduce dos nuevas estructura de datos a Python:\n",
        "- Series - estructuras 1d\n",
        "- DataFrames - estructuras nd\n",
        "ambas construidas sobre NumPy; lo que las hace dos estructura de datos rápidas."
      ]
    },
    {
      "cell_type": "markdown",
      "metadata": {
        "id": "6ogs1DtAMhIO"
      },
      "source": [
        "![title](https://storage.googleapis.com/lds-media/images/series-and-dataframe.width-1200.png)"
      ]
    },
    {
      "cell_type": "markdown",
      "metadata": {
        "id": "-dXmHqzAMhIO"
      },
      "source": [
        "|Estructura de Datos|Dimensiones|Descripción|\n",
        "|---|---|:---|\n",
        "|Series\t|1|Array homogéneo 1D etiquetado, inmutable en tamaño|\n",
        "|Data Frames|2|Estructura tabular 2D etiquetada, modificable en tamaño y con columnas potencialmente heterogéneas|"
      ]
    },
    {
      "cell_type": "markdown",
      "metadata": {
        "id": "4aB9It6RMhIO"
      },
      "source": [
        "# Series en Pandas"
      ]
    },
    {
      "cell_type": "markdown",
      "metadata": {
        "id": "6EeRZ_aQMhIO"
      },
      "source": [
        "**Definición**\n",
        "Una Serie es un array 1-d que contiene todo tipo de datos (enteros, texto, decimals, objetos de Python, etc.). Vendría a ser una columna de un excel.\n",
        "\n",
        "Las etiquetas de los elementos reciben el nombre de índice y cada elemento de una serie tienen asignado un índice etiquetado.\n",
        "\n",
        "Por default, cada elemento tiene una etiqueta de índice numérica, de 0 a N."
      ]
    },
    {
      "cell_type": "markdown",
      "metadata": {
        "id": "3d3aVxxsMhIP"
      },
      "source": [
        "## Generación de Series: pd.Series()"
      ]
    },
    {
      "cell_type": "code",
      "source": [
        "import pandas as pd"
      ],
      "metadata": {
        "id": "6005kAmG5LAb"
      },
      "execution_count": 1,
      "outputs": []
    },
    {
      "cell_type": "code",
      "execution_count": 2,
      "metadata": {
        "ExecuteTime": {
          "end_time": "2021-02-04T20:30:22.905685Z",
          "start_time": "2021-02-04T20:30:22.898683Z"
        },
        "id": "zOL4TkjCMhIQ"
      },
      "outputs": [],
      "source": [
        "nombres = [\"Elena\", \"Marcos\", \" Judith\", \"Sofía\", \"Estefanía\"]"
      ]
    },
    {
      "cell_type": "code",
      "execution_count": 3,
      "metadata": {
        "id": "j2p4ZxUkDMiB"
      },
      "outputs": [],
      "source": [
        "Series = pd.Series(nombres)"
      ]
    },
    {
      "cell_type": "code",
      "execution_count": 4,
      "metadata": {
        "id": "KgXm9Vpemj89",
        "colab": {
          "base_uri": "https://localhost:8080/",
          "height": 36
        },
        "outputId": "2356c305-c6f8-4758-fdec-601790411281"
      },
      "outputs": [
        {
          "output_type": "execute_result",
          "data": {
            "text/plain": [
              "' Judith'"
            ],
            "application/vnd.google.colaboratory.intrinsic+json": {
              "type": "string"
            }
          },
          "metadata": {},
          "execution_count": 4
        }
      ],
      "source": [
        "Series[2]"
      ]
    },
    {
      "cell_type": "markdown",
      "metadata": {
        "id": "hfZQFhLTMhIS"
      },
      "source": [
        "Pero **siempre estamos a tiempo de asignar una lista de etiquetas a los valores de nuestra Serie**"
      ]
    },
    {
      "cell_type": "code",
      "execution_count": 5,
      "metadata": {
        "ExecuteTime": {
          "end_time": "2021-02-04T20:30:26.067373Z",
          "start_time": "2021-02-04T20:30:26.053368Z"
        },
        "id": "Fo_4zRr-MhIS"
      },
      "outputs": [],
      "source": [
        "lista_estudiantes = [\"Estudiante 1\", \"Estudiante 2\",\"Estudiante 3\",\"Estudiante 4\",\"Estudiante 5\"]"
      ]
    },
    {
      "cell_type": "code",
      "execution_count": 6,
      "metadata": {
        "id": "fjLser0jDMiC",
        "colab": {
          "base_uri": "https://localhost:8080/"
        },
        "outputId": "bac8b679-0b2b-478e-881d-d7d48bb90847"
      },
      "outputs": [
        {
          "output_type": "execute_result",
          "data": {
            "text/plain": [
              "Estudiante 1        Elena\n",
              "Estudiante 2       Marcos\n",
              "Estudiante 3       Judith\n",
              "Estudiante 4        Sofía\n",
              "Estudiante 5    Estefanía\n",
              "dtype: object"
            ]
          },
          "metadata": {},
          "execution_count": 6
        }
      ],
      "source": [
        "pd.Series(nombres, index = lista_estudiantes)"
      ]
    },
    {
      "cell_type": "code",
      "execution_count": 7,
      "metadata": {
        "id": "sUEyg2UuDMiC",
        "colab": {
          "base_uri": "https://localhost:8080/"
        },
        "outputId": "ba646f07-e247-4bcd-cfa4-98ba5fc8426d"
      },
      "outputs": [
        {
          "output_type": "execute_result",
          "data": {
            "text/plain": [
              "0        Elena\n",
              "1       Marcos\n",
              "2       Judith\n",
              "3        Sofía\n",
              "4    Estefanía\n",
              "dtype: object"
            ]
          },
          "metadata": {},
          "execution_count": 7
        }
      ],
      "source": [
        "Series"
      ]
    },
    {
      "cell_type": "code",
      "source": [
        "Series[0]"
      ],
      "metadata": {
        "colab": {
          "base_uri": "https://localhost:8080/",
          "height": 36
        },
        "id": "1-F2T0Hk6aLd",
        "outputId": "ea3df12b-bfc5-42ee-de3c-5e85414f1c44"
      },
      "execution_count": 8,
      "outputs": [
        {
          "output_type": "execute_result",
          "data": {
            "text/plain": [
              "'Elena'"
            ],
            "application/vnd.google.colaboratory.intrinsic+json": {
              "type": "string"
            }
          },
          "metadata": {},
          "execution_count": 8
        }
      ]
    },
    {
      "cell_type": "markdown",
      "metadata": {
        "id": "5XZ7uywMMhIT"
      },
      "source": [
        "### Generar una Serie a partir de un *ndarray()*"
      ]
    },
    {
      "cell_type": "code",
      "source": [
        "import numpy as np"
      ],
      "metadata": {
        "id": "nKC05XK7QkG6"
      },
      "execution_count": 9,
      "outputs": []
    },
    {
      "cell_type": "code",
      "execution_count": 10,
      "metadata": {
        "ExecuteTime": {
          "end_time": "2020-03-02T18:50:25.684695Z",
          "start_time": "2020-03-02T18:50:25.674419Z"
        },
        "id": "w9ziI2gWMhIT",
        "outputId": "b2c9a665-8c51-4522-bb66-8d4670346033",
        "colab": {
          "base_uri": "https://localhost:8080/"
        }
      },
      "outputs": [
        {
          "output_type": "execute_result",
          "data": {
            "text/plain": [
              "array([0.56908486, 0.39246089, 0.09399233, 0.44755   , 0.77452281])"
            ]
          },
          "metadata": {},
          "execution_count": 10
        }
      ],
      "source": [
        "array_5_items = np.random.rand(5)\n",
        "array_5_items"
      ]
    },
    {
      "cell_type": "code",
      "source": [
        "pd.Series(array_5_items)"
      ],
      "metadata": {
        "id": "o0U9tgXpJXZX",
        "colab": {
          "base_uri": "https://localhost:8080/"
        },
        "outputId": "e2f44edb-dd75-4f65-ad08-76da4e1b4e3d"
      },
      "execution_count": 11,
      "outputs": [
        {
          "output_type": "execute_result",
          "data": {
            "text/plain": [
              "0    0.569085\n",
              "1    0.392461\n",
              "2    0.093992\n",
              "3    0.447550\n",
              "4    0.774523\n",
              "dtype: float64"
            ]
          },
          "metadata": {},
          "execution_count": 11
        }
      ]
    },
    {
      "cell_type": "markdown",
      "metadata": {
        "id": "1XTuLTpaMhIU"
      },
      "source": [
        "#### Especificando etiquetas"
      ]
    },
    {
      "cell_type": "code",
      "execution_count": 12,
      "metadata": {
        "ExecuteTime": {
          "end_time": "2020-03-02T18:51:59.618015Z",
          "start_time": "2020-03-02T18:51:59.613095Z"
        },
        "id": "aeVM1vGOMhIU",
        "outputId": "03d70551-5e16-4539-a809-a329af111944",
        "colab": {
          "base_uri": "https://localhost:8080/"
        }
      },
      "outputs": [
        {
          "output_type": "stream",
          "name": "stdout",
          "text": [
            "['e', 'e', 'e', 'e', 'e']\n"
          ]
        }
      ],
      "source": [
        "lista_5_indices = ['e','e','e','e','e']\n",
        "\n",
        "print(lista_5_indices)"
      ]
    },
    {
      "cell_type": "code",
      "source": [
        "pd.Series(array_5_items,index = lista_5_indices)"
      ],
      "metadata": {
        "id": "EMEJ_EoSJcJ7",
        "colab": {
          "base_uri": "https://localhost:8080/"
        },
        "outputId": "a1c60091-7ccf-47d3-de8a-111d0080f191"
      },
      "execution_count": 13,
      "outputs": [
        {
          "output_type": "execute_result",
          "data": {
            "text/plain": [
              "e    0.569085\n",
              "e    0.392461\n",
              "e    0.093992\n",
              "e    0.447550\n",
              "e    0.774523\n",
              "dtype: float64"
            ]
          },
          "metadata": {},
          "execution_count": 13
        }
      ]
    },
    {
      "cell_type": "code",
      "source": [
        "lista_5_indices = ['A','A','e','e','e']"
      ],
      "metadata": {
        "id": "WmdZAIJ6JcQV"
      },
      "execution_count": 14,
      "outputs": []
    },
    {
      "cell_type": "code",
      "source": [
        "print(lista_5_indices)"
      ],
      "metadata": {
        "colab": {
          "base_uri": "https://localhost:8080/"
        },
        "id": "tZF-G7jqpCet",
        "outputId": "fac42bc4-64df-4414-ec5c-36fc97ade921"
      },
      "execution_count": 15,
      "outputs": [
        {
          "output_type": "stream",
          "name": "stdout",
          "text": [
            "['A', 'A', 'e', 'e', 'e']\n"
          ]
        }
      ]
    },
    {
      "cell_type": "code",
      "source": [
        "pd.Series(array_5_items,index = lista_5_indices)"
      ],
      "metadata": {
        "colab": {
          "base_uri": "https://localhost:8080/"
        },
        "id": "ZGUzDfZQpYOJ",
        "outputId": "65d1010b-e2ff-408b-e28f-c62052793a9b"
      },
      "execution_count": 16,
      "outputs": [
        {
          "output_type": "execute_result",
          "data": {
            "text/plain": [
              "A    0.569085\n",
              "A    0.392461\n",
              "e    0.093992\n",
              "e    0.447550\n",
              "e    0.774523\n",
              "dtype: float64"
            ]
          },
          "metadata": {},
          "execution_count": 16
        }
      ]
    },
    {
      "cell_type": "markdown",
      "metadata": {
        "id": "xawZje0aMhIV"
      },
      "source": [
        "### Generar una serie a partir de un diccionario"
      ]
    },
    {
      "cell_type": "code",
      "execution_count": 17,
      "metadata": {
        "ExecuteTime": {
          "end_time": "2020-03-02T18:55:46.671024Z",
          "start_time": "2020-03-02T18:55:46.667171Z"
        },
        "id": "apYLDbKwMhIV"
      },
      "outputs": [],
      "source": [
        "mi_diccionario = {'a':1, 'b':2, 'c':3,'d':4 }"
      ]
    },
    {
      "cell_type": "code",
      "execution_count": 18,
      "metadata": {
        "id": "FpRQWhaRDMiE",
        "colab": {
          "base_uri": "https://localhost:8080/"
        },
        "outputId": "8a3caef0-9047-41e3-bca7-ac51ed2b98a5"
      },
      "outputs": [
        {
          "output_type": "execute_result",
          "data": {
            "text/plain": [
              "a    1\n",
              "b    2\n",
              "c    3\n",
              "d    4\n",
              "dtype: int64"
            ]
          },
          "metadata": {},
          "execution_count": 18
        }
      ],
      "source": [
        "pd.Series(mi_diccionario)"
      ]
    },
    {
      "cell_type": "code",
      "execution_count": 19,
      "metadata": {
        "id": "kNfuIGdIDMiE"
      },
      "outputs": [],
      "source": [
        "mi_diccionario = {'a':1, 'b':2, 'c':3}"
      ]
    },
    {
      "cell_type": "code",
      "source": [
        "pd.Series(mi_diccionario)"
      ],
      "metadata": {
        "colab": {
          "base_uri": "https://localhost:8080/"
        },
        "id": "twLM93jwqaOx",
        "outputId": "53afc317-996a-4d1e-988b-5efa5eaa0847"
      },
      "execution_count": 20,
      "outputs": [
        {
          "output_type": "execute_result",
          "data": {
            "text/plain": [
              "a    1\n",
              "b    2\n",
              "c    3\n",
              "dtype: int64"
            ]
          },
          "metadata": {},
          "execution_count": 20
        }
      ]
    },
    {
      "cell_type": "markdown",
      "metadata": {
        "id": "CX9rrL6bMhIX"
      },
      "source": [
        "## Básicos de Series"
      ]
    },
    {
      "cell_type": "markdown",
      "metadata": {
        "id": "fFmLbi_lMhIX"
      },
      "source": [
        "### Índices y Valores"
      ]
    },
    {
      "cell_type": "code",
      "execution_count": 21,
      "metadata": {
        "id": "vnsTKnrQDMiF",
        "outputId": "480a9f3b-f2f5-4253-f166-aabde673f706",
        "colab": {
          "base_uri": "https://localhost:8080/"
        }
      },
      "outputs": [
        {
          "output_type": "execute_result",
          "data": {
            "text/plain": [
              "Barcelona        1000.0\n",
              "Nueva York       1300.0\n",
              "Madrid            900.0\n",
              "San Francisco    1100.0\n",
              "Valencia          450.0\n",
              "Boston              NaN\n",
              "dtype: float64"
            ]
          },
          "metadata": {},
          "execution_count": 21
        }
      ],
      "source": [
        "d = {'Barcelona': 1000, 'Nueva York': 1300, 'Madrid': 900, 'San Francisco': 1100,\n",
        "     'Valencia': 450, 'Boston': None}\n",
        "ciudades = pd.Series(d)\n",
        "ciudades"
      ]
    },
    {
      "cell_type": "code",
      "source": [
        "ciudades.values"
      ],
      "metadata": {
        "id": "2sgRz8GkJmF6",
        "colab": {
          "base_uri": "https://localhost:8080/"
        },
        "outputId": "e85a45c4-8050-44e1-b5b4-2ac1d63d572d"
      },
      "execution_count": 22,
      "outputs": [
        {
          "output_type": "execute_result",
          "data": {
            "text/plain": [
              "array([1000., 1300.,  900., 1100.,  450.,   nan])"
            ]
          },
          "metadata": {},
          "execution_count": 22
        }
      ]
    },
    {
      "cell_type": "code",
      "source": [
        "ciudades.index"
      ],
      "metadata": {
        "id": "nHXy6TZDJmNi",
        "colab": {
          "base_uri": "https://localhost:8080/"
        },
        "outputId": "a67794b9-206b-4326-cda4-27d39420bc0d"
      },
      "execution_count": 23,
      "outputs": [
        {
          "output_type": "execute_result",
          "data": {
            "text/plain": [
              "Index(['Barcelona', 'Nueva York', 'Madrid', 'San Francisco', 'Valencia',\n",
              "       'Boston'],\n",
              "      dtype='object')"
            ]
          },
          "metadata": {},
          "execution_count": 23
        }
      ]
    },
    {
      "cell_type": "code",
      "execution_count": 24,
      "metadata": {
        "id": "6ouaBWbXDMiG"
      },
      "outputs": [],
      "source": [
        "ciudades.index = ['a', 'b', 'c', 'd', 'e', 'f']"
      ]
    },
    {
      "cell_type": "code",
      "source": [
        "ciudades"
      ],
      "metadata": {
        "colab": {
          "base_uri": "https://localhost:8080/"
        },
        "id": "FCz5ttFr72GB",
        "outputId": "f679c2ca-f186-448f-8b52-d096f2b0ed55"
      },
      "execution_count": 25,
      "outputs": [
        {
          "output_type": "execute_result",
          "data": {
            "text/plain": [
              "a    1000.0\n",
              "b    1300.0\n",
              "c     900.0\n",
              "d    1100.0\n",
              "e     450.0\n",
              "f       NaN\n",
              "dtype: float64"
            ]
          },
          "metadata": {},
          "execution_count": 25
        }
      ]
    },
    {
      "cell_type": "code",
      "source": [],
      "metadata": {
        "id": "UIhwRnC272IF"
      },
      "execution_count": 25,
      "outputs": []
    },
    {
      "cell_type": "markdown",
      "source": [
        "##### Ejercicio\n",
        "- Generar una serie a partir del diccionario\n",
        "- Sacar los index de la serie\n",
        "- Sacar los valores de la serie\n",
        "- Modificar el nombre de las etiquetas por letras de a- d"
      ],
      "metadata": {
        "id": "2Wgn31U3Jz3D"
      }
    },
    {
      "cell_type": "code",
      "execution_count": 26,
      "metadata": {
        "id": "hb8Ch2jrDMiG"
      },
      "outputs": [],
      "source": [
        "d = {'Barcelona': 1000, 'Nueva York': 1300, 'Madrid': 900, 'San Francisco': 1100,\n",
        "     'Valencia': 450, 'Boston': None}"
      ]
    },
    {
      "cell_type": "code",
      "execution_count": 27,
      "metadata": {
        "id": "1AUvVpz_DMiG"
      },
      "outputs": [],
      "source": [
        "d = {'Barcelona': 1000, 'Nueva York': 1300, 'Madrid': 900, 'San Francisco': 1100, 'Valencia': 450, 'Boston': None}\n",
        "s = pd.Series(d)\n"
      ]
    },
    {
      "cell_type": "code",
      "execution_count": 28,
      "metadata": {
        "id": "ey4GT37tDMiG",
        "colab": {
          "base_uri": "https://localhost:8080/"
        },
        "outputId": "8fad3893-bc41-4a2f-c7c5-102981585b2d"
      },
      "outputs": [
        {
          "output_type": "stream",
          "name": "stdout",
          "text": [
            "Index(['Barcelona', 'Nueva York', 'Madrid', 'San Francisco', 'Valencia',\n",
            "       'Boston'],\n",
            "      dtype='object')\n"
          ]
        }
      ],
      "source": [
        "print(s.index)\n"
      ]
    },
    {
      "cell_type": "code",
      "execution_count": 29,
      "metadata": {
        "id": "s5fsP308DMiH",
        "colab": {
          "base_uri": "https://localhost:8080/"
        },
        "outputId": "7f92f802-39a4-4858-ab14-6011a5c3f8aa"
      },
      "outputs": [
        {
          "output_type": "stream",
          "name": "stdout",
          "text": [
            "[1000. 1300.  900. 1100.  450.   nan]\n"
          ]
        }
      ],
      "source": [
        "print(s.values)\n"
      ]
    },
    {
      "cell_type": "code",
      "source": [
        "s = s.rename({'Barcelona': 'a', 'Nueva York': 'b', 'Madrid': 'c', 'San Francisco': 'd', 'Valencia': 'e'})\n"
      ],
      "metadata": {
        "id": "BYFDL-Qn9KEj"
      },
      "execution_count": 30,
      "outputs": []
    },
    {
      "cell_type": "markdown",
      "metadata": {
        "id": "COk0XvuuMhIZ"
      },
      "source": [
        "### Acceder a Elementos"
      ]
    },
    {
      "cell_type": "code",
      "source": [
        "import numpy as np\n",
        "import pandas as pd"
      ],
      "metadata": {
        "id": "ABOa_xGUd3KJ"
      },
      "execution_count": 31,
      "outputs": []
    },
    {
      "cell_type": "code",
      "execution_count": 32,
      "metadata": {
        "ExecuteTime": {
          "end_time": "2021-02-04T20:46:32.794820Z",
          "start_time": "2021-02-04T20:46:32.779120Z"
        },
        "id": "enE-UT8SMhIa"
      },
      "outputs": [],
      "source": [
        "d = {'Nueva York': 1000, 'Nueva York': 1300, 'Madrid': 900, 'San Francisco': 1100,\n",
        "     'Valencia': 450, 'Boston': None}"
      ]
    },
    {
      "cell_type": "code",
      "execution_count": 33,
      "metadata": {
        "ExecuteTime": {
          "end_time": "2021-02-04T20:46:33.482544Z",
          "start_time": "2021-02-04T20:46:33.465014Z"
        },
        "id": "Y3ZYmNM3MhIa"
      },
      "outputs": [],
      "source": [
        "mi_serie = pd.Series(data = d)"
      ]
    },
    {
      "cell_type": "code",
      "execution_count": 34,
      "metadata": {
        "ExecuteTime": {
          "end_time": "2021-02-04T20:46:33.704503Z",
          "start_time": "2021-02-04T20:46:33.691499Z"
        },
        "colab": {
          "base_uri": "https://localhost:8080/"
        },
        "id": "kpkw39nYMhIa",
        "outputId": "3c74d1c0-e8fc-451b-d3e2-b3d51b77a9e8"
      },
      "outputs": [
        {
          "output_type": "execute_result",
          "data": {
            "text/plain": [
              "Nueva York       1300.0\n",
              "Madrid            900.0\n",
              "San Francisco    1100.0\n",
              "Valencia          450.0\n",
              "Boston              NaN\n",
              "dtype: float64"
            ]
          },
          "metadata": {},
          "execution_count": 34
        }
      ],
      "source": [
        "mi_serie"
      ]
    },
    {
      "cell_type": "code",
      "execution_count": 35,
      "metadata": {
        "id": "sYeP9nEtMhIb",
        "colab": {
          "base_uri": "https://localhost:8080/"
        },
        "outputId": "6b290b50-a0ac-4666-9b02-e82eb019f848"
      },
      "outputs": [
        {
          "output_type": "execute_result",
          "data": {
            "text/plain": [
              "900.0"
            ]
          },
          "metadata": {},
          "execution_count": 35
        }
      ],
      "source": [
        "mi_serie['Madrid']"
      ]
    },
    {
      "cell_type": "code",
      "execution_count": 36,
      "metadata": {
        "id": "Usbg87uzMhIb",
        "colab": {
          "base_uri": "https://localhost:8080/"
        },
        "outputId": "42d34e22-2564-46e3-ab1d-ba1a54a7c6b1"
      },
      "outputs": [
        {
          "output_type": "execute_result",
          "data": {
            "text/plain": [
              "900.0"
            ]
          },
          "metadata": {},
          "execution_count": 36
        }
      ],
      "source": [
        "mi_serie[1]"
      ]
    },
    {
      "cell_type": "markdown",
      "metadata": {
        "id": "xVeNXGlhMhIh"
      },
      "source": [
        "### Cambiar Valores"
      ]
    },
    {
      "cell_type": "code",
      "execution_count": 37,
      "metadata": {
        "ExecuteTime": {
          "end_time": "2021-02-04T20:48:45.784662Z",
          "start_time": "2021-02-04T20:48:45.765227Z"
        },
        "id": "rGrT1wEBMhIh",
        "colab": {
          "base_uri": "https://localhost:8080/"
        },
        "outputId": "d33e29a6-0d49-4752-9baf-e9721f7c8663"
      },
      "outputs": [
        {
          "output_type": "execute_result",
          "data": {
            "text/plain": [
              "Barcelona        1000.0\n",
              "Nueva York       1300.0\n",
              "Madrid            900.0\n",
              "San Francisco    1100.0\n",
              "Valencia          450.0\n",
              "Boston              NaN\n",
              "dtype: float64"
            ]
          },
          "metadata": {},
          "execution_count": 37
        }
      ],
      "source": [
        "d = {'Barcelona': 1000, 'Nueva York': 1300, 'Madrid': 900, 'San Francisco': 1100,\n",
        "     'Valencia': 450, 'Boston': None}\n",
        "ciudades = pd.Series(d)\n",
        "ciudades"
      ]
    },
    {
      "cell_type": "code",
      "source": [
        "ciudades.update({'Barcelona': 2000, 'Nueva York': 2600, 'Madrid': 1800, 'San Francisco': 2200, 'Valencia': 900, 'Boston': 800})"
      ],
      "metadata": {
        "id": "IK91YjvaLEdE"
      },
      "execution_count": 38,
      "outputs": []
    },
    {
      "cell_type": "code",
      "source": [
        "ciudades"
      ],
      "metadata": {
        "id": "7N_k5-lULElP",
        "colab": {
          "base_uri": "https://localhost:8080/"
        },
        "outputId": "eef2def3-686d-4040-eb19-0d8729a1f6e4"
      },
      "execution_count": 39,
      "outputs": [
        {
          "output_type": "execute_result",
          "data": {
            "text/plain": [
              "Barcelona        2000.0\n",
              "Nueva York       2600.0\n",
              "Madrid           1800.0\n",
              "San Francisco    2200.0\n",
              "Valencia          900.0\n",
              "Boston            800.0\n",
              "dtype: float64"
            ]
          },
          "metadata": {},
          "execution_count": 39
        }
      ]
    },
    {
      "cell_type": "code",
      "source": [
        "ciudades['Barcelona'] = 3000"
      ],
      "metadata": {
        "id": "KB3hIgU5foo-"
      },
      "execution_count": 40,
      "outputs": []
    },
    {
      "cell_type": "markdown",
      "metadata": {
        "id": "PS7JTi6XMhIi"
      },
      "source": [
        "### Comprobar si existe un Elemento"
      ]
    },
    {
      "cell_type": "code",
      "execution_count": 41,
      "metadata": {
        "ExecuteTime": {
          "end_time": "2020-02-15T11:49:20.539587Z",
          "start_time": "2020-02-15T11:49:20.532920Z"
        },
        "id": "o3dFWQlbMhIi",
        "outputId": "f2c67946-dd89-4e79-bb74-35113cc784e2",
        "colab": {
          "base_uri": "https://localhost:8080/"
        }
      },
      "outputs": [
        {
          "output_type": "execute_result",
          "data": {
            "text/plain": [
              "Barcelona        3000.0\n",
              "Nueva York       2600.0\n",
              "Madrid           1800.0\n",
              "San Francisco    2200.0\n",
              "Valencia          900.0\n",
              "Boston            800.0\n",
              "dtype: float64"
            ]
          },
          "metadata": {},
          "execution_count": 41
        }
      ],
      "source": [
        "ciudades"
      ]
    },
    {
      "cell_type": "code",
      "source": [
        "if 'Barcelona' in ciudades:\n",
        "    print(\"Barcelona existe en la serie ciudades\")\n",
        "else:\n",
        "    print(\"Barcelona no existe en la serie ciudades\")\n"
      ],
      "metadata": {
        "id": "oY7NQdv8LKHE",
        "colab": {
          "base_uri": "https://localhost:8080/"
        },
        "outputId": "005f2eaa-09c2-4f41-a487-238dc9ed3fe9"
      },
      "execution_count": 42,
      "outputs": [
        {
          "output_type": "stream",
          "name": "stdout",
          "text": [
            "Barcelona existe en la serie ciudades\n"
          ]
        }
      ]
    },
    {
      "cell_type": "code",
      "source": [
        "'Barcelona' in ciudades"
      ],
      "metadata": {
        "colab": {
          "base_uri": "https://localhost:8080/"
        },
        "id": "IyzGdXzOf-N1",
        "outputId": "e03bf8ab-df11-4578-aad5-f5dfc45df92e"
      },
      "execution_count": 43,
      "outputs": [
        {
          "output_type": "execute_result",
          "data": {
            "text/plain": [
              "True"
            ]
          },
          "metadata": {},
          "execution_count": 43
        }
      ]
    },
    {
      "cell_type": "code",
      "source": [
        "# lo mis mo para cada ciudad"
      ],
      "metadata": {
        "id": "YCxr50BNLKMP"
      },
      "execution_count": 44,
      "outputs": []
    },
    {
      "cell_type": "markdown",
      "metadata": {
        "id": "lMg9C107MhIq"
      },
      "source": [
        "*italicized text*#### Funciones vectorizadas"
      ]
    },
    {
      "cell_type": "code",
      "source": [
        "import numpy as np\n",
        "import pandas as pd"
      ],
      "metadata": {
        "id": "2cD9i83Q6l0P"
      },
      "execution_count": 45,
      "outputs": []
    },
    {
      "cell_type": "code",
      "execution_count": 46,
      "metadata": {
        "ExecuteTime": {
          "end_time": "2020-02-15T13:07:56.096315Z",
          "start_time": "2020-02-15T13:07:56.090343Z"
        },
        "id": "hzBMthcCMhIr"
      },
      "outputs": [],
      "source": [
        "s = pd.Series(np.random.randn(5), index=['a', 'b', 'c', 'd', 'e'])"
      ]
    },
    {
      "cell_type": "code",
      "execution_count": 47,
      "metadata": {
        "ExecuteTime": {
          "end_time": "2020-03-02T19:44:35.553435Z",
          "start_time": "2020-03-02T19:44:35.543940Z"
        },
        "id": "W1cToBFOMhIr"
      },
      "outputs": [],
      "source": [
        "a = pd.Series(np.random.randn(5), index=['h', 'b', 'c', 'd', 'e'])\n"
      ]
    },
    {
      "cell_type": "code",
      "source": [
        "suma = s + a\n",
        "print(suma)"
      ],
      "metadata": {
        "id": "xeXlOVTnLus3",
        "colab": {
          "base_uri": "https://localhost:8080/"
        },
        "outputId": "d2f9c436-ff09-4172-f0ac-deabd33fe533"
      },
      "execution_count": 48,
      "outputs": [
        {
          "output_type": "stream",
          "name": "stdout",
          "text": [
            "a         NaN\n",
            "b    1.238351\n",
            "c   -0.115055\n",
            "d    1.590101\n",
            "e    0.888797\n",
            "h         NaN\n",
            "dtype: float64\n"
          ]
        }
      ]
    },
    {
      "cell_type": "code",
      "source": [
        "s + s"
      ],
      "metadata": {
        "id": "omS5tQeGLuxa",
        "colab": {
          "base_uri": "https://localhost:8080/"
        },
        "outputId": "71c2006e-3da8-4609-c1af-845b2e179b86"
      },
      "execution_count": 49,
      "outputs": [
        {
          "output_type": "execute_result",
          "data": {
            "text/plain": [
              "a    2.864163\n",
              "b    3.513170\n",
              "c   -0.532274\n",
              "d    2.378393\n",
              "e    3.016752\n",
              "dtype: float64"
            ]
          },
          "metadata": {},
          "execution_count": 49
        }
      ]
    },
    {
      "cell_type": "code",
      "source": [],
      "metadata": {
        "id": "gsXUlEM2Lu3F"
      },
      "execution_count": 49,
      "outputs": []
    },
    {
      "cell_type": "markdown",
      "metadata": {
        "id": "lP5ck6KRMhIs"
      },
      "source": [
        "## Slice de una Serie"
      ]
    },
    {
      "cell_type": "code",
      "source": [
        "import pandas as pd"
      ],
      "metadata": {
        "id": "q_viREyW7TL4"
      },
      "execution_count": 50,
      "outputs": []
    },
    {
      "cell_type": "code",
      "source": [
        "s = pd.Series([1, 2, 3, 4, 5], index=['a', 'b', 'c', 'd', 'e'])"
      ],
      "metadata": {
        "id": "lEVavY2n7TNU"
      },
      "execution_count": 51,
      "outputs": []
    },
    {
      "cell_type": "code",
      "source": [
        "slice_s = s[1:4]\n",
        "print(slice_s)"
      ],
      "metadata": {
        "colab": {
          "base_uri": "https://localhost:8080/"
        },
        "id": "7KC1G_v27TR_",
        "outputId": "b31aa049-6e09-4879-8358-94118f6dc46c"
      },
      "execution_count": 52,
      "outputs": [
        {
          "output_type": "stream",
          "name": "stdout",
          "text": [
            "b    2\n",
            "c    3\n",
            "d    4\n",
            "dtype: int64\n"
          ]
        }
      ]
    },
    {
      "cell_type": "code",
      "source": [
        "mi_serie[:2]"
      ],
      "metadata": {
        "colab": {
          "base_uri": "https://localhost:8080/"
        },
        "id": "NyATg9Jvhmqj",
        "outputId": "27073e87-ad09-4719-b518-9db843a65133"
      },
      "execution_count": 53,
      "outputs": [
        {
          "output_type": "execute_result",
          "data": {
            "text/plain": [
              "Nueva York    1300.0\n",
              "Madrid         900.0\n",
              "dtype: float64"
            ]
          },
          "metadata": {},
          "execution_count": 53
        }
      ]
    },
    {
      "cell_type": "markdown",
      "metadata": {
        "id": "FWxAoxpoMhIs"
      },
      "source": [
        "### Por Etiquetas"
      ]
    },
    {
      "cell_type": "code",
      "source": [
        "import numpy as np\n",
        "import pandas as pd"
      ],
      "metadata": {
        "id": "EpWrBCGK7q_E"
      },
      "execution_count": 54,
      "outputs": []
    },
    {
      "cell_type": "code",
      "execution_count": 55,
      "metadata": {
        "ExecuteTime": {
          "end_time": "2021-02-04T21:06:56.002086Z",
          "start_time": "2021-02-04T21:06:55.986087Z"
        },
        "id": "ELmrVMeMMhIs",
        "outputId": "108d0c50-b7da-4875-af11-284e413be998",
        "colab": {
          "base_uri": "https://localhost:8080/"
        }
      },
      "outputs": [
        {
          "output_type": "execute_result",
          "data": {
            "text/plain": [
              "a    1.0\n",
              "b    2.0\n",
              "c    3.0\n",
              "d    4.0\n",
              "dtype: float64"
            ]
          },
          "metadata": {},
          "execution_count": 55
        }
      ],
      "source": [
        "array = [1.0,2.0,3.0, 4.0]\n",
        "index = ['a', 'b', 'c', 'd']\n",
        "mi_serie = pd.Series(data = array, index = index)\n",
        "mi_serie"
      ]
    },
    {
      "cell_type": "code",
      "source": [
        "elem_a = mi_serie['a']\n",
        "print(elem_a)"
      ],
      "metadata": {
        "colab": {
          "base_uri": "https://localhost:8080/"
        },
        "id": "6dC8M4vI73yQ",
        "outputId": "eb9cbd71-42a3-4c5b-f1d4-7ef099e2478e"
      },
      "execution_count": 56,
      "outputs": [
        {
          "output_type": "stream",
          "name": "stdout",
          "text": [
            "1.0\n"
          ]
        }
      ]
    },
    {
      "cell_type": "code",
      "source": [
        "elem_ac = mi_serie[['a', 'c']]\n",
        "print(elem_ac)\n"
      ],
      "metadata": {
        "colab": {
          "base_uri": "https://localhost:8080/"
        },
        "id": "JYc0cxjB73zu",
        "outputId": "6672e579-289c-4d5a-944a-10ec7445009a"
      },
      "execution_count": 57,
      "outputs": [
        {
          "output_type": "stream",
          "name": "stdout",
          "text": [
            "a    1.0\n",
            "c    3.0\n",
            "dtype: float64\n"
          ]
        }
      ]
    },
    {
      "cell_type": "code",
      "source": [
        "elem_b = mi_serie[mi_serie.index.str.startswith('b')]\n",
        "print(elem_b)\n"
      ],
      "metadata": {
        "colab": {
          "base_uri": "https://localhost:8080/"
        },
        "id": "CwdM-fF47332",
        "outputId": "375a6092-c5e8-4cbd-b49f-705c0547209a"
      },
      "execution_count": 58,
      "outputs": [
        {
          "output_type": "stream",
          "name": "stdout",
          "text": [
            "b    2.0\n",
            "dtype: float64\n"
          ]
        }
      ]
    },
    {
      "cell_type": "code",
      "source": [
        "mi_serie[:2]"
      ],
      "metadata": {
        "id": "p-slg0jy735j",
        "colab": {
          "base_uri": "https://localhost:8080/"
        },
        "outputId": "3e5fe416-2399-459b-c91e-6c7deacc3a06"
      },
      "execution_count": 59,
      "outputs": [
        {
          "output_type": "execute_result",
          "data": {
            "text/plain": [
              "a    1.0\n",
              "b    2.0\n",
              "dtype: float64"
            ]
          },
          "metadata": {},
          "execution_count": 59
        }
      ]
    },
    {
      "cell_type": "markdown",
      "metadata": {
        "id": "NuzFy_2KMhIu"
      },
      "source": [
        "### Por Índices"
      ]
    },
    {
      "cell_type": "code",
      "execution_count": 60,
      "metadata": {
        "ExecuteTime": {
          "end_time": "2021-02-04T21:18:37.828823Z",
          "start_time": "2021-02-04T21:18:37.787614Z"
        },
        "id": "PVm6pAsKMhIu",
        "outputId": "77fbcc23-225a-428d-b07f-808b3dcbd669",
        "colab": {
          "base_uri": "https://localhost:8080/"
        }
      },
      "outputs": [
        {
          "output_type": "execute_result",
          "data": {
            "text/plain": [
              "a   -2.127067\n",
              "b    1.969206\n",
              "c   -1.728402\n",
              "d    1.358355\n",
              "e   -1.062877\n",
              "f    0.755361\n",
              "g   -0.029281\n",
              "h   -0.647350\n",
              "i   -0.703604\n",
              "j    0.731319\n",
              "dtype: float64"
            ]
          },
          "metadata": {},
          "execution_count": 60
        }
      ],
      "source": [
        "s = pd.Series(np.random.randn(10), ['a','b','c','d','e','f','g','h','i','j'])\n",
        "s"
      ]
    },
    {
      "cell_type": "code",
      "source": [
        "s[1]"
      ],
      "metadata": {
        "id": "KOusr0i0Mkuf",
        "colab": {
          "base_uri": "https://localhost:8080/"
        },
        "outputId": "3aea6ebf-8520-4e65-b4c2-3409867f567f"
      },
      "execution_count": 61,
      "outputs": [
        {
          "output_type": "execute_result",
          "data": {
            "text/plain": [
              "1.969206283646305"
            ]
          },
          "metadata": {},
          "execution_count": 61
        }
      ]
    },
    {
      "cell_type": "code",
      "source": [
        "elems_135 = s[[1, 3, 5]]\n",
        "print(elems_135)\n"
      ],
      "metadata": {
        "id": "XcOELIrqMkz2",
        "colab": {
          "base_uri": "https://localhost:8080/"
        },
        "outputId": "9af99172-aeb1-4ee2-c82f-ddb224fb87f0"
      },
      "execution_count": 62,
      "outputs": [
        {
          "output_type": "stream",
          "name": "stdout",
          "text": [
            "b    1.969206\n",
            "d    1.358355\n",
            "f    0.755361\n",
            "dtype: float64\n"
          ]
        }
      ]
    },
    {
      "cell_type": "markdown",
      "metadata": {
        "id": "elDcVimHMhIv"
      },
      "source": [
        "#### Por condiciones Booleanas sobre los Valores"
      ]
    },
    {
      "cell_type": "code",
      "execution_count": 63,
      "metadata": {
        "ExecuteTime": {
          "end_time": "2021-02-04T21:18:39.563224Z",
          "start_time": "2021-02-04T21:18:39.548434Z"
        },
        "id": "eAZAQs87MhIv",
        "outputId": "16d9380d-d86b-42d9-f294-694d6ed79e83",
        "colab": {
          "base_uri": "https://localhost:8080/"
        }
      },
      "outputs": [
        {
          "output_type": "execute_result",
          "data": {
            "text/plain": [
              "a   -2.127067\n",
              "b    1.969206\n",
              "c   -1.728402\n",
              "d    1.358355\n",
              "e   -1.062877\n",
              "f    0.755361\n",
              "g   -0.029281\n",
              "h   -0.647350\n",
              "i   -0.703604\n",
              "j    0.731319\n",
              "dtype: float64"
            ]
          },
          "metadata": {},
          "execution_count": 63
        }
      ],
      "source": [
        "s"
      ]
    },
    {
      "cell_type": "code",
      "execution_count": 64,
      "metadata": {
        "id": "x_s4DA9RDMiO"
      },
      "outputs": [],
      "source": [
        "s_gt0 = s[s > 0]\n"
      ]
    },
    {
      "cell_type": "code",
      "execution_count": 65,
      "metadata": {
        "id": "SbFTYcsYDMiO",
        "colab": {
          "base_uri": "https://localhost:8080/"
        },
        "outputId": "a4b3634d-0ea3-45a0-9142-af342e797b9a"
      },
      "outputs": [
        {
          "output_type": "stream",
          "name": "stdout",
          "text": [
            "b    1.969206\n",
            "d    1.358355\n",
            "f    0.755361\n",
            "j    0.731319\n",
            "dtype: float64\n"
          ]
        }
      ],
      "source": [
        "print(s_gt0)"
      ]
    },
    {
      "cell_type": "code",
      "execution_count": 66,
      "metadata": {
        "id": "jvuD9qn7DMiO",
        "colab": {
          "base_uri": "https://localhost:8080/"
        },
        "outputId": "0430ee84-edbc-4c21-efd5-de85a6bca4db"
      },
      "outputs": [
        {
          "output_type": "execute_result",
          "data": {
            "text/plain": [
              "a   -2.127067\n",
              "c   -1.728402\n",
              "e   -1.062877\n",
              "h   -0.647350\n",
              "i   -0.703604\n",
              "dtype: float64"
            ]
          },
          "metadata": {},
          "execution_count": 66
        }
      ],
      "source": [
        "s[s < s.mean()]"
      ]
    },
    {
      "cell_type": "markdown",
      "metadata": {
        "id": "ydG3Ao57MhI6"
      },
      "source": [
        "# RESUMEN de métodos sobre Series"
      ]
    },
    {
      "cell_type": "markdown",
      "metadata": {
        "id": "LlfjnN46MhI6"
      },
      "source": [
        "## Métodos matemáticos"
      ]
    },
    {
      "cell_type": "markdown",
      "metadata": {
        "id": "yttOPiItMhI6"
      },
      "source": [
        "|Método|Description|\n",
        "|:---|:---|\n",
        "|add()|Method is used to add series or list like objects with same length to the caller series|\n",
        "|sub()|Method is used to subtract series or list like objects with same length from the caller series|\n",
        "|mul()|Method is used to multiply series or list like objects with same length with the caller series|\n",
        "|div()|Method is used to divide series or list like objects with same length by the caller series|\n",
        "|sum()|Returns the sum of the values for the requested axis|\n",
        "|prod()|Returns the product of the values for the requested axis|\n",
        "|mean()|Returns the mean of the values for the requested axis|\n",
        "|pow()|Method is used to put each element of passed series as exponential power of caller series and returned the results\n",
        "|abs()|Method is used to get the absolute numeric value of each element in Series/DataFrame||\n",
        "|cov()|Method is used to find covariance of two series|"
      ]
    },
    {
      "cell_type": "markdown",
      "metadata": {
        "id": "CwRN4k7xMhI_"
      },
      "source": [
        "## Métodos exploratorios"
      ]
    },
    {
      "cell_type": "markdown",
      "metadata": {
        "id": "kZzhcmxzMhI_"
      },
      "source": [
        "<style> table {display: block} </style>\n",
        "|Función|Descripción|\n",
        "|---|------|\n",
        "|combine_first()|Method is used to combine two series into one|\n",
        "|count()|Returns number of non-NA/null observations in the Series|\n",
        "|size()|Returns the number of elements in the underlying data|\n",
        "|name()|Method allows to give a name to a Series object, i.e. to the column|\n",
        "|is_unique()|Method returns boolean if values in the object are unique|\n",
        "|idxmax()|Method to extract the index positions of the highest values in a Series|\n",
        "|idxmin()|Method to extract the index positions of the lowest values in a Series|\n",
        "|sort_values()|Method is called on a Series to sort the values in ascending or descending order|\n",
        "|sort_index()|Method is called on a pandas Series to sort it by the index instead of its values|\n",
        "|head()|Method is used to return a specified number of rows from the beginning of a Series. The method returns a brand new Series|\n",
        "|tail()|Method is used to return a specified number of rows from the end of a Series. The method returns a brand new Series|\n",
        "|le()|Used to compare every element of Caller series with passed series.It returns True for every element which is Less than or Equal to the element in passed series|\n",
        "|ne()|Used to compare every element of Caller series with passed series. It returns True for every element which is Not Equal to the element in passed series|\n",
        "|ge()|Used to compare every element of Caller series with passed series. It returns True for every element which is Greater than or Equal to the element in passed series|\n",
        "|eq()|Used to compare every element of Caller series with passed series. It returns True for every element which is Equal to the element in passed series|\n",
        "|gt()|Used to compare two series and return Boolean value for every respective element|\n",
        "|lt()|Used to compare two series and return Boolean value for every respective element|\n",
        "|clip()|Used to clip value below and above to passed Least and Max value|\n",
        "|clip_lower()|Used to clip values below a passed least value|\n",
        "|clip_upper()|Used to clip values above a passed maximum value|\n",
        "|astype()|Method is used to change data type of a series|\n",
        "|tolist()|Method is used to convert a series to list|\n",
        "|get()|Method is called on a Series to extract values from a Series. This is alternative syntax to the traditional bracket syntax|\n",
        "|unique()|Pandas unique() is used to see the unique values in a particular column|\n",
        "|nunique()|Pandas nunique() is used to get a count of unique values|\n",
        "|value_counts()|Method to count the number of the times each unique value occurs in a Series|\n",
        "|factorize()|Method helps to get the numeric representation of an array by identifying distinct values|\n",
        "|map()|Method to tie together the values from one object to another|\n",
        "|between()|Pandas between() method is used on series to check which values lie between first and second argument|\n",
        "|apply()|Method is called and feeded a Python function as an argument to use the function on every Series value. This method is helpful for executing custom operations that are not included in pandas or numpy|"
      ]
    },
    {
      "cell_type": "markdown",
      "metadata": {
        "id": "HGXZlwtSMhI_"
      },
      "source": [
        "Practiquemos algunos métodos exploratorios muy utilizados en la manipulación de datos."
      ]
    },
    {
      "cell_type": "code",
      "execution_count": 67,
      "metadata": {
        "id": "_SIn5WKDPqoh"
      },
      "outputs": [],
      "source": [
        "import numpy as np\n",
        "import pandas as pd"
      ]
    },
    {
      "cell_type": "code",
      "execution_count": 68,
      "metadata": {
        "id": "w580wp5JDMiQ"
      },
      "outputs": [],
      "source": [
        "Serie = pd.Series(np.random.randint(0, 10, 20))"
      ]
    },
    {
      "cell_type": "code",
      "execution_count": 69,
      "metadata": {
        "id": "3S3KsBWcDMiQ",
        "colab": {
          "base_uri": "https://localhost:8080/"
        },
        "outputId": "0a8a5d68-b0e4-429a-f188-ee7a765d5d0c"
      },
      "outputs": [
        {
          "output_type": "execute_result",
          "data": {
            "text/plain": [
              "0     3\n",
              "1     1\n",
              "2     5\n",
              "3     5\n",
              "4     4\n",
              "5     1\n",
              "6     2\n",
              "7     4\n",
              "8     7\n",
              "9     3\n",
              "10    7\n",
              "11    2\n",
              "12    2\n",
              "13    7\n",
              "14    2\n",
              "15    1\n",
              "16    6\n",
              "17    0\n",
              "18    4\n",
              "19    9\n",
              "dtype: int64"
            ]
          },
          "metadata": {},
          "execution_count": 69
        }
      ],
      "source": [
        "Serie"
      ]
    },
    {
      "cell_type": "code",
      "execution_count": 70,
      "metadata": {
        "id": "r4sj_S2EDMiQ",
        "colab": {
          "base_uri": "https://localhost:8080/"
        },
        "outputId": "012eb804-913b-423a-931e-03e87b5f8ad7"
      },
      "outputs": [
        {
          "output_type": "execute_result",
          "data": {
            "text/plain": [
              "0    3\n",
              "1    1\n",
              "2    5\n",
              "3    5\n",
              "4    4\n",
              "dtype: int64"
            ]
          },
          "metadata": {},
          "execution_count": 70
        }
      ],
      "source": [
        "Serie.head()"
      ]
    },
    {
      "cell_type": "code",
      "execution_count": 71,
      "metadata": {
        "id": "nCdpBO-9DMiQ",
        "colab": {
          "base_uri": "https://localhost:8080/"
        },
        "outputId": "ac35259f-93b4-450a-973b-99a622541449"
      },
      "outputs": [
        {
          "output_type": "execute_result",
          "data": {
            "text/plain": [
              "0    3\n",
              "1    1\n",
              "dtype: int64"
            ]
          },
          "metadata": {},
          "execution_count": 71
        }
      ],
      "source": [
        "Serie.head(2)"
      ]
    },
    {
      "cell_type": "code",
      "execution_count": 72,
      "metadata": {
        "id": "o9UYFt6yDMiQ",
        "colab": {
          "base_uri": "https://localhost:8080/"
        },
        "outputId": "17cdaa75-e89c-4bd9-da31-4002513bcde1"
      },
      "outputs": [
        {
          "output_type": "execute_result",
          "data": {
            "text/plain": [
              "15    1\n",
              "16    6\n",
              "17    0\n",
              "18    4\n",
              "19    9\n",
              "dtype: int64"
            ]
          },
          "metadata": {},
          "execution_count": 72
        }
      ],
      "source": [
        "Serie.tail()"
      ]
    },
    {
      "cell_type": "code",
      "execution_count": 73,
      "metadata": {
        "id": "6OIC97TmDMiQ",
        "colab": {
          "base_uri": "https://localhost:8080/"
        },
        "outputId": "101ab217-f017-400b-c301-8126fde4ad3e"
      },
      "outputs": [
        {
          "output_type": "execute_result",
          "data": {
            "text/plain": [
              "array([3, 1, 5, 4, 2, 7, 6, 0, 9])"
            ]
          },
          "metadata": {},
          "execution_count": 73
        }
      ],
      "source": [
        "Serie.unique()"
      ]
    },
    {
      "cell_type": "code",
      "execution_count": 74,
      "metadata": {
        "id": "7s4xCYS5DMiQ",
        "colab": {
          "base_uri": "https://localhost:8080/"
        },
        "outputId": "f1d3dedb-99fd-4642-d4cf-96c9d9e23845"
      },
      "outputs": [
        {
          "output_type": "execute_result",
          "data": {
            "text/plain": [
              "9"
            ]
          },
          "metadata": {},
          "execution_count": 74
        }
      ],
      "source": [
        "Serie.nunique()"
      ]
    },
    {
      "cell_type": "code",
      "execution_count": 75,
      "metadata": {
        "id": "ZnVKr3oIDMiQ",
        "colab": {
          "base_uri": "https://localhost:8080/"
        },
        "outputId": "ea444691-426f-42ba-b326-c9c1ef718c0d"
      },
      "outputs": [
        {
          "output_type": "execute_result",
          "data": {
            "text/plain": [
              "2    4\n",
              "1    3\n",
              "4    3\n",
              "7    3\n",
              "3    2\n",
              "5    2\n",
              "6    1\n",
              "0    1\n",
              "9    1\n",
              "dtype: int64"
            ]
          },
          "metadata": {},
          "execution_count": 75
        }
      ],
      "source": [
        "Serie.value_counts()"
      ]
    },
    {
      "cell_type": "code",
      "execution_count": 76,
      "metadata": {
        "id": "jlzBVkwgDMiQ",
        "colab": {
          "base_uri": "https://localhost:8080/"
        },
        "outputId": "f6ff9c36-490d-4e56-a381-a453a32d7439"
      },
      "outputs": [
        {
          "output_type": "execute_result",
          "data": {
            "text/plain": [
              "2    0.20\n",
              "1    0.15\n",
              "4    0.15\n",
              "7    0.15\n",
              "3    0.10\n",
              "5    0.10\n",
              "6    0.05\n",
              "0    0.05\n",
              "9    0.05\n",
              "dtype: float64"
            ]
          },
          "metadata": {},
          "execution_count": 76
        }
      ],
      "source": [
        "Serie.value_counts(normalize = True)"
      ]
    },
    {
      "cell_type": "code",
      "execution_count": 77,
      "metadata": {
        "id": "EuVKCw6vPqoh",
        "colab": {
          "base_uri": "https://localhost:8080/"
        },
        "outputId": "5521e010-cddf-4cd5-a87d-22ac245977bf"
      },
      "outputs": [
        {
          "output_type": "execute_result",
          "data": {
            "text/plain": [
              "6    0.05\n",
              "0    0.05\n",
              "9    0.05\n",
              "3    0.10\n",
              "5    0.10\n",
              "1    0.15\n",
              "4    0.15\n",
              "7    0.15\n",
              "2    0.20\n",
              "dtype: float64"
            ]
          },
          "metadata": {},
          "execution_count": 77
        }
      ],
      "source": [
        "Serie.value_counts(normalize = True, sort = True, ascending = True)"
      ]
    },
    {
      "cell_type": "code",
      "source": [
        "Serie.value_counts(normalize = True, sort = True, ascending = True, bins = 4)"
      ],
      "metadata": {
        "colab": {
          "base_uri": "https://localhost:8080/"
        },
        "id": "t1zrKzlElFKT",
        "outputId": "fb292dea-3c7b-498d-e800-b4b141a62414"
      },
      "execution_count": 78,
      "outputs": [
        {
          "output_type": "execute_result",
          "data": {
            "text/plain": [
              "(4.5, 6.75]                      0.15\n",
              "(6.75, 9.0]                      0.20\n",
              "(2.25, 4.5]                      0.25\n",
              "(-0.009999999999999998, 2.25]    0.40\n",
              "dtype: float64"
            ]
          },
          "metadata": {},
          "execution_count": 78
        }
      ]
    },
    {
      "cell_type": "code",
      "source": [
        "Serie.value_counts(normalize = True, sort = True, ascending = True, bins = 4) * 100"
      ],
      "metadata": {
        "colab": {
          "base_uri": "https://localhost:8080/"
        },
        "id": "F4LKH-UPlaxk",
        "outputId": "24583a12-af99-43f6-99aa-86b9e2578d6a"
      },
      "execution_count": 79,
      "outputs": [
        {
          "output_type": "execute_result",
          "data": {
            "text/plain": [
              "(4.5, 6.75]                      15.0\n",
              "(6.75, 9.0]                      20.0\n",
              "(2.25, 4.5]                      25.0\n",
              "(-0.009999999999999998, 2.25]    40.0\n",
              "dtype: float64"
            ]
          },
          "metadata": {},
          "execution_count": 79
        }
      ]
    },
    {
      "cell_type": "code",
      "source": [
        "Serie.astype(float)"
      ],
      "metadata": {
        "colab": {
          "base_uri": "https://localhost:8080/"
        },
        "id": "DRuc_bBplmWQ",
        "outputId": "6151a82b-bb00-469e-d20d-49f85d7e8d11"
      },
      "execution_count": 80,
      "outputs": [
        {
          "output_type": "execute_result",
          "data": {
            "text/plain": [
              "0     3.0\n",
              "1     1.0\n",
              "2     5.0\n",
              "3     5.0\n",
              "4     4.0\n",
              "5     1.0\n",
              "6     2.0\n",
              "7     4.0\n",
              "8     7.0\n",
              "9     3.0\n",
              "10    7.0\n",
              "11    2.0\n",
              "12    2.0\n",
              "13    7.0\n",
              "14    2.0\n",
              "15    1.0\n",
              "16    6.0\n",
              "17    0.0\n",
              "18    4.0\n",
              "19    9.0\n",
              "dtype: float64"
            ]
          },
          "metadata": {},
          "execution_count": 80
        }
      ]
    },
    {
      "cell_type": "code",
      "source": [
        "Serie = Serie.astype(str)"
      ],
      "metadata": {
        "id": "aGBl7vRElzBN"
      },
      "execution_count": 81,
      "outputs": []
    },
    {
      "cell_type": "code",
      "source": [
        "Serie"
      ],
      "metadata": {
        "id": "OFfHx9llmCGf",
        "outputId": "42555ab1-f9ef-4c5b-b95b-551a4108a96b",
        "colab": {
          "base_uri": "https://localhost:8080/"
        }
      },
      "execution_count": 82,
      "outputs": [
        {
          "output_type": "execute_result",
          "data": {
            "text/plain": [
              "0     3\n",
              "1     1\n",
              "2     5\n",
              "3     5\n",
              "4     4\n",
              "5     1\n",
              "6     2\n",
              "7     4\n",
              "8     7\n",
              "9     3\n",
              "10    7\n",
              "11    2\n",
              "12    2\n",
              "13    7\n",
              "14    2\n",
              "15    1\n",
              "16    6\n",
              "17    0\n",
              "18    4\n",
              "19    9\n",
              "dtype: object"
            ]
          },
          "metadata": {},
          "execution_count": 82
        }
      ]
    }
  ],
  "metadata": {
    "colab": {
      "provenance": [],
      "include_colab_link": true
    },
    "hide_input": false,
    "kernelspec": {
      "display_name": "Python 3",
      "language": "python",
      "name": "python3"
    },
    "language_info": {
      "codemirror_mode": {
        "name": "ipython",
        "version": 3
      },
      "file_extension": ".py",
      "mimetype": "text/x-python",
      "name": "python",
      "nbconvert_exporter": "python",
      "pygments_lexer": "ipython3",
      "version": "3.8.5"
    },
    "latex_envs": {
      "LaTeX_envs_menu_present": true,
      "autoclose": false,
      "autocomplete": true,
      "bibliofile": "biblio.bib",
      "cite_by": "apalike",
      "current_citInitial": 1,
      "eqLabelWithNumbers": true,
      "eqNumInitial": 1,
      "hotkeys": {
        "equation": "Ctrl-E",
        "itemize": "Ctrl-I"
      },
      "labels_anchors": false,
      "latex_user_defs": false,
      "report_style_numbering": false,
      "user_envs_cfg": false
    },
    "toc": {
      "base_numbering": 1,
      "nav_menu": {},
      "number_sections": true,
      "sideBar": true,
      "skip_h1_title": false,
      "title_cell": "Table of Contents",
      "title_sidebar": "Contents",
      "toc_cell": false,
      "toc_position": {},
      "toc_section_display": true,
      "toc_window_display": false
    },
    "varInspector": {
      "cols": {
        "lenName": 16,
        "lenType": 16,
        "lenVar": 40
      },
      "kernels_config": {
        "python": {
          "delete_cmd_postfix": "",
          "delete_cmd_prefix": "del ",
          "library": "var_list.py",
          "varRefreshCmd": "print(var_dic_list())"
        },
        "r": {
          "delete_cmd_postfix": ") ",
          "delete_cmd_prefix": "rm(",
          "library": "var_list.r",
          "varRefreshCmd": "cat(var_dic_list()) "
        }
      },
      "types_to_exclude": [
        "module",
        "function",
        "builtin_function_or_method",
        "instance",
        "_Feature"
      ],
      "window_display": false
    }
  },
  "nbformat": 4,
  "nbformat_minor": 0
}