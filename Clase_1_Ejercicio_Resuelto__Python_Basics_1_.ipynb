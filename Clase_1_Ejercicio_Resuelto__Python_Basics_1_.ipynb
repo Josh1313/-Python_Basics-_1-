{
  "cells": [
    {
      "cell_type": "markdown",
      "metadata": {
        "id": "view-in-github",
        "colab_type": "text"
      },
      "source": [
        "<a href=\"https://colab.research.google.com/github/Josh1313/-Python_Basics-_1-/blob/main/Clase_1_Ejercicio_Resuelto__Python_Basics_1_.ipynb\" target=\"_parent\"><img src=\"https://colab.research.google.com/assets/colab-badge.svg\" alt=\"Open In Colab\"/></a>"
      ]
    },
    {
      "cell_type": "markdown",
      "metadata": {
        "id": "GlS7QJkIEUrR"
      },
      "source": [
        "# EJERCICIOS - Python Basics!"
      ]
    },
    {
      "cell_type": "markdown",
      "metadata": {
        "id": "rsjOQm3GEUrT"
      },
      "source": [
        "## Ejecución de código"
      ]
    },
    {
      "cell_type": "code",
      "source": [
        "print('mi  nombre es  josue')"
      ],
      "metadata": {
        "colab": {
          "base_uri": "https://localhost:8080/"
        },
        "id": "vet875yDFlgt",
        "outputId": "902666d6-b922-447b-ed46-91ed2357c637"
      },
      "execution_count": 1,
      "outputs": [
        {
          "output_type": "stream",
          "name": "stdout",
          "text": [
            "mi  nombre es  josue\n"
          ]
        }
      ]
    },
    {
      "cell_type": "code",
      "source": [
        "print('mi nombre es oscar')"
      ],
      "metadata": {
        "colab": {
          "base_uri": "https://localhost:8080/"
        },
        "id": "o_cvRT9Jdw0i",
        "outputId": "447a493f-5dbc-4296-e20f-ebbbed481f5f"
      },
      "execution_count": 2,
      "outputs": [
        {
          "output_type": "stream",
          "name": "stdout",
          "text": [
            "mi nombre es oscar\n"
          ]
        }
      ]
    },
    {
      "cell_type": "markdown",
      "metadata": {
        "id": "_a6_9bxkEUrU"
      },
      "source": [
        "2 - Crea un programa de Python que imprima tu nombre, tu edad y cuántos hermanos tienes"
      ]
    },
    {
      "cell_type": "code",
      "source": [
        "Name = input('insert your name')\n",
        "Age = input('insert your age')\n",
        "Brothers = input('insert how many brothers you have')\n",
        "\n",
        "print('mi nombre es', Name)\n",
        "print('tengo',Age, 'edad')\n",
        "print('tengo',Brothers, 'Brothers')\n"
      ],
      "metadata": {
        "colab": {
          "base_uri": "https://localhost:8080/"
        },
        "id": "l2AqrF_3F6fG",
        "outputId": "c786cac5-b825-4641-eed6-dae07a834834"
      },
      "execution_count": 3,
      "outputs": [
        {
          "output_type": "stream",
          "name": "stdout",
          "text": [
            "insert your namejosue\n",
            "insert your age38\n",
            "insert how many brothers you have2\n",
            "mi nombre es josue\n",
            "tengo 38 edad\n",
            "tengo 2 Brothers\n"
          ]
        }
      ]
    },
    {
      "cell_type": "code",
      "source": [
        "nombre = input('pon tu nombre')\n",
        "edad = input('pon tu edad')\n",
        "hermanos = input('cuantos hermanos tienes')\n",
        "\n",
        "print('mi nombre es',nombre)\n",
        "print('tengo',edad,'edad')\n",
        "print('tengo',hermanos)"
      ],
      "metadata": {
        "id": "1vpB0hOCF6xD",
        "colab": {
          "base_uri": "https://localhost:8080/"
        },
        "outputId": "3091c473-3b2c-4260-a0ca-531657051f0b"
      },
      "execution_count": 4,
      "outputs": [
        {
          "output_type": "stream",
          "name": "stdout",
          "text": [
            "pon tu nombresamuel\n",
            "pon tu edad39\n",
            "cuantos hermanos tienes2\n",
            "mi nombre es samuel\n",
            "tengo 39 edad\n",
            "tengo 2\n"
          ]
        }
      ]
    },
    {
      "cell_type": "markdown",
      "metadata": {
        "id": "wI7NOqTqEUrU"
      },
      "source": [
        "## Tipos de Datos"
      ]
    },
    {
      "cell_type": "markdown",
      "metadata": {
        "ExecuteTime": {
          "end_time": "2020-02-16T10:05:45.645202Z",
          "start_time": "2020-02-16T10:05:45.632210Z"
        },
        "id": "U15KLcIgEUrU"
      },
      "source": [
        "3 - ¿ Qué tipo de datos es x= 1.245?"
      ]
    },
    {
      "cell_type": "code",
      "source": [
        "type(1.245)"
      ],
      "metadata": {
        "colab": {
          "base_uri": "https://localhost:8080/"
        },
        "id": "Mu0r584VHdMV",
        "outputId": "30120a8b-386f-4eea-b8ac-b2ca26b4bd58"
      },
      "execution_count": 5,
      "outputs": [
        {
          "output_type": "execute_result",
          "data": {
            "text/plain": [
              "float"
            ]
          },
          "metadata": {},
          "execution_count": 5
        }
      ]
    },
    {
      "cell_type": "markdown",
      "metadata": {
        "ExecuteTime": {
          "end_time": "2020-02-16T10:06:00.049094Z",
          "start_time": "2020-02-16T10:06:00.038969Z"
        },
        "id": "YUTXL3o6EUrV"
      },
      "source": [
        "4 - ¿ Qué tipo de datos es x= 1?"
      ]
    },
    {
      "cell_type": "code",
      "source": [
        "type(1)"
      ],
      "metadata": {
        "colab": {
          "base_uri": "https://localhost:8080/"
        },
        "id": "cYr4XRmhIQN2",
        "outputId": "cd7d2bb7-6f39-44c2-e2dd-a8a589da76a8"
      },
      "execution_count": 6,
      "outputs": [
        {
          "output_type": "execute_result",
          "data": {
            "text/plain": [
              "int"
            ]
          },
          "metadata": {},
          "execution_count": 6
        }
      ]
    },
    {
      "cell_type": "markdown",
      "metadata": {
        "ExecuteTime": {
          "end_time": "2020-02-16T10:06:07.841243Z",
          "start_time": "2020-02-16T10:06:07.831573Z"
        },
        "id": "5vuJF4dAEUrW"
      },
      "source": [
        "5 - ¿ Qué tipo de datos es x= \"Hola\"?"
      ]
    },
    {
      "cell_type": "code",
      "source": [
        "type('Hola')"
      ],
      "metadata": {
        "colab": {
          "base_uri": "https://localhost:8080/"
        },
        "id": "cQ2CY16-IUgJ",
        "outputId": "77f3d3aa-cc2b-47e5-bfef-73b1714362f5"
      },
      "execution_count": 7,
      "outputs": [
        {
          "output_type": "execute_result",
          "data": {
            "text/plain": [
              "str"
            ]
          },
          "metadata": {},
          "execution_count": 7
        }
      ]
    },
    {
      "cell_type": "markdown",
      "metadata": {
        "id": "6-zvyS6mEUrX"
      },
      "source": [
        "6 - Asigna tu nombre a una variable e imprime en pantalla tu nombre y qué tipo de datos es tu nombre"
      ]
    },
    {
      "cell_type": "code",
      "source": [
        "nombre = 'Josue'"
      ],
      "metadata": {
        "id": "5jMEOqIVIalx"
      },
      "execution_count": 8,
      "outputs": []
    },
    {
      "cell_type": "code",
      "source": [
        "variable = 'josue'"
      ],
      "metadata": {
        "id": "uhoaLH8_e5py"
      },
      "execution_count": 9,
      "outputs": []
    },
    {
      "cell_type": "code",
      "source": [
        "print(variable)"
      ],
      "metadata": {
        "colab": {
          "base_uri": "https://localhost:8080/"
        },
        "id": "8jMoqTiXe_AJ",
        "outputId": "f7e5fa13-3fe7-4ca2-ce91-e5c91a88159f"
      },
      "execution_count": 10,
      "outputs": [
        {
          "output_type": "stream",
          "name": "stdout",
          "text": [
            "josue\n"
          ]
        }
      ]
    },
    {
      "cell_type": "code",
      "source": [
        "print(nombre)"
      ],
      "metadata": {
        "colab": {
          "base_uri": "https://localhost:8080/"
        },
        "id": "fag1DhArIhWD",
        "outputId": "9c1a2777-1d46-4cb7-a14f-6f933bb8b553"
      },
      "execution_count": 11,
      "outputs": [
        {
          "output_type": "stream",
          "name": "stdout",
          "text": [
            "Josue\n"
          ]
        }
      ]
    },
    {
      "cell_type": "code",
      "source": [
        "type(nombre)"
      ],
      "metadata": {
        "colab": {
          "base_uri": "https://localhost:8080/"
        },
        "id": "JQ5UvScCIllw",
        "outputId": "50a75fd9-3d44-4ba5-af95-02ecbeb24a51"
      },
      "execution_count": 12,
      "outputs": [
        {
          "output_type": "execute_result",
          "data": {
            "text/plain": [
              "str"
            ]
          },
          "metadata": {},
          "execution_count": 12
        }
      ]
    },
    {
      "cell_type": "code",
      "source": [
        "nombre = 'Josue'\n",
        "print('Mi nombre es', nombre)\n",
        "print('El tipo de dato de mi nombre es', type(nombre))\n"
      ],
      "metadata": {
        "colab": {
          "base_uri": "https://localhost:8080/"
        },
        "id": "Tniy5tBF01_0",
        "outputId": "df85a058-90aa-450f-8114-f462f15c64cc"
      },
      "execution_count": 87,
      "outputs": [
        {
          "output_type": "stream",
          "name": "stdout",
          "text": [
            "Mi nombre es Josue\n",
            "El tipo de dato de mi nombre es <class 'str'>\n"
          ]
        }
      ]
    },
    {
      "cell_type": "markdown",
      "metadata": {
        "ExecuteTime": {
          "end_time": "2020-02-16T10:04:44.143890Z",
          "start_time": "2020-02-16T10:04:44.133191Z"
        },
        "id": "U-e8ocljEUrY"
      },
      "source": [
        "7 - Convierte x = 1.3455 y y=\"31\" a números enteros"
      ]
    },
    {
      "cell_type": "code",
      "source": [
        "x = 1.3455"
      ],
      "metadata": {
        "id": "jqFoAfnZIq9k"
      },
      "execution_count": 13,
      "outputs": []
    },
    {
      "cell_type": "code",
      "source": [
        "x_entero = int(x)\n",
        "print(x_entero)"
      ],
      "metadata": {
        "colab": {
          "base_uri": "https://localhost:8080/"
        },
        "id": "Ub9sTCJqJGQ6",
        "outputId": "3ab01f8f-9bc6-4b14-97f8-4a7a7587a9a0"
      },
      "execution_count": 14,
      "outputs": [
        {
          "output_type": "stream",
          "name": "stdout",
          "text": [
            "1\n"
          ]
        }
      ]
    },
    {
      "cell_type": "code",
      "source": [
        "y = '31'\n",
        "y_entero = int(y)\n",
        "print(y_entero)"
      ],
      "metadata": {
        "colab": {
          "base_uri": "https://localhost:8080/"
        },
        "id": "TaDn_OfMJk-n",
        "outputId": "cc97b72f-6629-4b90-f350-3ad7865a2363"
      },
      "execution_count": 15,
      "outputs": [
        {
          "output_type": "stream",
          "name": "stdout",
          "text": [
            "31\n"
          ]
        }
      ]
    },
    {
      "cell_type": "code",
      "source": [
        "type(y)"
      ],
      "metadata": {
        "id": "AQamgUD0KBI8",
        "colab": {
          "base_uri": "https://localhost:8080/"
        },
        "outputId": "11c260e8-c0ff-4e93-8c47-07b660a3fdda"
      },
      "execution_count": 16,
      "outputs": [
        {
          "output_type": "execute_result",
          "data": {
            "text/plain": [
              "str"
            ]
          },
          "metadata": {},
          "execution_count": 16
        }
      ]
    },
    {
      "cell_type": "markdown",
      "metadata": {
        "id": "N8rIr1v3EUrZ"
      },
      "source": [
        "8 - Convierte x = 1 y y=\"31\" a números decimales"
      ]
    },
    {
      "cell_type": "code",
      "source": [
        "x = 1\n",
        "x_de = float(x)\n",
        "print(x_de)"
      ],
      "metadata": {
        "colab": {
          "base_uri": "https://localhost:8080/"
        },
        "id": "49MtJYnyKEwi",
        "outputId": "f1ae93b6-ee5c-4e1f-e94a-332d81abe582"
      },
      "execution_count": 17,
      "outputs": [
        {
          "output_type": "stream",
          "name": "stdout",
          "text": [
            "1.0\n"
          ]
        }
      ]
    },
    {
      "cell_type": "code",
      "source": [
        "y = \"31\"\n",
        "y_decimal = float(y)\n",
        "print(y_decimal)"
      ],
      "metadata": {
        "colab": {
          "base_uri": "https://localhost:8080/"
        },
        "id": "FHK6RH9bLOv6",
        "outputId": "55f27b8b-ce78-4872-a24f-9cd9c3902ab6"
      },
      "execution_count": 18,
      "outputs": [
        {
          "output_type": "stream",
          "name": "stdout",
          "text": [
            "31.0\n"
          ]
        }
      ]
    },
    {
      "cell_type": "markdown",
      "metadata": {
        "id": "YrvQpDNBEUrZ"
      },
      "source": [
        "9 - Convierte x = 1 y y=-1,441 a string"
      ]
    },
    {
      "cell_type": "code",
      "source": [
        "x = 1"
      ],
      "metadata": {
        "id": "yZycINMpLjC2"
      },
      "execution_count": 19,
      "outputs": []
    },
    {
      "cell_type": "code",
      "source": [
        "x_str = str(x)\n",
        "print(x_str)"
      ],
      "metadata": {
        "colab": {
          "base_uri": "https://localhost:8080/"
        },
        "id": "KE5J7fpELjbm",
        "outputId": "b54b7515-91ea-427c-e0b1-2a65bb94efcf"
      },
      "execution_count": 20,
      "outputs": [
        {
          "output_type": "stream",
          "name": "stdout",
          "text": [
            "1\n"
          ]
        }
      ]
    },
    {
      "cell_type": "code",
      "source": [
        "y = -1.441\n",
        "y_string = str(y)\n",
        "print(y_string)"
      ],
      "metadata": {
        "colab": {
          "base_uri": "https://localhost:8080/"
        },
        "id": "JIZ53ADqL_bf",
        "outputId": "0c0cdc52-f69a-4bed-c0ce-1e052a796c4e"
      },
      "execution_count": 21,
      "outputs": [
        {
          "output_type": "stream",
          "name": "stdout",
          "text": [
            "-1.441\n"
          ]
        }
      ]
    },
    {
      "cell_type": "markdown",
      "metadata": {
        "id": "krTYjQF5EUrZ"
      },
      "source": [
        "10 - Imprime los 3 tipos de datos numéricos más básicos que existen y da un ejemplo de cada uno"
      ]
    },
    {
      "cell_type": "code",
      "source": [
        "x = 10\n",
        "print(x)"
      ],
      "metadata": {
        "colab": {
          "base_uri": "https://localhost:8080/"
        },
        "id": "jzr61dcqMOJ5",
        "outputId": "5f62127b-f21c-4a2e-f0e4-a8c2f1f07d8d"
      },
      "execution_count": 22,
      "outputs": [
        {
          "output_type": "stream",
          "name": "stdout",
          "text": [
            "10\n"
          ]
        }
      ]
    },
    {
      "cell_type": "code",
      "source": [
        "x = 1.2225\n",
        "print(x)"
      ],
      "metadata": {
        "colab": {
          "base_uri": "https://localhost:8080/"
        },
        "id": "IfNNzDHuMOw6",
        "outputId": "c5633b24-db9a-4df4-efb3-5f56c1ad514e"
      },
      "execution_count": 23,
      "outputs": [
        {
          "output_type": "stream",
          "name": "stdout",
          "text": [
            "1.2225\n"
          ]
        }
      ]
    },
    {
      "cell_type": "code",
      "source": [
        "x = 2 + 3j\n",
        "print(x)"
      ],
      "metadata": {
        "colab": {
          "base_uri": "https://localhost:8080/"
        },
        "id": "5jZ4XPixMPEr",
        "outputId": "db97579a-8f60-4cc3-a568-b9e825e03c45"
      },
      "execution_count": 24,
      "outputs": [
        {
          "output_type": "stream",
          "name": "stdout",
          "text": [
            "(2+3j)\n"
          ]
        }
      ]
    },
    {
      "cell_type": "markdown",
      "metadata": {
        "id": "clQT0wKQEUrZ"
      },
      "source": [
        "11 - Convierte x=1.3455 a los otros 2 tipos de datos numéricos que has mencionado arriba"
      ]
    },
    {
      "cell_type": "code",
      "source": [
        "x = 1.3455"
      ],
      "metadata": {
        "id": "y44dmDSbNnUQ"
      },
      "execution_count": 25,
      "outputs": []
    },
    {
      "cell_type": "code",
      "source": [
        "x_ent = int(x)\n",
        "print(x)"
      ],
      "metadata": {
        "colab": {
          "base_uri": "https://localhost:8080/"
        },
        "id": "71mw20_cNtKx",
        "outputId": "e6d8d191-2d68-4c47-fbc5-15bfe3a798d3"
      },
      "execution_count": 26,
      "outputs": [
        {
          "output_type": "stream",
          "name": "stdout",
          "text": [
            "1.3455\n"
          ]
        }
      ]
    },
    {
      "cell_type": "code",
      "source": [
        "x = 2"
      ],
      "metadata": {
        "id": "jwTCyaNPOuEA"
      },
      "execution_count": 27,
      "outputs": []
    },
    {
      "cell_type": "code",
      "source": [
        "x_dd = float(2)\n",
        "print(x_dd)"
      ],
      "metadata": {
        "colab": {
          "base_uri": "https://localhost:8080/"
        },
        "id": "jm1e29ZOOvH5",
        "outputId": "d224f632-e26a-4434-c85b-35dcbe08bf66"
      },
      "execution_count": 28,
      "outputs": [
        {
          "output_type": "stream",
          "name": "stdout",
          "text": [
            "2.0\n"
          ]
        }
      ]
    },
    {
      "cell_type": "markdown",
      "metadata": {
        "id": "sCvO16aYEUra"
      },
      "source": [
        "## Variables Numéricas"
      ]
    },
    {
      "cell_type": "markdown",
      "metadata": {
        "id": "feUnj09gEUra"
      },
      "source": [
        "12 - Calcula la suma de 64 + 32"
      ]
    },
    {
      "cell_type": "code",
      "source": [
        "x = 64 + 32\n",
        "print(x)"
      ],
      "metadata": {
        "colab": {
          "base_uri": "https://localhost:8080/"
        },
        "id": "w9QlsIIFPCbX",
        "outputId": "56995316-466a-4f7c-f8dd-e3d89f05078b"
      },
      "execution_count": 29,
      "outputs": [
        {
          "output_type": "stream",
          "name": "stdout",
          "text": [
            "96\n"
          ]
        }
      ]
    },
    {
      "cell_type": "markdown",
      "metadata": {
        "id": "WxaHvrEwEUra"
      },
      "source": [
        "13 - Si x = 31.2445 y y= 1.92761, ¿cúanto es x+y?"
      ]
    },
    {
      "cell_type": "code",
      "source": [
        "x = 31.2445"
      ],
      "metadata": {
        "id": "NtK4_GrqPIPh"
      },
      "execution_count": 30,
      "outputs": []
    },
    {
      "cell_type": "code",
      "source": [
        "y = 1.92761"
      ],
      "metadata": {
        "id": "yobCQa99PO5D"
      },
      "execution_count": 31,
      "outputs": []
    },
    {
      "cell_type": "code",
      "source": [
        "print(x + y)"
      ],
      "metadata": {
        "colab": {
          "base_uri": "https://localhost:8080/"
        },
        "id": "q7T20puIPPA7",
        "outputId": "02d18618-e5f7-4431-8939-ffb1b176c5be"
      },
      "execution_count": 32,
      "outputs": [
        {
          "output_type": "stream",
          "name": "stdout",
          "text": [
            "33.172109999999996\n"
          ]
        }
      ]
    },
    {
      "cell_type": "markdown",
      "metadata": {
        "id": "18GsbEpvEUra"
      },
      "source": [
        "14 - Calcula ahora la resta, producto y división de estos números."
      ]
    },
    {
      "cell_type": "code",
      "source": [
        "resta = x - y"
      ],
      "metadata": {
        "id": "FH8XlBvyPbOZ"
      },
      "execution_count": 33,
      "outputs": []
    },
    {
      "cell_type": "code",
      "source": [
        "print(resta)"
      ],
      "metadata": {
        "colab": {
          "base_uri": "https://localhost:8080/"
        },
        "id": "wteGFf-PPtBz",
        "outputId": "9d09f3b1-99b2-487e-e6a0-d0ff428abf15"
      },
      "execution_count": 34,
      "outputs": [
        {
          "output_type": "stream",
          "name": "stdout",
          "text": [
            "29.316889999999997\n"
          ]
        }
      ]
    },
    {
      "cell_type": "code",
      "source": [
        "Division = x / y"
      ],
      "metadata": {
        "id": "IcofMdR1Pxy1"
      },
      "execution_count": 35,
      "outputs": []
    },
    {
      "cell_type": "code",
      "source": [
        "print(Division)"
      ],
      "metadata": {
        "colab": {
          "base_uri": "https://localhost:8080/"
        },
        "id": "z8qJs-P1P48X",
        "outputId": "d0d454aa-b946-4ad9-b632-d346d4e1fb61"
      },
      "execution_count": 36,
      "outputs": [
        {
          "output_type": "stream",
          "name": "stdout",
          "text": [
            "16.208932304771192\n"
          ]
        }
      ]
    },
    {
      "cell_type": "markdown",
      "metadata": {
        "id": "I95yW7R1EUra"
      },
      "source": [
        "15 - Calcula el área de un cuadrado de costado 3cm"
      ]
    },
    {
      "cell_type": "code",
      "source": [
        "Cuadrado = 'lado ' + 'por' ' lado'"
      ],
      "metadata": {
        "id": "vr8e4zxyQAad"
      },
      "execution_count": 37,
      "outputs": []
    },
    {
      "cell_type": "code",
      "source": [
        "side = 3\n",
        "side_2 = side ** 2\n",
        "print('el area del cuadrado es', side_2)"
      ],
      "metadata": {
        "colab": {
          "base_uri": "https://localhost:8080/"
        },
        "id": "AWgEM_-yRBFs",
        "outputId": "ae6b9b27-6124-440c-dbe2-8e09814f10c1"
      },
      "execution_count": 38,
      "outputs": [
        {
          "output_type": "stream",
          "name": "stdout",
          "text": [
            "el area del cuadrado es 9\n"
          ]
        }
      ]
    },
    {
      "cell_type": "markdown",
      "metadata": {
        "id": "hjD2RwOnEUra"
      },
      "source": [
        "16 - Calcula el área de una circunferencia de radio 2cm"
      ]
    },
    {
      "cell_type": "code",
      "source": [
        "import math"
      ],
      "metadata": {
        "id": "TMuzQyuRSyKI"
      },
      "execution_count": 43,
      "outputs": []
    },
    {
      "cell_type": "code",
      "source": [
        "r = 5"
      ],
      "metadata": {
        "id": "qWnWQDOzw5Dq"
      },
      "execution_count": 45,
      "outputs": []
    },
    {
      "cell_type": "code",
      "source": [
        "area = math.pi * r ** 2\n"
      ],
      "metadata": {
        "id": "aUzgFExLTDwE"
      },
      "execution_count": 46,
      "outputs": []
    },
    {
      "cell_type": "code",
      "source": [
        "print(area)"
      ],
      "metadata": {
        "colab": {
          "base_uri": "https://localhost:8080/"
        },
        "id": "fV9VLZBmw9bR",
        "outputId": "57554763-5bbe-47ab-c28e-31652718aee3"
      },
      "execution_count": 47,
      "outputs": [
        {
          "output_type": "stream",
          "name": "stdout",
          "text": [
            "78.53981633974483\n"
          ]
        }
      ]
    },
    {
      "cell_type": "markdown",
      "metadata": {
        "id": "1HWDUJA7EUrb"
      },
      "source": [
        "17 - Cuantos años tenías en el año 2000?"
      ]
    },
    {
      "cell_type": "code",
      "source": [
        "DOB = input( 'insert your DOB  with the following format dd/mm/aaaa')\n",
        "year_birth = int(DOB[-4:])\n",
        "Edad_en_2000 = 2000 - year_birth\n",
        "print('tenia', Edad_en_2000, ' years en el year 2000.')"
      ],
      "metadata": {
        "colab": {
          "base_uri": "https://localhost:8080/"
        },
        "id": "t4uXVro3VjoY",
        "outputId": "add00f99-5f75-48ee-9199-0c30e478c69d"
      },
      "execution_count": 48,
      "outputs": [
        {
          "output_type": "stream",
          "name": "stdout",
          "text": [
            "insert your DOB  with the following format dd/mm/aaaa16/04/1985\n",
            "tenia 15  years en el year 2000.\n"
          ]
        }
      ]
    },
    {
      "cell_type": "markdown",
      "metadata": {
        "id": "0vK_Dxp8EUrb"
      },
      "source": [
        "18 - Calcula el volumen de un cubo de costado 3 cm"
      ]
    },
    {
      "cell_type": "code",
      "source": [
        "#volumen = lado^3 = 3^3 = 27 cm^3"
      ],
      "metadata": {
        "id": "NyMuHKXEXdJ8"
      },
      "execution_count": 49,
      "outputs": []
    },
    {
      "cell_type": "code",
      "source": [
        "lado = 3\n"
      ],
      "metadata": {
        "id": "3wy-wdiuX44x"
      },
      "execution_count": 50,
      "outputs": []
    },
    {
      "cell_type": "code",
      "source": [
        "volumen = lado ** 3\n",
        "print('el volumen del cubo es',volumen)"
      ],
      "metadata": {
        "colab": {
          "base_uri": "https://localhost:8080/"
        },
        "id": "vtFJgw-xYGzG",
        "outputId": "067d9a5b-7f1b-42c9-81e5-9e43d4af4080"
      },
      "execution_count": 51,
      "outputs": [
        {
          "output_type": "stream",
          "name": "stdout",
          "text": [
            "el volumen del cubo es 27\n"
          ]
        }
      ]
    },
    {
      "cell_type": "markdown",
      "metadata": {
        "id": "BlBLrhRDEUrb"
      },
      "source": [
        "19 - ¿Si tengo 10 galletas en clase, cuantas galletas podemos comer cada uno si somos 15 estudiantes?. ¿Y si tengo 15 caramelos que no podemos particionar y cada estudiante se comerá mínimo 2?"
      ]
    },
    {
      "cell_type": "code",
      "source": [
        "galletas = 10"
      ],
      "metadata": {
        "id": "HGOVmvbXYYia"
      },
      "execution_count": 52,
      "outputs": []
    },
    {
      "cell_type": "code",
      "source": [
        "estudiantes = 15"
      ],
      "metadata": {
        "id": "bh6_X8uVYk0k"
      },
      "execution_count": 53,
      "outputs": []
    },
    {
      "cell_type": "code",
      "source": [
        "cada_uno = 10 / 15"
      ],
      "metadata": {
        "id": "uX41YTroY1Xe"
      },
      "execution_count": 54,
      "outputs": []
    },
    {
      "cell_type": "code",
      "source": [
        "print('pueden comer cada uno', cada_uno)"
      ],
      "metadata": {
        "colab": {
          "base_uri": "https://localhost:8080/"
        },
        "id": "H1Cj92PfYpXZ",
        "outputId": "66328dad-9de2-47bc-bb3c-b1021f9d3f39"
      },
      "execution_count": 55,
      "outputs": [
        {
          "output_type": "stream",
          "name": "stdout",
          "text": [
            "pueden comer cada uno 0.6666666666666666\n"
          ]
        }
      ]
    },
    {
      "cell_type": "code",
      "source": [
        "caramelos = 15"
      ],
      "metadata": {
        "id": "RhLLKndrZwCk"
      },
      "execution_count": 56,
      "outputs": []
    },
    {
      "cell_type": "code",
      "source": [
        "est_ca = int(caramelos / estudiantes)"
      ],
      "metadata": {
        "id": "wdJ3UiapZwIJ"
      },
      "execution_count": 57,
      "outputs": []
    },
    {
      "cell_type": "code",
      "source": [
        "print('se pueden comer', est_ca)"
      ],
      "metadata": {
        "colab": {
          "base_uri": "https://localhost:8080/"
        },
        "id": "Kzs2KSLrZwNy",
        "outputId": "e2908428-9c4f-46ee-bfb4-e8ebb3a2b25f"
      },
      "execution_count": 58,
      "outputs": [
        {
          "output_type": "stream",
          "name": "stdout",
          "text": [
            "se pueden comer 1\n"
          ]
        }
      ]
    },
    {
      "cell_type": "code",
      "source": [],
      "metadata": {
        "id": "31r2tgbWZwTj"
      },
      "execution_count": 58,
      "outputs": []
    },
    {
      "cell_type": "markdown",
      "metadata": {
        "id": "uYWcKEiEEUrb"
      },
      "source": [
        "## Booleanos"
      ]
    },
    {
      "cell_type": "markdown",
      "metadata": {
        "id": "zREE_iyHEUrb"
      },
      "source": [
        "20 - Si Elena tiene 15 años y Jorge tiene 20, comprueba quien es mayor"
      ]
    },
    {
      "cell_type": "code",
      "source": [
        "e = 15"
      ],
      "metadata": {
        "id": "SsvfiEkWaPFD"
      },
      "execution_count": 59,
      "outputs": []
    },
    {
      "cell_type": "code",
      "source": [
        "j = 20"
      ],
      "metadata": {
        "id": "JfaJk-5XaVL9"
      },
      "execution_count": 60,
      "outputs": []
    },
    {
      "cell_type": "code",
      "source": [
        "ELENA = e > j\n",
        "Jorge = j > e"
      ],
      "metadata": {
        "id": "cLgE79VbaVUH"
      },
      "execution_count": 61,
      "outputs": []
    },
    {
      "cell_type": "code",
      "source": [
        "print('es verdad que elena es mayor que jorge',ELENA)\n",
        "print('es verdad que jorge es mayor que elena',Jorge)"
      ],
      "metadata": {
        "colab": {
          "base_uri": "https://localhost:8080/"
        },
        "id": "Q0AMKFlfbA_6",
        "outputId": "2fe84b57-952a-4350-84a1-f9bef11ddf1a"
      },
      "execution_count": 62,
      "outputs": [
        {
          "output_type": "stream",
          "name": "stdout",
          "text": [
            "es verdad que elena es mayor que jorge False\n",
            "es verdad que jorge es mayor que elena True\n"
          ]
        }
      ]
    },
    {
      "cell_type": "markdown",
      "metadata": {
        "ExecuteTime": {
          "end_time": "2020-02-16T10:14:37.853694Z",
          "start_time": "2020-02-16T10:14:37.843040Z"
        },
        "id": "L40PTNIpEUrb"
      },
      "source": [
        "21 - Comprueba efectivamente que Elena y Jorge no tienen la misma edad"
      ]
    },
    {
      "cell_type": "code",
      "source": [
        "misma = e == j"
      ],
      "metadata": {
        "id": "V33A0tR9b3jH"
      },
      "execution_count": 63,
      "outputs": []
    },
    {
      "cell_type": "code",
      "source": [
        "print('es eleana y jorge de la misma edad', misma)"
      ],
      "metadata": {
        "colab": {
          "base_uri": "https://localhost:8080/"
        },
        "id": "mq_vRvpTbdsy",
        "outputId": "df6c75bd-842b-4b8e-b158-ea6e153d298a"
      },
      "execution_count": 64,
      "outputs": [
        {
          "output_type": "stream",
          "name": "stdout",
          "text": [
            "es eleana y jorge de la misma edad False\n"
          ]
        }
      ]
    },
    {
      "cell_type": "markdown",
      "metadata": {
        "id": "j5rAvxoTEUrc"
      },
      "source": [
        "## Strings"
      ]
    },
    {
      "cell_type": "markdown",
      "metadata": {
        "id": "vP0NFKGLEUrc"
      },
      "source": [
        "22 - Mi lista de la compra me dice que tengo que comprar 12 huevos, pero quizás más adelante decido comprar más. Imprime mi lista de la compra en C-style"
      ]
    },
    {
      "cell_type": "code",
      "source": [
        "huevos = 12"
      ],
      "metadata": {
        "id": "vmgEunt7yBEZ"
      },
      "execution_count": 69,
      "outputs": []
    },
    {
      "cell_type": "code",
      "source": [
        "print(\"Lista de la compra:\")\n",
        "print(\"- {} huevos\".format(huevos))"
      ],
      "metadata": {
        "colab": {
          "base_uri": "https://localhost:8080/"
        },
        "id": "xRL5oWKQyEkp",
        "outputId": "34ce25db-522d-4b0d-9a75-8d62e251eeb8"
      },
      "execution_count": 70,
      "outputs": [
        {
          "output_type": "stream",
          "name": "stdout",
          "text": [
            "Lista de la compra:\n",
            "- 12 huevos\n"
          ]
        }
      ]
    },
    {
      "cell_type": "markdown",
      "metadata": {
        "id": "5XNGHRNUEUrc"
      },
      "source": [
        "23 - ¿Cuántas letras tiene la palabra 'abecedario'?"
      ]
    },
    {
      "cell_type": "code",
      "source": [
        "letras = 'abedecedario'\n"
      ],
      "metadata": {
        "id": "q2DDqFaoeFsS"
      },
      "execution_count": 66,
      "outputs": []
    },
    {
      "cell_type": "code",
      "source": [
        "cantidad = len(letras)"
      ],
      "metadata": {
        "id": "39BmqDF-eMtg"
      },
      "execution_count": 67,
      "outputs": []
    },
    {
      "cell_type": "code",
      "source": [
        "print('el abedecedario contiene esta cantidad de letras', cantidad)"
      ],
      "metadata": {
        "colab": {
          "base_uri": "https://localhost:8080/"
        },
        "id": "94ay2oqTeMyU",
        "outputId": "3bd1cb34-5374-4012-e3b9-8679811c32d9"
      },
      "execution_count": 68,
      "outputs": [
        {
          "output_type": "stream",
          "name": "stdout",
          "text": [
            "el abedecedario contiene esta cantidad de letras 12\n"
          ]
        }
      ]
    },
    {
      "cell_type": "markdown",
      "metadata": {
        "id": "PPMXj-wpEUrc"
      },
      "source": [
        "24 - Pon en mayúscula las palabra abecedario"
      ]
    },
    {
      "cell_type": "code",
      "source": [
        "mayuscula = letras.upper()\n"
      ],
      "metadata": {
        "id": "0rMRvhHhesTl"
      },
      "execution_count": 71,
      "outputs": []
    },
    {
      "cell_type": "code",
      "source": [
        "print(mayuscula)"
      ],
      "metadata": {
        "colab": {
          "base_uri": "https://localhost:8080/"
        },
        "id": "vZh7f9A_fZ9w",
        "outputId": "903443aa-5ba9-41ad-b156-523621b2ae1a"
      },
      "execution_count": 72,
      "outputs": [
        {
          "output_type": "stream",
          "name": "stdout",
          "text": [
            "ABEDECEDARIO\n"
          ]
        }
      ]
    },
    {
      "cell_type": "markdown",
      "metadata": {
        "id": "vRKTcH3REUrd"
      },
      "source": [
        "25 - Limpia de espacios el siguiente texto: \"  q u i e r o   a p r e n d e r   p y t h o n \""
      ]
    },
    {
      "cell_type": "code",
      "source": [
        "texto = \" q u i e r o a p r e n d e r p y t h o n \"\n",
        "texto_limpio = texto.replace(\" \", \"\")\n",
        "print(texto_limpio)"
      ],
      "metadata": {
        "colab": {
          "base_uri": "https://localhost:8080/"
        },
        "id": "ChEcZZyqhOcl",
        "outputId": "327d9c9d-f689-4021-c996-9ffa524f4f4f"
      },
      "execution_count": 73,
      "outputs": [
        {
          "output_type": "stream",
          "name": "stdout",
          "text": [
            "quieroaprenderpython\n"
          ]
        }
      ]
    },
    {
      "cell_type": "code",
      "source": [
        "texto = \" s o y c a b r o n e n p y t h o n \""
      ],
      "metadata": {
        "id": "AusTGlRyhRv6"
      },
      "execution_count": 74,
      "outputs": []
    },
    {
      "cell_type": "code",
      "source": [
        "texto_limpio = texto.replace(\" \", \"\")"
      ],
      "metadata": {
        "id": "nBItgsd8hR3Z"
      },
      "execution_count": 75,
      "outputs": []
    },
    {
      "cell_type": "code",
      "source": [
        "print(texto_limpio)"
      ],
      "metadata": {
        "colab": {
          "base_uri": "https://localhost:8080/"
        },
        "id": "h67Xl0FZht0M",
        "outputId": "94e59dd5-5722-40de-85f8-95990c9d97b7"
      },
      "execution_count": 76,
      "outputs": [
        {
          "output_type": "stream",
          "name": "stdout",
          "text": [
            "soycabronenpython\n"
          ]
        }
      ]
    },
    {
      "cell_type": "markdown",
      "metadata": {
        "id": "zDEW88USEUrd"
      },
      "source": [
        "26 - Reemplaza el \"no\" por un \"yo\" en el siguiente texto: \"no quiero aprender python, no quiero pasármelo genial!\""
      ]
    },
    {
      "cell_type": "code",
      "source": [
        "texto = \"no quiero aprender python, no quiero pasármelo genial!\""
      ],
      "metadata": {
        "id": "bJnjik18i1B3"
      },
      "execution_count": 77,
      "outputs": []
    },
    {
      "cell_type": "code",
      "source": [
        "sin_no = texto.replace(\"no\", \"yoo\")\n"
      ],
      "metadata": {
        "id": "uDxAUuWFi1Dg"
      },
      "execution_count": 78,
      "outputs": []
    },
    {
      "cell_type": "code",
      "source": [
        "print(sin_no)"
      ],
      "metadata": {
        "colab": {
          "base_uri": "https://localhost:8080/"
        },
        "id": "as8FNHz6i1H5",
        "outputId": "801836a2-aff0-4fcf-875a-178d810ab797"
      },
      "execution_count": 79,
      "outputs": [
        {
          "output_type": "stream",
          "name": "stdout",
          "text": [
            "yoo quiero aprender python, yoo quiero pasármelo genial!\n"
          ]
        }
      ]
    },
    {
      "cell_type": "markdown",
      "metadata": {
        "id": "Yzcqjn0VEUrd"
      },
      "source": [
        "27 - ¿Cuántas veces aparece el nombre Python en el siguiente texto?:\n",
        "\n",
        "\" Python is an interpreted, object-oriented, high-level programming language with dynamic semantics. Its high-level built in data structures, combined with dynamic typing and dynamic binding, make it very attractive for Rapid Application Development, as well as for use as a scripting or glue language to connect existing components together. Python's simple, easy to learn syntax emphasizes readability and therefore reduces the cost of program maintenance. Python supports modules and packages, which encourages program modularity and code reuse. The Python interpreter and the extensive standard library are available in source or binary form without charge for all major platforms, and can be freely distributed.\n",
        "\n",
        "Often, programmers fall in love with Python because of the increased productivity it provides. Since there is no compilation step, the edit-test-debug cycle is incredibly fast. Debugging Python programs is easy: a bug or bad input will never cause a segmentation fault. Instead, when the interpreter discovers an error, it raises an exception. When the program doesn't catch the exception, the interpreter prints a stack trace. A source level debugger allows inspection of local and global variables, evaluation of arbitrary expressions, setting breakpoints, stepping through the code a line at a time, and so on. The debugger is written in Python itself, testifying to Python's introspective power. On the other hand, often the quickest way to debug a program is to add a few print statements to the source: the fast edit-test-debug cycle makes this simple approach very effective.\"\n"
      ]
    },
    {
      "cell_type": "code",
      "source": [
        "text = \"\"\"\n",
        "Python is an interpreted, object-oriented, high-level programming language with dynamic semantics. Its high-level built in data structures, combined with dynamic typing and dynamic binding, make it very attractive for Rapid Application Development, as well as for use as a scripting or glue language to connect existing components together. Python's simple, easy to learn syntax emphasizes readability and therefore reduces the cost of program maintenance. Python supports modules and packages, which encourages program modularity and code reuse. The Python interpreter and the extensive standard library are available in source or binary form without charge for all major platforms, and can be freely distributed.\n",
        "\n",
        "Often, programmers fall in love with Python because of the increased productivity it provides. Since there is no compilation step, the edit-test-debug cycle is incredibly fast. Debugging Python programs is easy: a bug or bad input will never cause a segmentation fault. Instead, when the interpreter discovers an error, it raises an exception. When the program doesn't catch the exception, the interpreter prints a stack trace. A source level debugger allows inspection of local and global variables, evaluation of arbitrary expressions, setting breakpoints, stepping through the code a line at a time, and so on. The debugger is written in Python itself, testifying to Python's introspective power. On the other hand, often the quickest way to debug a program is to add a few print statements to the source: the fast edit-test-debug cycle makes this simple approach very effective.\n",
        "\"\"\"\n",
        "\n",
        "# Contar el número de veces que aparece \"Python\" en el texto\n",
        "count_python = text.count(\"Python\")\n",
        "print(\"El número de veces que aparece la palabra 'Python' en el texto es:\", count_python)\n",
        "\n"
      ],
      "metadata": {
        "colab": {
          "base_uri": "https://localhost:8080/"
        },
        "id": "mKh1sBTGjryz",
        "outputId": "b76e4643-dd57-4da5-f42a-277a9b347137"
      },
      "execution_count": 81,
      "outputs": [
        {
          "output_type": "stream",
          "name": "stdout",
          "text": [
            "El número de veces que aparece la palabra 'Python' en el texto es: 8\n"
          ]
        }
      ]
    },
    {
      "cell_type": "markdown",
      "metadata": {
        "id": "JBl4PXifEUrf"
      },
      "source": [
        "28 - Pon en mayúscula la primera letra de cada palabra de la siguiente frase:\n",
        "\n",
        "\"python is an interpreted, object-oriented, high-level programming language with dynamic semantics. its high-level built in data structures, combined with dynamic typing and dynamic binding, make it very attractive for Rapid Application Development, as well as for use as a scripting or glue language to connect existing components together.\"\n"
      ]
    },
    {
      "cell_type": "code",
      "execution_count": 82,
      "metadata": {
        "colab": {
          "base_uri": "https://localhost:8080/"
        },
        "id": "CAggFhpoEUrh",
        "outputId": "9a78e8d4-f23a-430a-b5f1-07313f7121fd"
      },
      "outputs": [
        {
          "output_type": "stream",
          "name": "stdout",
          "text": [
            "Python Is An Interpreted, Object-Oriented, High-Level Programming Language With Dynamic Semantics. Its High-Level Built In Data Structures, Combined With Dynamic Typing And Dynamic Binding, Make It Very Attractive For Rapid Application Development, As Well As For Use As A Scripting Or Glue Language To Connect Existing Components Together.\n"
          ]
        }
      ],
      "source": [
        "frase = \"python is an interpreted, object-oriented, high-level programming language with dynamic semantics. its high-level built in data structures, combined with dynamic typing and dynamic binding, make it very attractive for Rapid Application Development, as well as for use as a scripting or glue language to connect existing components together.\"\n",
        "\n",
        "frase_en_mayusculas = frase.title()\n",
        "print(frase_en_mayusculas)\n"
      ]
    },
    {
      "cell_type": "code",
      "source": [
        "frase = \"python is an interpreted, object-oriented, high-level programming language with dynamic semantics. its high-level built in data structures, combined with dynamic typing and dynamic binding, make it very attractive for Rapid Application Development, as well as for use as a scripting or glue language to connect existing components together\""
      ],
      "metadata": {
        "id": "5op0wUAZEd9V"
      },
      "execution_count": 83,
      "outputs": []
    },
    {
      "cell_type": "code",
      "source": [
        "frase_en_mayuscula = frase.title()\n"
      ],
      "metadata": {
        "id": "vwqgeu-_Ed-5"
      },
      "execution_count": 84,
      "outputs": []
    },
    {
      "cell_type": "code",
      "source": [
        "print(frase_en_mayuscula)"
      ],
      "metadata": {
        "colab": {
          "base_uri": "https://localhost:8080/"
        },
        "id": "bOOLFt5cEeD9",
        "outputId": "1509f757-9a71-4959-9f9c-c712ab9b9b64"
      },
      "execution_count": 85,
      "outputs": [
        {
          "output_type": "stream",
          "name": "stdout",
          "text": [
            "Python Is An Interpreted, Object-Oriented, High-Level Programming Language With Dynamic Semantics. Its High-Level Built In Data Structures, Combined With Dynamic Typing And Dynamic Binding, Make It Very Attractive For Rapid Application Development, As Well As For Use As A Scripting Or Glue Language To Connect Existing Components Together\n"
          ]
        }
      ]
    }
  ],
  "metadata": {
    "kernelspec": {
      "display_name": "Python 3",
      "language": "python",
      "name": "python3"
    },
    "language_info": {
      "codemirror_mode": {
        "name": "ipython",
        "version": 3
      },
      "file_extension": ".py",
      "mimetype": "text/x-python",
      "name": "python",
      "nbconvert_exporter": "python",
      "pygments_lexer": "ipython3",
      "version": "3.8.3"
    },
    "latex_envs": {
      "LaTeX_envs_menu_present": true,
      "autoclose": false,
      "autocomplete": true,
      "bibliofile": "biblio.bib",
      "cite_by": "apalike",
      "current_citInitial": 1,
      "eqLabelWithNumbers": true,
      "eqNumInitial": 1,
      "hotkeys": {
        "equation": "Ctrl-E",
        "itemize": "Ctrl-I"
      },
      "labels_anchors": false,
      "latex_user_defs": false,
      "report_style_numbering": false,
      "user_envs_cfg": false
    },
    "toc": {
      "base_numbering": 1,
      "nav_menu": {},
      "number_sections": true,
      "sideBar": true,
      "skip_h1_title": false,
      "title_cell": "Table of Contents",
      "title_sidebar": "Contents",
      "toc_cell": false,
      "toc_position": {
        "height": "calc(100% - 180px)",
        "left": "10px",
        "top": "150px",
        "width": "418.3831481933594px"
      },
      "toc_section_display": true,
      "toc_window_display": false
    },
    "varInspector": {
      "cols": {
        "lenName": 16,
        "lenType": 16,
        "lenVar": 40
      },
      "kernels_config": {
        "python": {
          "delete_cmd_postfix": "",
          "delete_cmd_prefix": "del ",
          "library": "var_list.py",
          "varRefreshCmd": "print(var_dic_list())"
        },
        "r": {
          "delete_cmd_postfix": ") ",
          "delete_cmd_prefix": "rm(",
          "library": "var_list.r",
          "varRefreshCmd": "cat(var_dic_list()) "
        }
      },
      "types_to_exclude": [
        "module",
        "function",
        "builtin_function_or_method",
        "instance",
        "_Feature"
      ],
      "window_display": false
    },
    "colab": {
      "provenance": [],
      "include_colab_link": true
    }
  },
  "nbformat": 4,
  "nbformat_minor": 0
}