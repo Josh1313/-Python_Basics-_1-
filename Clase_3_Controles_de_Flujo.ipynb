{
  "cells": [
    {
      "cell_type": "markdown",
      "metadata": {
        "id": "view-in-github",
        "colab_type": "text"
      },
      "source": [
        "<a href=\"https://colab.research.google.com/github/Josh1313/-Python_Basics-_1-/blob/main/Clase_3_Controles_de_Flujo.ipynb\" target=\"_parent\"><img src=\"https://colab.research.google.com/assets/colab-badge.svg\" alt=\"Open In Colab\"/></a>"
      ]
    },
    {
      "cell_type": "markdown",
      "metadata": {
        "id": "rspxBR_Vy-65"
      },
      "source": [
        "# Controles de Flujo\n",
        "\n",
        "## Condicionales\n",
        "\n",
        "Python acepta las condiciones lógicas que las matemáticas nos enseñaron:\n",
        "- Igual: a == b\n",
        "- No igual: a != b\n",
        "- Menor que: a < b\n",
        "- Menor o igual que: a<= b\n",
        "- Mayor que: a>b\n",
        "- Mayor o igual que: a>= b\n",
        "\n",
        "### IF( )"
      ]
    },
    {
      "cell_type": "code",
      "execution_count": 111,
      "metadata": {
        "id": "SU322E7dy-67"
      },
      "outputs": [],
      "source": [
        "x = 5\n"
      ]
    },
    {
      "cell_type": "code",
      "execution_count": 112,
      "metadata": {
        "id": "ZCpn9LZUy-7A"
      },
      "outputs": [],
      "source": [
        "if x <= 3 :\n",
        "  print(\"es menos de eda\")"
      ]
    },
    {
      "cell_type": "code",
      "source": [
        "x"
      ],
      "metadata": {
        "id": "SdlFmUBEzFi1",
        "outputId": "bea3d660-b858-424e-dd5b-970a1374eaf4",
        "colab": {
          "base_uri": "https://localhost:8080/"
        }
      },
      "execution_count": 113,
      "outputs": [
        {
          "output_type": "execute_result",
          "data": {
            "text/plain": [
              "5"
            ]
          },
          "metadata": {},
          "execution_count": 113
        }
      ]
    },
    {
      "cell_type": "markdown",
      "metadata": {
        "id": "KTr2nOWTy-7A"
      },
      "source": [
        "### ELIF( ) = ELSE IF"
      ]
    },
    {
      "cell_type": "code",
      "execution_count": 114,
      "metadata": {
        "ExecuteTime": {
          "end_time": "2020-02-26T18:46:07.659188Z",
          "start_time": "2020-02-26T18:46:07.653382Z"
        },
        "id": "rglLKV75y-7A",
        "outputId": "34f6e15d-48a5-4143-fa7c-992b10bc61f2",
        "colab": {
          "base_uri": "https://localhost:8080/"
        }
      },
      "outputs": [
        {
          "output_type": "stream",
          "name": "stdout",
          "text": [
            "a es igual a b\n"
          ]
        }
      ],
      "source": [
        "a = 1\n",
        "b = 1\n",
        "if b > a:\n",
        "    print(\"b es mayor que a\")\n",
        "elif a == b:\n",
        "    print('a es igual a b')\n",
        "\n"
      ]
    },
    {
      "cell_type": "markdown",
      "metadata": {
        "id": "J6NE9j6sy-7A"
      },
      "source": [
        "### ELSE:\n",
        "\n",
        "![title](https://4.bp.blogspot.com/-y7BUSaA5_GU/Vk5chQCT9AI/AAAAAAAAFv8/XV1njZ5jivU/s1600/a.JPG)"
      ]
    },
    {
      "cell_type": "code",
      "execution_count": 115,
      "metadata": {
        "ExecuteTime": {
          "end_time": "2020-02-08T13:50:06.068767Z",
          "start_time": "2020-02-08T13:50:06.062943Z"
        },
        "id": "U2xKM_kly-7B",
        "outputId": "d262064d-6ae8-4a10-e6b5-1a223f9be31b",
        "colab": {
          "base_uri": "https://localhost:8080/"
        }
      },
      "outputs": [
        {
          "output_type": "stream",
          "name": "stdout",
          "text": [
            "hola\n"
          ]
        }
      ],
      "source": [
        "a = 10\n",
        "b = 1\n",
        "if b > a:\n",
        "    print(\"b es mayor que a\")\n",
        "elif a == b:\n",
        "    print(\"a y b son iguales\")\n",
        "else:\n",
        "    print('hola')\n",
        "\n"
      ]
    },
    {
      "cell_type": "code",
      "source": [
        "'hola \"como\" estas'"
      ],
      "metadata": {
        "colab": {
          "base_uri": "https://localhost:8080/",
          "height": 36
        },
        "id": "vJrnYLVqAY7p",
        "outputId": "4a7acd11-99c9-4163-d3b0-3d5dd7450cd1"
      },
      "execution_count": 116,
      "outputs": [
        {
          "output_type": "execute_result",
          "data": {
            "text/plain": [
              "'hola \"como\" estas'"
            ],
            "application/vnd.google.colaboratory.intrinsic+json": {
              "type": "string"
            }
          },
          "metadata": {},
          "execution_count": 116
        }
      ]
    },
    {
      "cell_type": "markdown",
      "metadata": {
        "id": "bj3VTercy-7B"
      },
      "source": [
        "![title](https://www.learnbyexample.org/wp-content/uploads/python/Python-elif-Statement-Syntax.png)\n",
        "\n",
        "### Condiciones if else en una línea\n",
        "\n",
        "Si se desea ejecutar un condicional sin más de una condición o statement, se puede escribir en una sola línea, sin uso de identación; de la siguiente forma:"
      ]
    },
    {
      "cell_type": "code",
      "execution_count": 117,
      "metadata": {
        "ExecuteTime": {
          "end_time": "2020-02-26T18:57:50.739069Z",
          "start_time": "2020-02-26T18:57:50.732879Z"
        },
        "id": "R5cCwkGly-7C",
        "outputId": "e2cebd93-f620-481d-ad37-0701b2da0d2c",
        "colab": {
          "base_uri": "https://localhost:8080/"
        }
      },
      "outputs": [
        {
          "output_type": "stream",
          "name": "stdout",
          "text": [
            "a NO es mayor que b\n"
          ]
        }
      ],
      "source": [
        "a = 10\n",
        "b = 1\n",
        "\n",
        "if a < b:\n",
        "    print('a es mayor que b')\n",
        "else:\n",
        "    print('a NO es mayor que b')"
      ]
    },
    {
      "cell_type": "code",
      "execution_count": 117,
      "metadata": {
        "id": "Trw9OLC_PTyH"
      },
      "outputs": [],
      "source": []
    },
    {
      "cell_type": "code",
      "execution_count": 118,
      "metadata": {
        "id": "5_DsOg7Ty-7D",
        "outputId": "23039455-6346-4e3f-810c-3719ece63e15",
        "colab": {
          "base_uri": "https://localhost:8080/"
        }
      },
      "outputs": [
        {
          "output_type": "stream",
          "name": "stdout",
          "text": [
            "a es igual que b\n"
          ]
        }
      ],
      "source": [
        "a = 330\n",
        "b = 330\n",
        "\n",
        "if a>b:\n",
        "    print('a es mayor que b')\n",
        "elif a==b:\n",
        "    print('a es igual que b')\n",
        "else:\n",
        "    print('hola')"
      ]
    },
    {
      "cell_type": "code",
      "execution_count": 119,
      "metadata": {
        "id": "IHCtHWVXPTyI",
        "colab": {
          "base_uri": "https://localhost:8080/"
        },
        "outputId": "4c58df9e-4a51-4ea8-aa81-6293a0ced235"
      },
      "outputs": [
        {
          "output_type": "stream",
          "name": "stdout",
          "text": [
            "a es mayor que b\n"
          ]
        }
      ],
      "source": [
        "print('a es mayor que b')"
      ]
    },
    {
      "cell_type": "markdown",
      "metadata": {
        "id": "fXPuCwyty-7D"
      },
      "source": [
        "### and( ) y or ()"
      ]
    },
    {
      "cell_type": "code",
      "execution_count": 120,
      "metadata": {
        "id": "8ADuKA9Fy-7E"
      },
      "outputs": [],
      "source": [
        "a = 10\n",
        "b = 20\n",
        "if a > b and a == b:\n",
        "  print('hola')"
      ]
    },
    {
      "cell_type": "code",
      "source": [
        "if a < b or a == b:\n",
        "  print('hola')"
      ],
      "metadata": {
        "colab": {
          "base_uri": "https://localhost:8080/"
        },
        "id": "T7PTja49ByeL",
        "outputId": "e3c5e186-dc40-457b-dfe1-3c94edc22b40"
      },
      "execution_count": 121,
      "outputs": [
        {
          "output_type": "stream",
          "name": "stdout",
          "text": [
            "hola\n"
          ]
        }
      ]
    },
    {
      "cell_type": "code",
      "source": [
        "a < b or a == b"
      ],
      "metadata": {
        "colab": {
          "base_uri": "https://localhost:8080/"
        },
        "id": "6PKjzM1ECExp",
        "outputId": "0fda1691-6842-44f9-a50d-29a237c26c3e"
      },
      "execution_count": 122,
      "outputs": [
        {
          "output_type": "execute_result",
          "data": {
            "text/plain": [
              "True"
            ]
          },
          "metadata": {},
          "execution_count": 122
        }
      ]
    },
    {
      "cell_type": "markdown",
      "metadata": {
        "id": "ih4pgjOaPTyJ"
      },
      "source": [
        "##### **Ejercicio**: Si a = 30 es mayor que b = 10 y \"a\" es mayor que 100 imprime \"YES\"; si no es así, comprueba que \"b\" es mayor que 0 y si es así imprime \"HOLA\" y si no, imprime \"Me voy a casa\".  (Escribirlo primero en varias líneas y después en una línea)"
      ]
    },
    {
      "cell_type": "code",
      "execution_count": 123,
      "metadata": {
        "id": "k4vBgiGqy-7E",
        "colab": {
          "base_uri": "https://localhost:8080/"
        },
        "outputId": "00e02ec7-c771-473b-b209-2e15870d23fa"
      },
      "outputs": [
        {
          "output_type": "stream",
          "name": "stdout",
          "text": [
            "HOLA\n"
          ]
        }
      ],
      "source": [
        "a = 30\n",
        "b = 10\n",
        "\n",
        "if a > b and a > 100:\n",
        "    print(\"YES\")\n",
        "else:\n",
        "    if b > 0:\n",
        "        print(\"HOLA\")\n",
        "    else:\n",
        "        print(\"Me voy a casa\")"
      ]
    },
    {
      "cell_type": "code",
      "source": [
        "if a > b and a > 100:\n",
        "    print(\"YES\")\n",
        "else:\n",
        "    if b > 0:\n",
        "        print(\"HOLA\")\n",
        "    else:\n",
        "        print(\"Me voy a casa\")"
      ],
      "metadata": {
        "colab": {
          "base_uri": "https://localhost:8080/"
        },
        "id": "MAjs_ysJDDAl",
        "outputId": "1dfcaf23-5c45-4bca-b038-4022609802ea"
      },
      "execution_count": 124,
      "outputs": [
        {
          "output_type": "stream",
          "name": "stdout",
          "text": [
            "HOLA\n"
          ]
        }
      ]
    },
    {
      "cell_type": "code",
      "execution_count": 125,
      "metadata": {
        "id": "ch9hHA2ty-7E",
        "colab": {
          "base_uri": "https://localhost:8080/"
        },
        "outputId": "08a61be6-ad3e-4eff-f908-826c8816aae7"
      },
      "outputs": [
        {
          "output_type": "stream",
          "name": "stdout",
          "text": [
            "HOLA\n"
          ]
        }
      ],
      "source": [
        "print(\"YES\" if a > b and a > 100 else \"HOLA\" if b > 0 else \"Me voy a casa\")\n"
      ]
    },
    {
      "cell_type": "markdown",
      "metadata": {
        "id": "Ur2NAk7Ry-7E"
      },
      "source": [
        "### Condiciones anidadas"
      ]
    },
    {
      "cell_type": "code",
      "execution_count": 126,
      "metadata": {
        "ExecuteTime": {
          "end_time": "2020-02-26T19:22:46.092360Z",
          "start_time": "2020-02-26T19:22:46.086096Z"
        },
        "id": "pVOWQ7-Py-7F",
        "outputId": "5a075625-212b-4402-cc85-11c6758b4805",
        "colab": {
          "base_uri": "https://localhost:8080/"
        }
      },
      "outputs": [
        {
          "output_type": "stream",
          "name": "stdout",
          "text": [
            "falso todo\n"
          ]
        }
      ],
      "source": [
        "x = 5\n",
        "\n",
        "if x > 10:\n",
        "    print(\"cierto, 41 es mayor que 10\")\n",
        "\n",
        "    if x < 20:\n",
        "        print(\"cierto, 41 es también mayor que 20!\")\n",
        "\n",
        "        if x < 30:\n",
        "            print (\"hola\")\n",
        "else:\n",
        "    print(\"falso todo\")"
      ]
    },
    {
      "cell_type": "code",
      "execution_count": 127,
      "metadata": {
        "ExecuteTime": {
          "end_time": "2020-02-26T19:32:36.539076Z",
          "start_time": "2020-02-26T19:32:36.533986Z"
        },
        "id": "JGmW2cmGy-7F",
        "outputId": "a63ec77a-b939-454b-ab91-cfbf77cdf050",
        "colab": {
          "base_uri": "https://localhost:8080/"
        }
      },
      "outputs": [
        {
          "output_type": "stream",
          "name": "stdout",
          "text": [
            "cierto, 41 es mayor que 10\n",
            "falso\n"
          ]
        }
      ],
      "source": [
        "x = 15\n",
        "\n",
        "if x > 10:\n",
        "    print(\"cierto, 41 es mayor que 10\")\n",
        "\n",
        "    if x > 20:\n",
        "        print(\"cierto, 41 es también mayor que 20!\")\n",
        "\n",
        "    else:\n",
        "        print(\"falso\")"
      ]
    },
    {
      "cell_type": "markdown",
      "metadata": {
        "id": "oV9zAXv7y-7F"
      },
      "source": [
        "## Bucles en Python\n",
        "\n",
        "Python tiene dos comandos para crear bucles:\n",
        "- bucle *while* = **mientras** se cumpla cierta condición hazme esto\n",
        "- bucle *for* = **por cada** elemento en mi objeto, hazme esto\n",
        "\n",
        "### Bucles *while()*"
      ]
    },
    {
      "cell_type": "code",
      "execution_count": 128,
      "metadata": {
        "ExecuteTime": {
          "end_time": "2020-02-08T14:22:02.690355Z",
          "start_time": "2020-02-08T14:22:02.684585Z"
        },
        "id": "j1gYYai_y-7F",
        "outputId": "ad5dcedb-65da-4447-f897-526b3cd8b4ee",
        "colab": {
          "base_uri": "https://localhost:8080/"
        }
      },
      "outputs": [
        {
          "output_type": "stream",
          "name": "stdout",
          "text": [
            "1\n",
            "2\n",
            "3\n"
          ]
        }
      ],
      "source": [
        "i = 1\n",
        "\n",
        "while i < 4 : #mientras el valor de i sea más pequeño que 6, pasar código abajo\n",
        "    print(i) #imprime el valor de i\n",
        "    i = i + 1 #suma 1 al valor de i"
      ]
    },
    {
      "cell_type": "markdown",
      "metadata": {
        "id": "uypGtH_Zy-7G"
      },
      "source": [
        "![title](https://slideplayer.es/slide/17258391/100/images/2/Pasos+Repetidos+Resultado%3A+¡Blastoff%21+Programa%3A+No+S%C3%AD+n+%3D+5.jpg)\n",
        "\n",
        "#### Ejercicio: Crea un bucle que mientras la variable x sea positiva, imprima el valor de la variable y le reste 2 unidades. Cuando deje de ser una variable positiva, imprime en pantalla \"The End\". Inicializa la variable a 26"
      ]
    },
    {
      "cell_type": "code",
      "execution_count": 129,
      "metadata": {
        "id": "jGhMFy0hy-7G",
        "colab": {
          "base_uri": "https://localhost:8080/"
        },
        "outputId": "b52923b5-6aa2-4de3-f202-a1ae7f0395c7"
      },
      "outputs": [
        {
          "output_type": "stream",
          "name": "stdout",
          "text": [
            "10\n",
            "8\n",
            "6\n",
            "4\n",
            "2\n",
            "The End\n"
          ]
        }
      ],
      "source": [
        "z = 10\n",
        "\n",
        "while z > 0:\n",
        "    print(z)\n",
        "    z -= 2\n",
        "\n",
        "print(\"The End\")\n"
      ]
    },
    {
      "cell_type": "code",
      "execution_count": 129,
      "metadata": {
        "id": "eOhz8WCmy-7G"
      },
      "outputs": [],
      "source": []
    },
    {
      "cell_type": "code",
      "execution_count": 129,
      "metadata": {
        "id": "POX0jJkJy-7G"
      },
      "outputs": [],
      "source": []
    },
    {
      "cell_type": "markdown",
      "metadata": {
        "heading_collapsed": true,
        "id": "Ga-DxWFuy-7G"
      },
      "source": [
        "#### Ejercicio: Con el ejercicicio anterior imprime el valor de x solo cuando x sea mayor a 20 y cuando no, imprime \"Hello Word\""
      ]
    },
    {
      "cell_type": "code",
      "execution_count": 130,
      "metadata": {
        "id": "V6wEUgOEy-7G"
      },
      "outputs": [],
      "source": [
        "x = 20\n"
      ]
    },
    {
      "cell_type": "code",
      "execution_count": 131,
      "metadata": {
        "id": "SGdJdWwty-7G",
        "colab": {
          "base_uri": "https://localhost:8080/"
        },
        "outputId": "1d7ee218-c892-4fb3-9323-9a4c45d0d24f"
      },
      "outputs": [
        {
          "output_type": "stream",
          "name": "stdout",
          "text": [
            "Hello World\n",
            "Hello World\n",
            "Hello World\n",
            "Hello World\n",
            "Hello World\n",
            "Hello World\n",
            "Hello World\n",
            "Hello World\n",
            "Hello World\n",
            "Hello World\n",
            "The End\n"
          ]
        }
      ],
      "source": [
        "x = 20\n",
        "\n",
        "while x > 0:\n",
        "    if x > 20:\n",
        "        print(x)\n",
        "    else:\n",
        "        print(\"Hello World\")\n",
        "    x -= 2\n",
        "\n",
        "print(\"The End\")\n"
      ]
    },
    {
      "cell_type": "markdown",
      "metadata": {
        "id": "smP0oE_py-7G"
      },
      "source": [
        "#### Comando *break*"
      ]
    },
    {
      "cell_type": "code",
      "execution_count": 132,
      "metadata": {
        "ExecuteTime": {
          "end_time": "2020-02-26T20:15:19.602696Z",
          "start_time": "2020-02-26T20:15:19.598093Z"
        },
        "id": "kwfGRA0Hy-7H",
        "outputId": "70169a92-6922-4a0d-ea57-a40f03a697e3",
        "colab": {
          "base_uri": "https://localhost:8080/"
        }
      },
      "outputs": [
        {
          "output_type": "stream",
          "name": "stdout",
          "text": [
            "1\n",
            "2\n"
          ]
        }
      ],
      "source": [
        "i = 1\n",
        "while i < 6:\n",
        "    print(i)\n",
        "    i = i + 1\n",
        "    print(i)\n",
        "    break"
      ]
    },
    {
      "cell_type": "code",
      "source": [
        "# Inicializamos una variable \"i\" con el valor 0.\n",
        "i = 0\n",
        "\n",
        "# El bucle \"while\" se repetirá mientras el valor de \"i\" sea menor que 6.\n",
        "while i < 6:\n",
        "    # Imprimimos el valor de \"i\".\n",
        "    print(i)\n",
        "\n",
        "    # Verificamos si \"i\" es igual a 4.\n",
        "    if i == 4:\n",
        "        # Si \"i\" es igual a 4, utilizamos la instrucción \"break\" para salir del bucle.\n",
        "        break\n",
        "\n",
        "    # Incrementamos el valor de \"i\" en 1.\n",
        "    i = i + 1\n"
      ],
      "metadata": {
        "colab": {
          "base_uri": "https://localhost:8080/"
        },
        "id": "B_ScXpyhYTBs",
        "outputId": "c12fffe2-9ad1-43eb-ef05-52bffd605b1a"
      },
      "execution_count": 133,
      "outputs": [
        {
          "output_type": "stream",
          "name": "stdout",
          "text": [
            "0\n",
            "1\n",
            "2\n",
            "3\n",
            "4\n"
          ]
        }
      ]
    },
    {
      "cell_type": "markdown",
      "metadata": {
        "id": "tqBpfZyty-7H"
      },
      "source": [
        "#### Comando *continue*"
      ]
    },
    {
      "cell_type": "code",
      "execution_count": 134,
      "metadata": {
        "ExecuteTime": {
          "end_time": "2020-02-08T15:29:10.005702Z",
          "start_time": "2020-02-08T15:29:10.000001Z"
        },
        "id": "eJbpU7_Ay-7H",
        "outputId": "c0161df8-834e-40d4-d27b-e0eb26741013",
        "colab": {
          "base_uri": "https://localhost:8080/"
        }
      },
      "outputs": [
        {
          "output_type": "stream",
          "name": "stdout",
          "text": [
            "1\n",
            "2\n",
            "4\n",
            "5\n",
            "6\n"
          ]
        }
      ],
      "source": [
        "i = 0\n",
        "while i < 6:\n",
        "    i = i + 1\n",
        "    if i == 3:\n",
        "        continue\n",
        "    print(i)"
      ]
    },
    {
      "cell_type": "code",
      "source": [],
      "metadata": {
        "id": "TP7Z6VMBKOD6"
      },
      "execution_count": 134,
      "outputs": []
    },
    {
      "cell_type": "markdown",
      "metadata": {
        "id": "jne-N8ZLy-7H"
      },
      "source": [
        "#### Comando *else*"
      ]
    },
    {
      "cell_type": "code",
      "execution_count": 135,
      "metadata": {
        "ExecuteTime": {
          "end_time": "2020-02-08T15:30:32.495055Z",
          "start_time": "2020-02-08T15:30:32.487871Z"
        },
        "id": "9r5U7hhpy-7H",
        "outputId": "8f542de4-c309-4ef9-da6a-bdfe80f2389a",
        "colab": {
          "base_uri": "https://localhost:8080/"
        }
      },
      "outputs": [
        {
          "output_type": "stream",
          "name": "stdout",
          "text": [
            "1\n",
            "2\n",
            "3\n",
            "4\n",
            "5\n",
            "hello\n"
          ]
        }
      ],
      "source": [
        "i = 1\n",
        "while i < 6:\n",
        "    print(i)\n",
        "    i += 1\n",
        "else:\n",
        "   print('hello')\n",
        "\n"
      ]
    },
    {
      "cell_type": "code",
      "source": [
        "i = 1\n",
        "while i < 6:\n",
        "    print(i)\n",
        "    i += 1\n",
        "    break\n",
        "\n",
        "print('hello')"
      ],
      "metadata": {
        "colab": {
          "base_uri": "https://localhost:8080/"
        },
        "id": "2NMN5ubbKxhX",
        "outputId": "3e4d65f2-dbb9-4fda-e834-7b0aeb06263e"
      },
      "execution_count": 136,
      "outputs": [
        {
          "output_type": "stream",
          "name": "stdout",
          "text": [
            "1\n",
            "hello\n"
          ]
        }
      ]
    },
    {
      "cell_type": "markdown",
      "metadata": {
        "id": "jwpO4MH3y-7I"
      },
      "source": [
        "### Bucles *for()*"
      ]
    },
    {
      "cell_type": "code",
      "execution_count": 137,
      "metadata": {
        "colab": {
          "base_uri": "https://localhost:8080/"
        },
        "id": "ynE_Yqwqy-7I",
        "outputId": "a5977c6a-079f-4485-c9fc-41fe4b4d52eb"
      },
      "outputs": [
        {
          "output_type": "stream",
          "name": "stdout",
          "text": [
            "manzana\n",
            "plátano\n",
            "cerezas\n"
          ]
        }
      ],
      "source": [
        "fruits = [\"manzana\", \"plátano\", \"cerezas\"]\n",
        "#numeros = [1,2,3]\n",
        "for x in fruits:\n",
        "      print(x)"
      ]
    },
    {
      "cell_type": "code",
      "execution_count": 138,
      "metadata": {
        "id": "zQKY4xWfy-7I",
        "outputId": "695aaea7-81a9-489e-9df8-263192c735cc",
        "colab": {
          "base_uri": "https://localhost:8080/"
        }
      },
      "outputs": [
        {
          "output_type": "stream",
          "name": "stdout",
          "text": [
            "una iteracion\n",
            "a\n",
            "una iteracion\n",
            "b\n",
            "una iteracion\n",
            "e\n",
            "una iteracion\n",
            "c\n",
            "una iteracion\n",
            "e\n",
            "una iteracion\n",
            "d\n",
            "una iteracion\n",
            "a\n",
            "una iteracion\n",
            "r\n",
            "una iteracion\n",
            "i\n",
            "una iteracion\n",
            "o\n"
          ]
        }
      ],
      "source": [
        "for x in \"abecedario\":\n",
        "    print(\"una iteracion\")\n",
        "    print (x)"
      ]
    },
    {
      "cell_type": "markdown",
      "metadata": {
        "heading_collapsed": true,
        "id": "z3XqPxdiy-7I"
      },
      "source": [
        "#### Ejercicio: Imprimir usando el comando for los días de la semana, ej: Lunes, Martes... e imprimir si el día es laborable o no."
      ]
    },
    {
      "cell_type": "code",
      "execution_count": 139,
      "metadata": {
        "id": "7H211nRPy-7I"
      },
      "outputs": [],
      "source": [
        "dias_de_la_semana = [\"Lunes\", \"Martes\", \"Miércoles\", \"Jueves\", \"Viernes\", \"Sábado\", \"Domingo\"]"
      ]
    },
    {
      "cell_type": "code",
      "source": [
        "dias_laborables = [\"Laborable\", \"Laborable\", \"Laborable\", \"Laborable\", \"Laborable\", \"No Laborable\", \"No Laborable\"]"
      ],
      "metadata": {
        "id": "6sIyMQfOMjqD"
      },
      "execution_count": 140,
      "outputs": []
    },
    {
      "cell_type": "code",
      "source": [
        "for i in range(len(dias_de_la_semana)):\n",
        "    print(dias_de_la_semana[i] + \" es \" + dias_laborables[i])\n"
      ],
      "metadata": {
        "colab": {
          "base_uri": "https://localhost:8080/"
        },
        "id": "MnPz25TbMjr3",
        "outputId": "aafb8712-231a-4462-bf45-46a0299513fa"
      },
      "execution_count": 141,
      "outputs": [
        {
          "output_type": "stream",
          "name": "stdout",
          "text": [
            "Lunes es Laborable\n",
            "Martes es Laborable\n",
            "Miércoles es Laborable\n",
            "Jueves es Laborable\n",
            "Viernes es Laborable\n",
            "Sábado es No Laborable\n",
            "Domingo es No Laborable\n"
          ]
        }
      ]
    },
    {
      "cell_type": "code",
      "execution_count": 142,
      "metadata": {
        "id": "D2krBvBXy-7I",
        "colab": {
          "base_uri": "https://localhost:8080/"
        },
        "outputId": "e30fccd9-aaa8-449d-8fdc-902897db5c3a"
      },
      "outputs": [
        {
          "output_type": "stream",
          "name": "stdout",
          "text": [
            "Lunes es laborable\n",
            "Martes es laborable\n",
            "Miércoles es laborable\n",
            "Jueves es laborable\n",
            "Viernes es laborable\n",
            "Sábado es laborable\n",
            "Domingo es laborable\n"
          ]
        }
      ],
      "source": [
        "for x in dias_de_la_semana:\n",
        "  if x != 'sabado' and x != 'domingo':\n",
        "    print(f'{x} es laborable')\n",
        "  else:\n",
        "    print(f'{x} no laborable')"
      ]
    },
    {
      "cell_type": "code",
      "execution_count": 142,
      "metadata": {
        "id": "gbmJzCNvPTyQ"
      },
      "outputs": [],
      "source": []
    },
    {
      "cell_type": "markdown",
      "metadata": {
        "id": "rTKypK3QPTyQ"
      },
      "source": [
        "#### Ejercicio: Calcular usando For loops la suma de la siguiente lista:"
      ]
    },
    {
      "cell_type": "code",
      "execution_count": 143,
      "metadata": {
        "id": "OS1wbzprPTyQ"
      },
      "outputs": [],
      "source": [
        "numeros = [2, 5, 1, 8, 10]"
      ]
    },
    {
      "cell_type": "code",
      "execution_count": 144,
      "metadata": {
        "id": "9HQ6TRQxPTyQ",
        "colab": {
          "base_uri": "https://localhost:8080/"
        },
        "outputId": "cfb284df-5df9-4237-cc84-da298beb8f0b"
      },
      "outputs": [
        {
          "output_type": "stream",
          "name": "stdout",
          "text": [
            "La suma de la lista es: 26\n"
          ]
        }
      ],
      "source": [
        "numeros = [2, 5, 1, 8, 10]\n",
        "\n",
        "suma = 0\n",
        "for numero in numeros:\n",
        "    suma += numero\n",
        "\n",
        "print(\"La suma de la lista es:\", suma)\n"
      ]
    },
    {
      "cell_type": "markdown",
      "metadata": {
        "heading_collapsed": true,
        "id": "SN2DkEaAy-7J"
      },
      "source": [
        "#### For Loops en diccionarios"
      ]
    },
    {
      "cell_type": "code",
      "execution_count": 145,
      "metadata": {
        "ExecuteTime": {
          "end_time": "2021-01-09T17:59:05.885564Z",
          "start_time": "2021-01-09T17:59:05.878570Z"
        },
        "hidden": true,
        "id": "C4HAvvKmy-7K",
        "outputId": "45efec5a-c0d8-408e-8d56-c9c2ec8b8bfa",
        "colab": {
          "base_uri": "https://localhost:8080/"
        }
      },
      "outputs": [
        {
          "output_type": "stream",
          "name": "stdout",
          "text": [
            "a 1\n",
            "b 2\n",
            "c 3\n"
          ]
        }
      ],
      "source": [
        "x = {\"a\":1,\"b\":2,\"c\":3}\n",
        "\n",
        "for i in x:\n",
        "    print(i, x[i])"
      ]
    },
    {
      "cell_type": "markdown",
      "metadata": {
        "id": "3SSL0uz-y-7K"
      },
      "source": [
        "#### Comando *break*"
      ]
    },
    {
      "cell_type": "code",
      "execution_count": 146,
      "metadata": {
        "ExecuteTime": {
          "end_time": "2021-01-09T18:10:53.880835Z",
          "start_time": "2021-01-09T18:10:53.874819Z"
        },
        "id": "AIErMuyZy-7K",
        "outputId": "3d9f4ed3-2ceb-43f4-9136-b70bfe64309f",
        "colab": {
          "base_uri": "https://localhost:8080/"
        }
      },
      "outputs": [
        {
          "output_type": "stream",
          "name": "stdout",
          "text": [
            "manzana\n",
            "plátano\n",
            "stop!\n"
          ]
        }
      ],
      "source": [
        "#Acaba el bucle cuando llegues al elemento 'plátano'\n",
        "fruits = [\"manzana\", \"plátano\", \"cerezas\"]\n",
        "for x in fruits:\n",
        "    print(x)\n",
        "    if x == \"plátano\":\n",
        "        print(\"stop!\")\n",
        "        break"
      ]
    },
    {
      "cell_type": "code",
      "execution_count": 147,
      "metadata": {
        "ExecuteTime": {
          "end_time": "2021-01-30T19:44:54.095561Z",
          "start_time": "2021-01-30T19:44:54.083045Z"
        },
        "id": "4fQG71KDy-7K",
        "outputId": "dbcdfd1b-ebf4-4e46-df9b-f7d26a66ef74",
        "colab": {
          "base_uri": "https://localhost:8080/"
        }
      },
      "outputs": [
        {
          "output_type": "stream",
          "name": "stdout",
          "text": [
            "manzana\n"
          ]
        }
      ],
      "source": [
        "#sal del bucle cuando llegues a 'plátano' pero no imprimas tal elemento\n",
        "fruits = [\"manzana\", \"plátano\", \"cerezas\"]\n",
        "\n",
        "for x in fruits:\n",
        "    if x == 'plátano':\n",
        "        break\n",
        "    else:\n",
        "        print(x)\n",
        "\n"
      ]
    },
    {
      "cell_type": "markdown",
      "metadata": {
        "ExecuteTime": {
          "end_time": "2020-02-26T20:31:22.640429Z",
          "start_time": "2020-02-26T20:31:22.635619Z"
        },
        "heading_collapsed": true,
        "id": "rCLlmZxXy-7L"
      },
      "source": [
        "#### Ejercicio: itera sobre la palabra Hola y para cada letra escribe su valor. Si el valor es igual a \"o\" para el bucle e imprime 'fin'"
      ]
    },
    {
      "cell_type": "code",
      "execution_count": 148,
      "metadata": {
        "id": "gsm7xSpmy-7L",
        "colab": {
          "base_uri": "https://localhost:8080/"
        },
        "outputId": "5ce5be80-de1c-4249-a72d-95d89b65c634"
      },
      "outputs": [
        {
          "output_type": "stream",
          "name": "stdout",
          "text": [
            "fin\n"
          ]
        }
      ],
      "source": [
        "palabra = \"Hola\"\n",
        "\n",
        "for letra in palabra:\n",
        "    if letra == \"o\":\n",
        "        print(\"fin\")\n",
        "\n"
      ]
    },
    {
      "cell_type": "code",
      "execution_count": 149,
      "metadata": {
        "id": "r_Ej4uzGy-7L",
        "colab": {
          "base_uri": "https://localhost:8080/"
        },
        "outputId": "4485560f-578a-4f69-fc00-cc2c9afe97ca"
      },
      "outputs": [
        {
          "output_type": "stream",
          "name": "stdout",
          "text": [
            "h\n",
            "o\n",
            "l\n",
            "a\n"
          ]
        }
      ],
      "source": [
        "for x in \"hola\":\n",
        "    print(x)\n",
        "    if x == \"0\":\n",
        "      print('fin')\n",
        "      break"
      ]
    },
    {
      "cell_type": "code",
      "execution_count": 149,
      "metadata": {
        "id": "OJ4SVii5y-7L"
      },
      "outputs": [],
      "source": []
    },
    {
      "cell_type": "markdown",
      "metadata": {
        "id": "Z0UIrolhy-7O"
      },
      "source": [
        "#### Comando *continue*"
      ]
    },
    {
      "cell_type": "code",
      "execution_count": 150,
      "metadata": {
        "ExecuteTime": {
          "end_time": "2020-02-08T15:45:26.122072Z",
          "start_time": "2020-02-08T15:45:26.114585Z"
        },
        "id": "ZykC1cX7y-7O",
        "outputId": "0b79b36e-d129-4768-8178-2826380f4138",
        "colab": {
          "base_uri": "https://localhost:8080/"
        }
      },
      "outputs": [
        {
          "output_type": "stream",
          "name": "stdout",
          "text": [
            "manzana\n",
            "cerezas\n",
            "pera\n"
          ]
        }
      ],
      "source": [
        "#no imprimas plátano pero imprime el resto\n",
        "fruits = [\"manzana\", \"plátano\", \"cerezas\", 'pera']\n",
        "for x in fruits:\n",
        "    if x == 'plátano':\n",
        "        continue\n",
        "    print(x)"
      ]
    },
    {
      "cell_type": "markdown",
      "metadata": {
        "id": "XeeSA43oy-7O"
      },
      "source": [
        "#### Función *range()*"
      ]
    },
    {
      "cell_type": "code",
      "execution_count": 151,
      "metadata": {
        "id": "_TEnDgWky-7O",
        "outputId": "b93cf63a-ef7a-4011-bb35-ad5ed055fa1a",
        "colab": {
          "base_uri": "https://localhost:8080/"
        }
      },
      "outputs": [
        {
          "output_type": "stream",
          "name": "stdout",
          "text": [
            "10\n",
            "12\n",
            "14\n",
            "16\n",
            "18\n"
          ]
        }
      ],
      "source": [
        "for i in range(10, 20, 2):\n",
        "    print(i)"
      ]
    },
    {
      "cell_type": "code",
      "source": [
        "for i in range(10):\n",
        " print(i)"
      ],
      "metadata": {
        "colab": {
          "base_uri": "https://localhost:8080/"
        },
        "id": "0N9-DDxjUSg-",
        "outputId": "75f6c761-c4fc-4ef2-f633-442552947c26"
      },
      "execution_count": 152,
      "outputs": [
        {
          "output_type": "stream",
          "name": "stdout",
          "text": [
            "0\n",
            "1\n",
            "2\n",
            "3\n",
            "4\n",
            "5\n",
            "6\n",
            "7\n",
            "8\n",
            "9\n"
          ]
        }
      ]
    },
    {
      "cell_type": "code",
      "source": [
        "for i in range(10,2,2):\n",
        " print(i)"
      ],
      "metadata": {
        "id": "4jLwhZ97Uom-"
      },
      "execution_count": 153,
      "outputs": []
    },
    {
      "cell_type": "markdown",
      "metadata": {
        "id": "7qCuMvJ2y-7P"
      },
      "source": [
        "#### Else en un bucle"
      ]
    },
    {
      "cell_type": "code",
      "execution_count": 154,
      "metadata": {
        "ExecuteTime": {
          "end_time": "2020-02-08T15:59:42.435395Z",
          "start_time": "2020-02-08T15:59:42.428987Z"
        },
        "id": "Ys3gc4qMy-7P",
        "outputId": "68f970c5-49db-4d4c-d82d-3e197ced47c9",
        "colab": {
          "base_uri": "https://localhost:8080/"
        }
      },
      "outputs": [
        {
          "output_type": "stream",
          "name": "stdout",
          "text": [
            "0\n",
            "1\n",
            "2\n",
            "3\n",
            "4\n",
            "5\n",
            "El bucle ha finalizado!\n"
          ]
        }
      ],
      "source": [
        "#imprime un mensaje cuando finalice el bucle\n",
        "for x in range(6):\n",
        "    print(x)\n",
        "else:\n",
        "    print(\"El bucle ha finalizado!\")"
      ]
    },
    {
      "cell_type": "markdown",
      "metadata": {
        "id": "4qfy02nry-7Q"
      },
      "source": [
        "#### Bucles anidados"
      ]
    },
    {
      "cell_type": "code",
      "execution_count": 155,
      "metadata": {
        "ExecuteTime": {
          "end_time": "2021-01-30T19:50:33.767268Z",
          "start_time": "2021-01-30T19:50:33.763272Z"
        },
        "id": "j-Jg7FXLy-7Q",
        "outputId": "781963cf-c180-4808-f87e-cc04b0556ec3",
        "colab": {
          "base_uri": "https://localhost:8080/"
        }
      },
      "outputs": [
        {
          "output_type": "stream",
          "name": "stdout",
          "text": [
            "manzana roja\n",
            "mandarina roja\n",
            "fresa roja\n",
            "manzana grande\n",
            "mandarina grande\n",
            "fresa grande\n",
            "manzana sabrosa\n",
            "mandarina sabrosa\n",
            "fresa sabrosa\n"
          ]
        }
      ],
      "source": [
        "adjetivos = [\"roja\", \"grande\", \"sabrosa\"]\n",
        "frutas = [\"manzana\", \"mandarina\", \"fresa\"]\n",
        "\n",
        "for x in adjetivos:\n",
        "    for y in frutas:\n",
        "        print(y,x)\n",
        ""
      ]
    },
    {
      "cell_type": "markdown",
      "metadata": {
        "id": "LEn7usL5y-7Q",
        "solution2": "hidden",
        "solution2_first": true
      },
      "source": [
        "#### Ejercicio: Escribe un código que imprima todos los números del 0 al 6 excepto el 3 y el 6 usando el comando continue\n"
      ]
    },
    {
      "cell_type": "code",
      "execution_count": 156,
      "metadata": {
        "id": "P-Tym5R9y-7Q",
        "colab": {
          "base_uri": "https://localhost:8080/"
        },
        "outputId": "d1be8656-d8ab-466f-c18e-f08bc11eda00"
      },
      "outputs": [
        {
          "output_type": "stream",
          "name": "stdout",
          "text": [
            "0\n",
            "1\n",
            "2\n",
            "4\n",
            "5\n"
          ]
        }
      ],
      "source": [
        "for i in range(7):\n",
        "    if i == 3 or i == 6:\n",
        "        continue\n",
        "    print(i)\n"
      ]
    },
    {
      "cell_type": "markdown",
      "metadata": {
        "heading_collapsed": true,
        "id": "0lkKnHery-7R"
      },
      "source": [
        "#### Ejercicio: Escribe un código que pida al usuario una palabra e imprima cada letra por separado y para cada letra determine si es una vocal o no."
      ]
    },
    {
      "cell_type": "code",
      "execution_count": 157,
      "metadata": {
        "id": "IXIW56Lyy-7R",
        "colab": {
          "base_uri": "https://localhost:8080/"
        },
        "outputId": "ead5aa57-04f9-41a2-ffc8-c3f847759459"
      },
      "outputs": [
        {
          "output_type": "stream",
          "name": "stdout",
          "text": [
            "Introduce una palabra: chinese\n",
            "c no es una vocal\n",
            "h no es una vocal\n",
            "i es una vocal\n",
            "n no es una vocal\n",
            "e es una vocal\n",
            "s no es una vocal\n",
            "e es una vocal\n"
          ]
        }
      ],
      "source": [
        "palabra = input(\"Introduce una palabra: \")\n",
        "\n",
        "for letra in palabra:\n",
        "    if letra in \"aeiouAEIOU\":\n",
        "        print(letra, \"es una vocal\")\n",
        "    else:\n",
        "        print(letra, \"no es una vocal\")\n"
      ]
    },
    {
      "cell_type": "code",
      "execution_count": 158,
      "metadata": {
        "id": "vMcSo7xTy-7R",
        "colab": {
          "base_uri": "https://localhost:8080/"
        },
        "outputId": "9a22b640-bd18-426f-f4a0-a09851e46f80"
      },
      "outputs": [
        {
          "output_type": "stream",
          "name": "stdout",
          "text": [
            "escribe una palabranone\n",
            "n es consonate\n",
            "o es vocal\n",
            "n es consonate\n",
            "e es vocal\n"
          ]
        }
      ],
      "source": [
        "for i in input('escribe una palabra'):\n",
        "  if i in 'aeiou':\n",
        "    print(i, 'es vocal')\n",
        "  else:\n",
        "    print(i,'es consonate')"
      ]
    },
    {
      "cell_type": "markdown",
      "metadata": {
        "id": "dp_thr75y-7R"
      },
      "source": [
        "# Funciones en Python\n",
        "\n",
        "### Creación de una función"
      ]
    },
    {
      "cell_type": "code",
      "execution_count": 159,
      "metadata": {
        "ExecuteTime": {
          "end_time": "2020-02-08T16:09:09.280827Z",
          "start_time": "2020-02-08T16:09:09.274840Z"
        },
        "id": "zU81C0FFy-7S"
      },
      "outputs": [],
      "source": [
        "def mi_funcion():\n",
        "    print(f\"Imprimo este mensaje al llamar la función\")"
      ]
    },
    {
      "cell_type": "code",
      "execution_count": 160,
      "metadata": {
        "id": "kZbz76ATPTyU",
        "colab": {
          "base_uri": "https://localhost:8080/"
        },
        "outputId": "ad7005b3-02b2-4dcb-9dfb-606059e9c720"
      },
      "outputs": [
        {
          "output_type": "stream",
          "name": "stdout",
          "text": [
            "Imprimo este mensaje al llamar la función\n"
          ]
        }
      ],
      "source": [
        "mi_funcion()"
      ]
    },
    {
      "cell_type": "markdown",
      "metadata": {
        "id": "y155-lt2y-7T"
      },
      "source": [
        "### Parámetros o argumentos de una función\n",
        "\n",
        "- **Parámetro** es la variable que pasamos a la función como input\n",
        "- **Argumento** es el valor que toma la variable, y que coge la función\n"
      ]
    },
    {
      "cell_type": "code",
      "execution_count": 161,
      "metadata": {
        "ExecuteTime": {
          "end_time": "2020-02-28T08:49:16.063370Z",
          "start_time": "2020-02-28T08:49:16.059594Z"
        },
        "id": "7S6tNhxry-7T"
      },
      "outputs": [],
      "source": [
        "def estudiantes(nombre):\n",
        "    print(f\"Nombre del estudiante: \", nombre)\n",
        "\n"
      ]
    },
    {
      "cell_type": "code",
      "execution_count": 162,
      "metadata": {
        "id": "Ggw5tLy1PTyU",
        "colab": {
          "base_uri": "https://localhost:8080/"
        },
        "outputId": "813e4061-0bb5-437d-de70-abc02761ce0b"
      },
      "outputs": [
        {
          "output_type": "stream",
          "name": "stdout",
          "text": [
            "Nombre del estudiante:  charles\n"
          ]
        }
      ],
      "source": [
        "estudiantes(\"charles\")"
      ]
    },
    {
      "cell_type": "markdown",
      "metadata": {
        "id": "azBd5Msmy-7T"
      },
      "source": [
        "#### EJERCICIO:  Modificar la función anteriormente definida para que me imprima mi nombre y mi edad, siendo nombre y edad los 2 inputs de la función\n"
      ]
    },
    {
      "cell_type": "code",
      "execution_count": 163,
      "metadata": {
        "id": "2AvLTlMWy-7U"
      },
      "outputs": [],
      "source": [
        "def estudiantes(nombre, edad):\n",
        "    print(f\"Nombre del estudiante: {nombre}\")\n",
        "    print(f\"Edad del estudiante: {edad}\")\n"
      ]
    },
    {
      "cell_type": "code",
      "execution_count": 164,
      "metadata": {
        "id": "QbwY-U8ey-7U",
        "colab": {
          "base_uri": "https://localhost:8080/"
        },
        "outputId": "5a1faf42-8eac-4f2d-ffab-b04de2d30cbd"
      },
      "outputs": [
        {
          "output_type": "stream",
          "name": "stdout",
          "text": [
            "Nombre del estudiante: carlos\n",
            "Edad del estudiante: 37\n"
          ]
        }
      ],
      "source": [
        "estudiantes('carlos', 37)"
      ]
    },
    {
      "cell_type": "code",
      "execution_count": 164,
      "metadata": {
        "id": "KFEPXhR4y-7U"
      },
      "outputs": [],
      "source": []
    },
    {
      "cell_type": "markdown",
      "metadata": {
        "id": "CKdJgm3Hy-7U"
      },
      "source": [
        "#### Parámetro por omisión"
      ]
    },
    {
      "cell_type": "code",
      "execution_count": 165,
      "metadata": {
        "ExecuteTime": {
          "end_time": "2020-02-08T16:26:52.989228Z",
          "start_time": "2020-02-08T16:26:52.983963Z"
        },
        "id": "k7grYI1vy-7U",
        "outputId": "df81d866-59be-4814-9cb2-a4bbf6861210",
        "colab": {
          "base_uri": "https://localhost:8080/"
        }
      },
      "outputs": [
        {
          "output_type": "stream",
          "name": "stdout",
          "text": [
            "Soy de España\n",
            "Soy de Suecia\n",
            "Soy de India\n"
          ]
        }
      ],
      "source": [
        "def paises(pais_default='España'):\n",
        "    print(\"Soy de \" + pais_default)\n",
        "\n",
        "paises()\n",
        "paises(\"Suecia\")\n",
        "paises(\"India\")"
      ]
    },
    {
      "cell_type": "code",
      "execution_count": 166,
      "metadata": {
        "id": "wGMp_2SQPTyV",
        "colab": {
          "base_uri": "https://localhost:8080/"
        },
        "outputId": "9d3dd9f3-3c4c-4ac3-c064-c00f461562d4"
      },
      "outputs": [
        {
          "output_type": "stream",
          "name": "stdout",
          "text": [
            "Soy de España\n",
            "Soy de Suecia\n",
            "Soy de India\n"
          ]
        }
      ],
      "source": [
        "def paises(pais_default='España'):\n",
        "    print(\"Soy de \" + pais_default)\n",
        "\n",
        "paises()\n",
        "paises(\"Suecia\")\n",
        "paises(\"India\")"
      ]
    },
    {
      "cell_type": "code",
      "source": [
        "paises(\"suecia\")"
      ],
      "metadata": {
        "colab": {
          "base_uri": "https://localhost:8080/"
        },
        "id": "lxqUPdlVgQZU",
        "outputId": "6d90702c-f428-48b3-e572-c2d8bdf0aa32"
      },
      "execution_count": 167,
      "outputs": [
        {
          "output_type": "stream",
          "name": "stdout",
          "text": [
            "Soy de suecia\n"
          ]
        }
      ]
    },
    {
      "cell_type": "markdown",
      "metadata": {
        "id": "OQKx2hZEy-7V"
      },
      "source": [
        "### Pasar una lista como Argumento en una función"
      ]
    },
    {
      "cell_type": "code",
      "execution_count": 168,
      "metadata": {
        "ExecuteTime": {
          "end_time": "2021-01-09T18:56:14.806051Z",
          "start_time": "2021-01-09T18:56:14.802058Z"
        },
        "id": "Ec--yI9my-7V"
      },
      "outputs": [],
      "source": [
        "hola = [\"manzana\", \"plátano\", \"mandarina\"]\n",
        "def mi_funcion(hola):\n",
        "    for x in hola:\n",
        "        print(x)"
      ]
    },
    {
      "cell_type": "code",
      "execution_count": 169,
      "metadata": {
        "ExecuteTime": {
          "end_time": "2021-01-09T18:56:15.194684Z",
          "start_time": "2021-01-09T18:56:15.175675Z"
        },
        "id": "3mdn-UDHy-7V",
        "outputId": "7f3a50f4-51b1-41ba-9e35-2f0fe16fef20",
        "colab": {
          "base_uri": "https://localhost:8080/"
        }
      },
      "outputs": [
        {
          "output_type": "stream",
          "name": "stdout",
          "text": [
            "manzana\n",
            "plátano\n",
            "mandarina\n"
          ]
        }
      ],
      "source": [
        "mi_funcion([\"manzana\", \"plátano\", \"mandarina\"])"
      ]
    },
    {
      "cell_type": "code",
      "execution_count": 169,
      "metadata": {
        "id": "qbWr0dedPTyW"
      },
      "outputs": [],
      "source": []
    },
    {
      "cell_type": "markdown",
      "metadata": {
        "id": "Fim-6gEQy-7V"
      },
      "source": [
        "### Devolver valores"
      ]
    },
    {
      "cell_type": "code",
      "execution_count": 170,
      "metadata": {
        "ExecuteTime": {
          "end_time": "2021-01-09T18:56:33.880633Z",
          "start_time": "2021-01-09T18:56:33.863630Z"
        },
        "id": "QqtyIJ7gy-7V"
      },
      "outputs": [],
      "source": [
        "def mi_calculadora(x):\n",
        "    return 5 * x\n",
        "\n",
        "y = mi_calculadora(3)"
      ]
    },
    {
      "cell_type": "code",
      "execution_count": 171,
      "metadata": {
        "id": "WbFhC-svPTyW",
        "colab": {
          "base_uri": "https://localhost:8080/"
        },
        "outputId": "529ca76d-3580-4312-d108-b053daea2eb2"
      },
      "outputs": [
        {
          "output_type": "execute_result",
          "data": {
            "text/plain": [
              "30"
            ]
          },
          "metadata": {},
          "execution_count": 171
        }
      ],
      "source": [
        "mi_calculadora(6)"
      ]
    },
    {
      "cell_type": "markdown",
      "metadata": {
        "heading_collapsed": true,
        "id": "pWBIZcBEy-7W"
      },
      "source": [
        "#### Ejercicio: Define una función que calcule el área de un rectángulo o un triángulo. La función debe tener 3 parámetros, uno donde se marque si es triángulo ó rectángulo, otros parámetro con la altura y base. Y por supuesto, el valor que devuelva se debe poder utilizar para ser guardado en otra variable"
      ]
    },
    {
      "cell_type": "code",
      "execution_count": 172,
      "metadata": {
        "id": "UtrCqVAOy-7W"
      },
      "outputs": [],
      "source": [
        "def calcular_area(figura, base, altura):\n",
        "    if figura == 'triangulo':\n",
        "        area = (base * altura) / 2\n",
        "    elif figura == 'rectangulo':\n",
        "        area = base * altura\n",
        "    else:\n",
        "        print('Figura no válida')\n",
        "        return None\n",
        "    return area\n"
      ]
    },
    {
      "cell_type": "code",
      "execution_count": 173,
      "metadata": {
        "id": "-dUMlR9Dy-7W",
        "colab": {
          "base_uri": "https://localhost:8080/"
        },
        "outputId": "d7f83355-b4fa-4a5d-eecb-34c8071d4716"
      },
      "outputs": [
        {
          "output_type": "execute_result",
          "data": {
            "text/plain": [
              "16"
            ]
          },
          "metadata": {},
          "execution_count": 173
        }
      ],
      "source": [
        "calcular_area(\"rectangulo\",2,8)"
      ]
    },
    {
      "cell_type": "code",
      "execution_count": 174,
      "metadata": {
        "id": "W-cjbl7iy-7W",
        "colab": {
          "base_uri": "https://localhost:8080/"
        },
        "outputId": "f9d300ab-e356-44e7-dd36-5f02866d45e6"
      },
      "outputs": [
        {
          "output_type": "execute_result",
          "data": {
            "text/plain": [
              "20.0"
            ]
          },
          "metadata": {},
          "execution_count": 174
        }
      ],
      "source": [
        "calcular_area('triangulo', 5, 8)"
      ]
    },
    {
      "cell_type": "markdown",
      "metadata": {
        "heading_collapsed": true,
        "id": "yG-MAfHsy-7X"
      },
      "source": [
        "##### Ejercicio: Escribir una función que reciba una muestra de números en una lista y devuelva su media."
      ]
    },
    {
      "cell_type": "code",
      "source": [
        "\n",
        "# Lista de números de ejemplo\n",
        "numerox = [3, 4, 7, 8, 10]\n",
        "\n",
        "# Calculamos la media de la lista utilizando la función\n",
        "media = calcular_media(numerox)"
      ],
      "metadata": {
        "id": "CPE5iXcWSPIa"
      },
      "execution_count": 175,
      "outputs": []
    },
    {
      "cell_type": "code",
      "source": [
        "def calcular_media(lista):\n",
        "    # Verificamos que la lista no esté vacía para evitar una división por cero.\n",
        "    if not lista:\n",
        "        return None\n",
        "\n",
        "    # Calculamos la suma de todos los números en la lista.\n",
        "    suma = sum(lista)\n",
        "\n",
        "    # Calculamos la cantidad de elementos en la lista.\n",
        "    cantidad_elementos = len(lista)\n",
        "\n",
        "    # Calculamos la media dividiendo la suma entre la cantidad de elementos.\n",
        "    media = suma / cantidad_elementos\n",
        "    return media\n"
      ],
      "metadata": {
        "id": "KNM3n04-Sa0x"
      },
      "execution_count": 176,
      "outputs": []
    },
    {
      "cell_type": "code",
      "source": [
        "print('La media de la lista es:', media)"
      ],
      "metadata": {
        "colab": {
          "base_uri": "https://localhost:8080/"
        },
        "id": "eZF9IiX_SXAX",
        "outputId": "31a552ea-2fac-43a3-e633-fd2e48e7bb44"
      },
      "execution_count": 177,
      "outputs": [
        {
          "output_type": "stream",
          "name": "stdout",
          "text": [
            "La media de la lista es: 6.4\n"
          ]
        }
      ]
    },
    {
      "cell_type": "code",
      "source": [
        "def media(sample):\n",
        "  return sum (sample)/ len(sample)"
      ],
      "metadata": {
        "id": "mgPntETulPag"
      },
      "execution_count": 178,
      "outputs": []
    },
    {
      "cell_type": "code",
      "source": [
        "media([1,5,5])"
      ],
      "metadata": {
        "colab": {
          "base_uri": "https://localhost:8080/"
        },
        "id": "dE-wseQjlPsf",
        "outputId": "403bf258-6109-404b-f24a-09c5fcb738d2"
      },
      "execution_count": 179,
      "outputs": [
        {
          "output_type": "execute_result",
          "data": {
            "text/plain": [
              "3.6666666666666665"
            ]
          },
          "metadata": {},
          "execution_count": 179
        }
      ]
    },
    {
      "cell_type": "code",
      "source": [
        "x = [1,2,3,4]\n",
        "media(x)"
      ],
      "metadata": {
        "colab": {
          "base_uri": "https://localhost:8080/"
        },
        "id": "unQYC_pQnXMi",
        "outputId": "aaf8c2a0-0b5a-4ad9-e3f2-98a42717fe80"
      },
      "execution_count": 180,
      "outputs": [
        {
          "output_type": "execute_result",
          "data": {
            "text/plain": [
              "2.5"
            ]
          },
          "metadata": {},
          "execution_count": 180
        }
      ]
    },
    {
      "cell_type": "markdown",
      "metadata": {
        "id": "STQzozUwy-7Y"
      },
      "source": [
        "##### Escribir un programa que reciba una cadena de caracteres y devuelva un diccionario con cada letra que contiene y su frecuencia."
      ]
    },
    {
      "cell_type": "code",
      "execution_count": 181,
      "metadata": {
        "id": "vHZeq9lJy-7Y"
      },
      "outputs": [],
      "source": [
        "def contar_letras(cadena):\n",
        "    frecuencias = {}\n",
        "    for letra in cadena:\n",
        "        if letra in frecuencias:\n",
        "            frecuencias[letra] += 1\n",
        "        else:\n",
        "            frecuencias[letra] = 1\n",
        "    return frecuencias\n"
      ]
    },
    {
      "cell_type": "code",
      "source": [
        "contar_letras('gsdjgdjdgjdfg')"
      ],
      "metadata": {
        "colab": {
          "base_uri": "https://localhost:8080/"
        },
        "id": "qVhOHoDOqGpF",
        "outputId": "7b157732-d22d-40d7-c26e-ab5e38f1c663"
      },
      "execution_count": 182,
      "outputs": [
        {
          "output_type": "execute_result",
          "data": {
            "text/plain": [
              "{'g': 4, 's': 1, 'd': 4, 'j': 3, 'f': 1}"
            ]
          },
          "metadata": {},
          "execution_count": 182
        }
      ]
    },
    {
      "cell_type": "markdown",
      "metadata": {
        "id": "CaV66PMmy-7Y"
      },
      "source": [
        "##### Ejercicio: Definir una función que tome dos listas y devuelva True si tienen al menos 1 miembro en común o False de lo contrario. Escribir la función usando bucles anidados."
      ]
    },
    {
      "cell_type": "code",
      "execution_count": 183,
      "metadata": {
        "id": "vcN1l3tCy-7Y",
        "colab": {
          "base_uri": "https://localhost:8080/"
        },
        "outputId": "2043f0cc-ecc7-4d96-873d-d680c77cf050"
      },
      "outputs": [
        {
          "output_type": "stream",
          "name": "stdout",
          "text": [
            "True\n",
            "False\n"
          ]
        }
      ],
      "source": [
        "def tienen_miembro_en_comun(lista1, lista2):\n",
        "    # Recorremos la primera lista con un bucle for.\n",
        "    for elemento_lista1 in lista1:\n",
        "        # Recorremos la segunda lista con otro bucle for.\n",
        "        for elemento_lista2 in lista2:\n",
        "            # Comparamos si los elementos son iguales.\n",
        "            if elemento_lista1 == elemento_lista2:\n",
        "                # Si encontramos una coincidencia, devolvemos True.\n",
        "                return True\n",
        "\n",
        "    # Si terminamos de recorrer ambas listas sin encontrar coincidencias, devolvemos False.\n",
        "    return False\n",
        "\n",
        "# Ejemplos de listas\n",
        "lista_a = [1, 2, 3, 4, 5]\n",
        "lista_b = [5, 6, 7, 8, 9]\n",
        "lista_c = [10, 11, 12, 13]\n",
        "\n",
        "# Comprobamos si las listas tienen al menos un miembro en común utilizando la función\n",
        "print(tienen_miembro_en_comun(lista_a, lista_b))  # Debería imprimir True\n",
        "print(tienen_miembro_en_comun(lista_a, lista_c))  # Debería imprimir False\n"
      ]
    },
    {
      "cell_type": "code",
      "execution_count": 184,
      "metadata": {
        "id": "Yygkd2Cwy-7Z"
      },
      "outputs": [],
      "source": [
        "# Ejemplos de listas\n",
        "lista_d = [1, 2, 8, 4, 5]\n",
        "lista_e = [30, 6, 3, 10, 9]\n",
        "lista_f = [10, 11, 10, 13]"
      ]
    },
    {
      "cell_type": "code",
      "execution_count": 185,
      "metadata": {
        "id": "Lnqe61jNy-7Z"
      },
      "outputs": [],
      "source": [
        "def tienen_miembro_en_comun(lista1, lista2):\n",
        "    # Recorremos la primera lista con un bucle for.\n",
        "    for elemento_lista1 in lista1:\n",
        "        # Recorremos la segunda lista con otro bucle for.\n",
        "        for elemento_lista2 in lista2:\n",
        "            # Comparamos si los elementos son iguales.\n",
        "            if elemento_lista1 == elemento_lista2:\n",
        "                # Si encontramos una coincidencia, devolvemos True.\n",
        "                return True\n",
        "\n",
        "    # Si terminamos de recorrer ambas listas sin encontrar coincidencias, devolvemos False.\n",
        "    return False"
      ]
    },
    {
      "cell_type": "code",
      "source": [
        "# Comprobamos si las listas tienen al menos un miembro en común utilizando la función\n",
        "print(tienen_miembro_en_comun(lista_d, lista_e))  # Debería imprimir True\n",
        "print(tienen_miembro_en_comun(lista_d, lista_f))  # Debería imprimir False"
      ],
      "metadata": {
        "colab": {
          "base_uri": "https://localhost:8080/"
        },
        "id": "cGMKLRknU7vw",
        "outputId": "50390ca4-cc0a-4ba0-e5d4-5ecc7a7ab268"
      },
      "execution_count": 186,
      "outputs": [
        {
          "output_type": "stream",
          "name": "stdout",
          "text": [
            "False\n",
            "False\n"
          ]
        }
      ]
    },
    {
      "cell_type": "markdown",
      "metadata": {
        "id": "cYWLmFryy-7Z"
      },
      "source": [
        "##### Ejercicio: Crear una función llamada “Login”, que recibe un nombre de usuario y una contraseña y te devuelve Verdadero si el nombre de usuario es “usuario1” y la contraseña es “asdasd”. Además recibe el número de intentos de login como un parámetro más y si no se ha podido hacer login incremente este valor.\n",
        "##### Crear un programa principal donde se pida un nombre de usuario y una contraseña y se intente hacer login, solamente tenemos tres oportunidades para intentarlo."
      ]
    },
    {
      "cell_type": "code",
      "execution_count": 187,
      "metadata": {
        "id": "4pd0_UTRy-7a",
        "colab": {
          "base_uri": "https://localhost:8080/"
        },
        "outputId": "dd007604-6735-47f5-e598-8f6453f0e28c"
      },
      "outputs": [
        {
          "output_type": "stream",
          "name": "stdout",
          "text": [
            "Ingrese su nombre de usuario: ddd\n",
            "Ingrese su contraseña: dd\n",
            "Nombre de usuario o contraseña incorrectos. Intente nuevamente.\n",
            "Ingrese su nombre de usuario: dd\n",
            "Ingrese su contraseña: dd\n",
            "Nombre de usuario o contraseña incorrectos. Intente nuevamente.\n",
            "Ingrese su nombre de usuario: dd\n",
            "Ingrese su contraseña: dd\n",
            "Nombre de usuario o contraseña incorrectos. Intente nuevamente.\n",
            "Ha excedido el número máximo de intentos permitidos.\n"
          ]
        }
      ],
      "source": [
        "def login(nombre_usuario, contrasena, intentos):\n",
        "    # Nombre de usuario y contraseña correctos\n",
        "    usuario_correcto = \"usuario1\"\n",
        "    contrasena_correcta = \"asdasd\"\n",
        "\n",
        "    if nombre_usuario == usuario_correcto and contrasena == contrasena_correcta:\n",
        "        return True, intentos\n",
        "    else:\n",
        "        # Incrementamos el contador de intentos fallidos\n",
        "        intentos += 1\n",
        "        return False, intentos\n",
        "\n",
        "\n",
        "def main():\n",
        "    intentos = 0\n",
        "    max_intentos = 3\n",
        "\n",
        "    while intentos < max_intentos:\n",
        "        nombre_usuario = input(\"Ingrese su nombre de usuario: \")\n",
        "        contrasena = input(\"Ingrese su contraseña: \")\n",
        "\n",
        "        resultado, intentos = login(nombre_usuario, contrasena, intentos)\n",
        "\n",
        "        if resultado:\n",
        "            print(\"¡Login exitoso!\")\n",
        "            break\n",
        "        else:\n",
        "            print(\"Nombre de usuario o contraseña incorrectos. Intente nuevamente.\")\n",
        "\n",
        "    if intentos >= max_intentos:\n",
        "        print(\"Ha excedido el número máximo de intentos permitidos.\")\n",
        "\n",
        "if __name__ == \"__main__\":\n",
        "    main()\n"
      ]
    },
    {
      "cell_type": "code",
      "execution_count": 188,
      "metadata": {
        "id": "8RVNAJxcPTyY",
        "colab": {
          "base_uri": "https://localhost:8080/"
        },
        "outputId": "52b6e24c-985e-4975-c375-9d109b28afdc"
      },
      "outputs": [
        {
          "output_type": "stream",
          "name": "stdout",
          "text": [
            "Ingrese su nombre de usuario: d\n",
            "Ingrese su contraseña: d\n",
            "Nombre de usuario o contraseña incorrectos. Intente nuevamente.\n",
            "Ingrese su nombre de usuario: \n",
            "Ingrese su contraseña: usuario1\n",
            "Nombre de usuario o contraseña incorrectos. Intente nuevamente.\n",
            "Ingrese su nombre de usuario: usuario1\n",
            "Ingrese su contraseña: asdasd\n",
            "¡Login exitoso!\n"
          ]
        }
      ],
      "source": [
        "def login(nombre_usuario, contrasena, intentos):\n",
        "    # Nombre de usuario y contraseña correctos\n",
        "    usuario_correcto = \"usuario1\"\n",
        "    contrasena_correcta = \"asdasd\"\n",
        "    \"\n",
        "\n",
        "    if nombre_usuario == usuario_correcto and contrasena == contrasena_correcta:\n",
        "        return True, intentos\n",
        "    else:\n",
        "        # Incrementamos el contador de intentos fallidos\n",
        "        intentos += 1\n",
        "        return False, intentos\n",
        "\n",
        "\n",
        "def main():\n",
        "    intentos = 0\n",
        "    max_intentos = 3\n",
        "\n",
        "    while intentos < max_intentos:\n",
        "        nombre_usuario = input(\"Ingrese su nombre de usuario: \")\n",
        "        contrasena = input(\"Ingrese su contraseña: \")\n",
        "\n",
        "        resultado, intentos = login(nombre_usuario, contrasena, intentos)\n",
        "\n",
        "        if resultado:\n",
        "            print(\"¡Login exitoso!\")\n",
        "            break\n",
        "        else:\n",
        "            print(\"Nombre de usuario o contraseña incorrectos. Intente nuevamente.\")\n",
        "\n",
        "    if intentos >= max_intentos:\n",
        "        print(\"Ha excedido el número máximo de intentos permitidos.\")\n",
        "\n",
        "if __name__ == \"__main__\":\n",
        "    main()\n"
      ]
    },
    {
      "cell_type": "code",
      "source": [
        "# Definimos la función \"login\" que recibe tres parámetros: nombre_usuario, contrasena e intentos.\n",
        "def login(nombre_usuario, contrasena, intentos):\n",
        "    # Definimos las credenciales correctas de acceso.\n",
        "    usuario_correcto = \"usuario1\"\n",
        "    contrasena_correcta = \"asdasd\"\n",
        "\n",
        "    # Comparamos si el nombre de usuario y la contraseña ingresados coinciden con las credenciales correctas.\n",
        "    if nombre_usuario == usuario_correcto and contrasena == contrasena_correcta:\n",
        "        # Si coinciden, retornamos True y el número de intentos sin cambios.\n",
        "        return True, intentos\n",
        "    else:\n",
        "        # Si no coinciden, incrementamos el contador de intentos fallidos en 1.\n",
        "        intentos += 1\n",
        "        # Y retornamos False y el número de intentos incrementado.\n",
        "        return False, intentos\n",
        "\n",
        "# Definimos la función principal \"main\".\n",
        "def main():\n",
        "    # Inicializamos el contador de intentos en 0.\n",
        "    intentos = 0\n",
        "    # Establecemos el número máximo de intentos permitidos.\n",
        "    max_intentos = 3\n",
        "\n",
        "    # Iniciamos un bucle \"while\" que se repetirá hasta que se agoten los intentos o se haga login exitoso.\n",
        "    while intentos < max_intentos:\n",
        "        # Solicitamos al usuario que ingrese su nombre de usuario y contraseña.\n",
        "        nombre_usuario = input(\"Ingrese su nombre de usuario: \")\n",
        "        contrasena = input(\"Ingrese su contraseña: \")\n",
        "\n",
        "        # Llamamos a la función \"login\" para verificar si los datos ingresados son correctos.\n",
        "        resultado, intentos = login(nombre_usuario, contrasena, intentos)\n",
        "\n",
        "        # Comprobamos el resultado del login.\n",
        "        if resultado:\n",
        "            # Si el resultado es True, el login fue exitoso.\n",
        "            print(\"¡Login exitoso!\")\n",
        "            # Salimos del bucle con \"break\" ya que no es necesario seguir pidiendo credenciales.\n",
        "            break\n",
        "        else:\n",
        "            # Si el resultado es False, el login falló.\n",
        "            print(\"Nombre de usuario o contraseña incorrectos. Intente nuevamente.\")\n",
        "\n",
        "    # Si el bucle termina sin hacer login exitoso, comprobamos si se agotaron los intentos.\n",
        "    if intentos >= max_intentos:\n",
        "        print(\"Ha excedido el número máximo de intentos permitidos.\")\n",
        "\n",
        "# Llamamos a la función principal \"main\" para iniciar el programa.\n",
        "if __name__ == \"__main__\":\n",
        "    main()\n"
      ],
      "metadata": {
        "colab": {
          "base_uri": "https://localhost:8080/"
        },
        "id": "lXLCNuo5WI0E",
        "outputId": "b3f79a2a-4d71-4045-e5a0-759ca38f7db5"
      },
      "execution_count": 189,
      "outputs": [
        {
          "output_type": "stream",
          "name": "stdout",
          "text": [
            "Ingrese su nombre de usuario: usuario1\n",
            "Ingrese su contraseña: asdasd\n",
            "¡Login exitoso!\n"
          ]
        }
      ]
    }
  ],
  "metadata": {
    "colab": {
      "provenance": [],
      "include_colab_link": true
    },
    "kernelspec": {
      "display_name": "Python 3",
      "language": "python",
      "name": "python3"
    },
    "language_info": {
      "codemirror_mode": {
        "name": "ipython",
        "version": 3
      },
      "file_extension": ".py",
      "mimetype": "text/x-python",
      "name": "python",
      "nbconvert_exporter": "python",
      "pygments_lexer": "ipython3",
      "version": "3.8.5"
    },
    "latex_envs": {
      "LaTeX_envs_menu_present": true,
      "autoclose": false,
      "autocomplete": true,
      "bibliofile": "biblio.bib",
      "cite_by": "apalike",
      "current_citInitial": 1,
      "eqLabelWithNumbers": true,
      "eqNumInitial": 1,
      "hotkeys": {
        "equation": "Ctrl-E",
        "itemize": "Ctrl-I"
      },
      "labels_anchors": false,
      "latex_user_defs": false,
      "report_style_numbering": false,
      "user_envs_cfg": false
    },
    "toc": {
      "base_numbering": 1,
      "nav_menu": {},
      "number_sections": true,
      "sideBar": true,
      "skip_h1_title": false,
      "title_cell": "Table of Contents",
      "title_sidebar": "Contents",
      "toc_cell": false,
      "toc_position": {},
      "toc_section_display": true,
      "toc_window_display": false
    },
    "varInspector": {
      "cols": {
        "lenName": 16,
        "lenType": 16,
        "lenVar": 40
      },
      "kernels_config": {
        "python": {
          "delete_cmd_postfix": "",
          "delete_cmd_prefix": "del ",
          "library": "var_list.py",
          "varRefreshCmd": "print(var_dic_list())"
        },
        "r": {
          "delete_cmd_postfix": ") ",
          "delete_cmd_prefix": "rm(",
          "library": "var_list.r",
          "varRefreshCmd": "cat(var_dic_list()) "
        }
      },
      "types_to_exclude": [
        "module",
        "function",
        "builtin_function_or_method",
        "instance",
        "_Feature"
      ],
      "window_display": false
    }
  },
  "nbformat": 4,
  "nbformat_minor": 0
}